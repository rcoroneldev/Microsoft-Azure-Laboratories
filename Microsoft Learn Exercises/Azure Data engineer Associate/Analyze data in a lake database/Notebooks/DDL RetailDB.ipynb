{
  "cells": [
    {
      "cell_type": "code",
      "source": [
        " %%sql\n",
        " INSERT INTO `RetailDB`.`SalesOrder` VALUES (99999, CAST('2022-01-01' AS TimeStamp), 1, 6, 5, 1)"
      ],
      "outputs": [
        {
          "output_type": "display_data",
          "data": {
            "application/vnd.livy.statement-meta+json": {
              "spark_pool": "spark7wpxla9",
              "statement_id": 1,
              "statement_ids": [
                1
              ],
              "state": "finished",
              "livy_statement_state": "available",
              "spark_jobs": null,
              "session_id": "1",
              "normalized_state": "finished",
              "queued_time": "2024-11-29T14:10:29.0145008Z",
              "session_start_time": "2024-11-29T14:10:29.0562469Z",
              "execution_start_time": "2024-11-29T14:13:09.1651668Z",
              "execution_finish_time": "2024-11-29T14:13:35.6573505Z",
              "parent_msg_id": "d50cef0c-3812-42a2-8a86-3d50e70a2bc3"
            },
            "text/plain": "StatementMeta(spark7wpxla9, 1, 1, Finished, Available, Finished)"
          },
          "metadata": {}
        },
        {
          "output_type": "execute_result",
          "execution_count": 1,
          "data": {
            "application/vnd.synapse.sparksql-result+json": {
              "schema": {
                "type": "struct",
                "fields": []
              },
              "data": []
            },
            "text/plain": "<Spark SQL result set with 0 rows and 0 fields>"
          },
          "metadata": {}
        }
      ],
      "execution_count": 1,
      "metadata": {
        "microsoft": {
          "language": "sparksql"
        },
        "collapsed": false
      }
    },
    {
      "cell_type": "code",
      "source": [
        " %%sql\n",
        " \n",
        " SELECT * FROM `RetailDB`.`SalesOrder` WHERE SalesOrderId = 99999"
      ],
      "outputs": [
        {
          "output_type": "display_data",
          "data": {
            "application/vnd.livy.statement-meta+json": {
              "spark_pool": "spark7wpxla9",
              "statement_id": 2,
              "statement_ids": [
                2
              ],
              "state": "finished",
              "livy_statement_state": "available",
              "spark_jobs": null,
              "session_id": "1",
              "normalized_state": "finished",
              "queued_time": "2024-11-29T14:14:36.1275059Z",
              "session_start_time": null,
              "execution_start_time": "2024-11-29T14:14:36.2453471Z",
              "execution_finish_time": "2024-11-29T14:14:44.8405445Z",
              "parent_msg_id": "3d6fcaf3-e2e8-4c4e-9199-636aed94dd77"
            },
            "text/plain": "StatementMeta(spark7wpxla9, 1, 2, Finished, Available, Finished)"
          },
          "metadata": {}
        },
        {
          "output_type": "execute_result",
          "execution_count": 2,
          "data": {
            "application/vnd.synapse.sparksql-result+json": {
              "schema": {
                "type": "struct",
                "fields": [
                  {
                    "name": "SalesOrderId",
                    "type": "long",
                    "nullable": true,
                    "metadata": {}
                  },
                  {
                    "name": "OrderDate",
                    "type": "timestamp",
                    "nullable": true,
                    "metadata": {}
                  },
                  {
                    "name": "LineItemId",
                    "type": "long",
                    "nullable": true,
                    "metadata": {}
                  },
                  {
                    "name": "CustomerId",
                    "type": "long",
                    "nullable": true,
                    "metadata": {}
                  },
                  {
                    "name": "ProductId",
                    "type": "long",
                    "nullable": true,
                    "metadata": {}
                  },
                  {
                    "name": "Quantity",
                    "type": "long",
                    "nullable": true,
                    "metadata": {}
                  }
                ]
              },
              "data": [
                [
                  "99999",
                  "2022-01-01T00:00:00Z",
                  "1",
                  "6",
                  "5",
                  "1"
                ]
              ]
            },
            "text/plain": "<Spark SQL result set with 1 rows and 6 fields>"
          },
          "metadata": {}
        }
      ],
      "execution_count": 2,
      "metadata": {
        "jupyter": {
          "source_hidden": false,
          "outputs_hidden": false
        },
        "nteract": {
          "transient": {
            "deleting": false
          }
        },
        "microsoft": {
          "language": "sparksql"
        },
        "collapsed": false
      }
    }
  ],
  "metadata": {
    "language_info": {
      "name": "python"
    },
    "kernelspec": {
      "name": "synapse_pyspark",
      "language": "Python",
      "display_name": "Synapse PySpark"
    },
    "kernel_info": {
      "name": "synapse_pyspark"
    },
    "save_output": true,
    "synapse_widget": {
      "version": "0.1",
      "state": {}
    }
  },
  "nbformat": 4,
  "nbformat_minor": 2
}