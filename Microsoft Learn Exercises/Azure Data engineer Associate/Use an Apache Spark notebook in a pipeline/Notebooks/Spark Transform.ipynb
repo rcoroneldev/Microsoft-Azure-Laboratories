{
  "cells": [
    {
      "cell_type": "markdown",
      "source": [
        "# Transform data by using Spark\n",
        "\n",
        "This notebook transforms sales order data; converting it from CSV to Parquet format and splitting customer name into two separate fields.\n",
        "\n",
        "## Set variables"
      ],
      "metadata": {}
    },
    {
      "cell_type": "code",
      "source": [
        "import uuid\r\n",
        "\r\n",
        "# Variable for unique folder name\r\n",
        "folderName = uuid.uuid4()"
      ],
      "outputs": [],
      "execution_count": null,
      "metadata": {
        "jupyter": {
          "source_hidden": false,
          "outputs_hidden": false
        },
        "nteract": {
          "transient": {
            "deleting": false
          }
        },
        "tags": [
          "parameters"
        ]
      }
    },
    {
      "cell_type": "markdown",
      "source": [
        "## Load source data\r\n",
        "\r\n",
        "Let's start by loading some historical sales order data into a dataframe."
      ],
      "metadata": {
        "nteract": {
          "transient": {
            "deleting": false
          }
        }
      }
    },
    {
      "cell_type": "markdown",
      "source": [],
      "metadata": {
        "nteract": {
          "transient": {
            "deleting": false
          }
        }
      }
    },
    {
      "cell_type": "code",
      "source": [
        "order_details = spark.read.csv('/data/*.csv', header=True, inferSchema=True)"
      ],
      "outputs": [],
      "execution_count": null,
      "metadata": {
        "collapsed": false
      }
    },
    {
      "cell_type": "markdown",
      "source": [
        "## Transform the data structure\r\n",
        "\r\n",
        "The source data includes a **CustomerName** field, that contains the customer's first and last name. Modify the dataframe to separate this field into separate **FirstName** and **LastName** fields."
      ],
      "metadata": {
        "nteract": {
          "transient": {
            "deleting": false
          }
        }
      }
    },
    {
      "cell_type": "code",
      "source": [
        "from pyspark.sql.functions import split, col\r\n",
        "\r\n",
        "# Create the new FirstName and LastName fields\r\n",
        "transformed_df = order_details.withColumn(\"FirstName\", split(col(\"CustomerName\"), \" \").getItem(0)).withColumn(\"LastName\", split(col(\"CustomerName\"), \" \").getItem(1))\r\n",
        "\r\n",
        "# Remove the CustomerName field\r\n",
        "transformed_df = transformed_df.drop(\"CustomerName\")"
      ],
      "outputs": [],
      "execution_count": null,
      "metadata": {
        "jupyter": {
          "source_hidden": false,
          "outputs_hidden": false
        },
        "nteract": {
          "transient": {
            "deleting": false
          }
        },
        "collapsed": false
      }
    },
    {
      "cell_type": "markdown",
      "source": [
        "## Save the transformed data\r\n",
        "\r\n",
        "Now save the transformed dataframe in Parquet format in a folder specified in a variable (Overwriting the data if it already exists)."
      ],
      "metadata": {
        "nteract": {
          "transient": {
            "deleting": false
          }
        }
      }
    },
    {
      "cell_type": "code",
      "source": [
        "transformed_df.write.mode(\"overwrite\").parquet('/%s' % folderName)\r\n",
        "print (\"Transformed data saved in %s!\" % folderName)"
      ],
      "outputs": [],
      "execution_count": null,
      "metadata": {
        "jupyter": {
          "source_hidden": false,
          "outputs_hidden": false
        },
        "nteract": {
          "transient": {
            "deleting": false
          }
        }
      }
    },
    {
      "cell_type": "code",
      "source": [
        "transformed_df.write.mode(\"overwrite\").parquet(\"/data/test_pipeline_run/test.parquet\")\n",
        "print (\"Transformed data saved in %s!\" % folderName)"
      ],
      "outputs": [],
      "execution_count": null,
      "metadata": {
        "jupyter": {
          "source_hidden": false,
          "outputs_hidden": false
        },
        "nteract": {
          "transient": {
            "deleting": false
          }
        }
      }
    }
  ],
  "metadata": {
    "language_info": {
      "name": "python"
    },
    "kernelspec": {
      "name": "synapse_pyspark",
      "language": "Python",
      "display_name": "Synapse PySpark"
    },
    "kernel_info": {
      "name": "synapse_pyspark"
    },
    "description": null,
    "save_output": true,
    "synapse_widget": {
      "version": "0.1",
      "state": {}
    }
  },
  "nbformat": 4,
  "nbformat_minor": 2
}