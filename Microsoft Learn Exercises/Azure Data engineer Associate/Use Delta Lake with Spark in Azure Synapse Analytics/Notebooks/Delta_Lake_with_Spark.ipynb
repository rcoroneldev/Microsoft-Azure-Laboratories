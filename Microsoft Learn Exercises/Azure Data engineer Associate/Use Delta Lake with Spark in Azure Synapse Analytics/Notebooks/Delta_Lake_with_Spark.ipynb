{
 "cells": [
  {
   "cell_type": "markdown",
   "metadata": {
    "nteract": {
     "transient": {
      "deleting": false
     }
    }
   },
   "source": [
    "## Explore the data in the data lake"
   ]
  },
  {
   "cell_type": "code",
   "execution_count": 14,
   "metadata": {
    "collapsed": false,
    "microsoft": {
     "language": "python"
    }
   },
   "outputs": [
    {
     "data": {
      "application/vnd.livy.statement-meta+json": {
       "execution_finish_time": "2024-12-02T14:15:27.1142168Z",
       "execution_start_time": "2024-12-02T14:15:25.9927681Z",
       "livy_statement_state": "available",
       "normalized_state": "finished",
       "parent_msg_id": "ed9fc93c-48bf-456e-99a4-41a9504e997d",
       "queued_time": "2024-12-02T14:15:25.8065329Z",
       "session_id": "0",
       "session_start_time": null,
       "spark_jobs": null,
       "spark_pool": "sparkfjby2rx",
       "state": "finished",
       "statement_id": 15,
       "statement_ids": [
        15
       ]
      },
      "text/plain": [
       "StatementMeta(sparkfjby2rx, 0, 15, Finished, Available, Finished)"
      ]
     },
     "metadata": {},
     "output_type": "display_data"
    },
    {
     "data": {
      "application/vnd.synapse.widget-view+json": {
       "widget_id": "b9045623-1592-4354-a3bd-e5ed1bb47908",
       "widget_type": "Synapse.DataFrame"
      },
      "text/plain": [
       "SynapseWidget(Synapse.DataFrame, b9045623-1592-4354-a3bd-e5ed1bb47908)"
      ]
     },
     "metadata": {},
     "output_type": "display_data"
    }
   ],
   "source": [
    "%%pyspark\n",
    "df = spark.read.load('abfss://files@datalakefjby2rx.dfs.core.windows.net/products/products.csv', format='csv'\n",
    "## If header exists uncomment line below\n",
    "##, header=True\n",
    ")\n",
    "display(df.limit(10))"
   ]
  },
  {
   "cell_type": "code",
   "execution_count": 15,
   "metadata": {
    "collapsed": false,
    "jupyter": {
     "outputs_hidden": false,
     "source_hidden": false
    },
    "microsoft": {
     "language": "python"
    },
    "nteract": {
     "transient": {
      "deleting": false
     }
    }
   },
   "outputs": [
    {
     "data": {
      "application/vnd.livy.statement-meta+json": {
       "execution_finish_time": "2024-12-02T14:16:18.673375Z",
       "execution_start_time": "2024-12-02T14:16:17.5493057Z",
       "livy_statement_state": "available",
       "normalized_state": "finished",
       "parent_msg_id": "5d5314f0-7dab-49bb-9b46-b725a1b0e5b2",
       "queued_time": "2024-12-02T14:16:17.406851Z",
       "session_id": "0",
       "session_start_time": null,
       "spark_jobs": null,
       "spark_pool": "sparkfjby2rx",
       "state": "finished",
       "statement_id": 16,
       "statement_ids": [
        16
       ]
      },
      "text/plain": [
       "StatementMeta(sparkfjby2rx, 0, 16, Finished, Available, Finished)"
      ]
     },
     "metadata": {},
     "output_type": "display_data"
    },
    {
     "data": {
      "application/vnd.synapse.widget-view+json": {
       "widget_id": "9d0f5935-30e6-46ce-af66-5abb6c849b15",
       "widget_type": "Synapse.DataFrame"
      },
      "text/plain": [
       "SynapseWidget(Synapse.DataFrame, 9d0f5935-30e6-46ce-af66-5abb6c849b15)"
      ]
     },
     "metadata": {},
     "output_type": "display_data"
    }
   ],
   "source": [
    "%%pyspark\n",
    "\n",
    "df = spark.read.load('abfss://files@datalakefjby2rx.dfs.core.windows.net/products/products.csv', format='csv'\n",
    "## If header exists uncomment line below\n",
    ", header=True\n",
    ")\n",
    "display(df.limit(10))"
   ]
  },
  {
   "cell_type": "markdown",
   "metadata": {
    "nteract": {
     "transient": {
      "deleting": false
     }
    }
   },
   "source": [
    "## Load the file data into a delta table"
   ]
  },
  {
   "cell_type": "code",
   "execution_count": 17,
   "metadata": {
    "jupyter": {
     "outputs_hidden": false,
     "source_hidden": false
    },
    "nteract": {
     "transient": {
      "deleting": false
     }
    }
   },
   "outputs": [
    {
     "data": {
      "application/vnd.livy.statement-meta+json": {
       "execution_finish_time": "2024-12-02T14:16:36.5817134Z",
       "execution_start_time": "2024-12-02T14:16:34.6755397Z",
       "livy_statement_state": "available",
       "normalized_state": "finished",
       "parent_msg_id": "457e012b-dbc4-43c6-af58-97e6c612c2ab",
       "queued_time": "2024-12-02T14:16:34.5382319Z",
       "session_id": "0",
       "session_start_time": null,
       "spark_jobs": null,
       "spark_pool": "sparkfjby2rx",
       "state": "finished",
       "statement_id": 18,
       "statement_ids": [
        18
       ]
      },
      "text/plain": [
       "StatementMeta(sparkfjby2rx, 0, 18, Finished, Available, Finished)"
      ]
     },
     "metadata": {},
     "output_type": "display_data"
    }
   ],
   "source": [
    " delta_table_path = \"/delta/products-delta\"\n",
    " df.write.format(\"delta\").save(delta_table_path)\n"
   ]
  },
  {
   "cell_type": "code",
   "execution_count": null,
   "metadata": {
    "collapsed": false,
    "jupyter": {
     "outputs_hidden": false,
     "source_hidden": false
    },
    "nteract": {
     "transient": {
      "deleting": false
     }
    }
   },
   "outputs": [
    {
     "data": {
      "application/vnd.livy.statement-meta+json": {
       "execution_finish_time": "2024-12-02T14:17:05.969653Z",
       "execution_start_time": "2024-12-02T14:16:57.2119047Z",
       "livy_statement_state": "available",
       "normalized_state": "finished",
       "parent_msg_id": "cd5a08dc-9edd-4cc3-be64-d0393bec19c8",
       "queued_time": "2024-12-02T14:16:57.0631049Z",
       "session_id": "0",
       "session_start_time": null,
       "spark_jobs": null,
       "spark_pool": "sparkfjby2rx",
       "state": "finished",
       "statement_id": 19,
       "statement_ids": [
        19
       ]
      },
      "text/plain": [
       "StatementMeta(sparkfjby2rx, 0, 19, Finished, Available, Finished)"
      ]
     },
     "metadata": {},
     "output_type": "display_data"
    },
    {
     "data": {
      "application/vnd.synapse.widget-view+json": {
       "widget_id": "d61e4ece-3dd6-418a-a392-b71744d9f88c",
       "widget_type": "Synapse.DataFrame"
      },
      "text/plain": [
       "SynapseWidget(Synapse.DataFrame, d61e4ece-3dd6-418a-a392-b71744d9f88c)"
      ]
     },
     "metadata": {},
     "output_type": "display_data"
    }
   ],
   "source": [
    " from delta.tables import *\n",
    " from pyspark.sql.functions import *\n",
    "\n",
    " # Create a deltaTable object\n",
    " deltaTable = DeltaTable.forPath(spark, delta_table_path)\n",
    "\n",
    " # Update the table (reduce price of product 771 by 10%)\n",
    " deltaTable.update(\n",
    "     condition = \"ProductID == 771\",\n",
    "     set = { \"ListPrice\": \"ListPrice * 0.9\" })\n",
    "\n",
    " # View the updated data as a dataframe\n",
    " result =deltaTable.toDF()\n",
    "\n",
    " display(result)"
   ]
  },
  {
   "cell_type": "code",
   "execution_count": 19,
   "metadata": {
    "jupyter": {
     "outputs_hidden": false,
     "source_hidden": false
    },
    "nteract": {
     "transient": {
      "deleting": false
     }
    }
   },
   "outputs": [
    {
     "data": {
      "application/vnd.livy.statement-meta+json": {
       "execution_finish_time": "2024-12-02T14:18:23.1371972Z",
       "execution_start_time": "2024-12-02T14:18:22.0341019Z",
       "livy_statement_state": "available",
       "normalized_state": "finished",
       "parent_msg_id": "cd3b7e1d-a7af-4fed-88f8-1316cd9d4c71",
       "queued_time": "2024-12-02T14:18:21.8788521Z",
       "session_id": "0",
       "session_start_time": null,
       "spark_jobs": null,
       "spark_pool": "sparkfjby2rx",
       "state": "finished",
       "statement_id": 20,
       "statement_ids": [
        20
       ]
      },
      "text/plain": [
       "StatementMeta(sparkfjby2rx, 0, 20, Finished, Available, Finished)"
      ]
     },
     "metadata": {},
     "output_type": "display_data"
    },
    {
     "name": "stdout",
     "output_type": "stream",
     "text": [
      "+---------+--------------------+--------------+---------+\n",
      "|ProductID|         ProductName|      Category|ListPrice|\n",
      "+---------+--------------------+--------------+---------+\n",
      "|      771|Mountain-100 Silv...|Mountain Bikes| 3059.991|\n",
      "|      772|Mountain-100 Silv...|Mountain Bikes|3399.9900|\n",
      "|      773|Mountain-100 Silv...|Mountain Bikes|3399.9900|\n",
      "|      774|Mountain-100 Silv...|Mountain Bikes|3399.9900|\n",
      "|      775|Mountain-100 Blac...|Mountain Bikes|3374.9900|\n",
      "|      776|Mountain-100 Blac...|Mountain Bikes|3374.9900|\n",
      "|      777|Mountain-100 Blac...|Mountain Bikes|3374.9900|\n",
      "|      778|Mountain-100 Blac...|Mountain Bikes|3374.9900|\n",
      "|      779|Mountain-200 Silv...|Mountain Bikes|2319.9900|\n",
      "|      780|Mountain-200 Silv...|Mountain Bikes|2319.9900|\n",
      "+---------+--------------------+--------------+---------+\n",
      "only showing top 10 rows\n",
      "\n"
     ]
    }
   ],
   "source": [
    " new_df = spark.read.format(\"delta\").load(delta_table_path)\n",
    " new_df.show(10)"
   ]
  },
  {
   "cell_type": "markdown",
   "metadata": {
    "nteract": {
     "transient": {
      "deleting": false
     }
    }
   },
   "source": [
    "# Check the versionAsOf Dataframe"
   ]
  },
  {
   "cell_type": "code",
   "execution_count": null,
   "metadata": {
    "jupyter": {
     "outputs_hidden": false,
     "source_hidden": false
    },
    "nteract": {
     "transient": {
      "deleting": false
     }
    }
   },
   "outputs": [
    {
     "data": {
      "application/vnd.livy.statement-meta+json": {
       "execution_finish_time": "2024-12-02T14:27:41.8048399Z",
       "execution_start_time": "2024-12-02T14:27:37.7698791Z",
       "livy_statement_state": "available",
       "normalized_state": "finished",
       "parent_msg_id": "8b19a129-ef83-4950-90fe-c42b58a882e8",
       "queued_time": "2024-12-02T14:27:37.6245162Z",
       "session_id": "0",
       "session_start_time": null,
       "spark_jobs": null,
       "spark_pool": "sparkfjby2rx",
       "state": "finished",
       "statement_id": 25,
       "statement_ids": [
        25
       ]
      },
      "text/plain": [
       "StatementMeta(sparkfjby2rx, 0, 25, Finished, Available, Finished)"
      ]
     },
     "metadata": {},
     "output_type": "display_data"
    },
    {
     "name": "stdout",
     "output_type": "stream",
     "text": [
      "+---------+--------------------+--------------+---------+\n",
      "|ProductID|         ProductName|      Category|ListPrice|\n",
      "+---------+--------------------+--------------+---------+\n",
      "|      771|Mountain-100 Silv...|Mountain Bikes|3399.9900|\n",
      "|      772|Mountain-100 Silv...|Mountain Bikes|3399.9900|\n",
      "|      773|Mountain-100 Silv...|Mountain Bikes|3399.9900|\n",
      "|      774|Mountain-100 Silv...|Mountain Bikes|3399.9900|\n",
      "|      775|Mountain-100 Blac...|Mountain Bikes|3374.9900|\n",
      "|      776|Mountain-100 Blac...|Mountain Bikes|3374.9900|\n",
      "|      777|Mountain-100 Blac...|Mountain Bikes|3374.9900|\n",
      "|      778|Mountain-100 Blac...|Mountain Bikes|3374.9900|\n",
      "|      779|Mountain-200 Silv...|Mountain Bikes|2319.9900|\n",
      "|      780|Mountain-200 Silv...|Mountain Bikes|2319.9900|\n",
      "+---------+--------------------+--------------+---------+\n",
      "only showing top 10 rows\n",
      "\n"
     ]
    }
   ],
   "source": [
    " new_df = spark.read.format(\"delta\") \\\n",
    "                    .option(\"versionAsOf\", 0) \\\n",
    "                    .load(delta_table_path)\n",
    " new_df.show(10)"
   ]
  },
  {
   "cell_type": "code",
   "execution_count": 25,
   "metadata": {
    "jupyter": {
     "outputs_hidden": false,
     "source_hidden": false
    },
    "nteract": {
     "transient": {
      "deleting": false
     }
    }
   },
   "outputs": [
    {
     "data": {
      "application/vnd.livy.statement-meta+json": {
       "execution_finish_time": "2024-12-02T14:28:15.7795413Z",
       "execution_start_time": "2024-12-02T14:28:13.8870016Z",
       "livy_statement_state": "available",
       "normalized_state": "finished",
       "parent_msg_id": "ecbb2fd9-1be3-4af5-b580-24770b5cceac",
       "queued_time": "2024-12-02T14:28:13.7134609Z",
       "session_id": "0",
       "session_start_time": null,
       "spark_jobs": null,
       "spark_pool": "sparkfjby2rx",
       "state": "finished",
       "statement_id": 26,
       "statement_ids": [
        26
       ]
      },
      "text/plain": [
       "StatementMeta(sparkfjby2rx, 0, 26, Finished, Available, Finished)"
      ]
     },
     "metadata": {},
     "output_type": "display_data"
    },
    {
     "name": "stdout",
     "output_type": "stream",
     "text": [
      "-RECORD 0-------------------------------------------------------------------------------------------------------------------------------------------------------------------------------------------------------------------------------------------------\n",
      " version             | 1                                                                                                                                                                                                                                  \n",
      " timestamp           | 2024-12-02 14:17:01.608                                                                                                                                                                                                            \n",
      " userId              | null                                                                                                                                                                                                                               \n",
      " userName            | null                                                                                                                                                                                                                               \n",
      " operation           | UPDATE                                                                                                                                                                                                                             \n",
      " operationParameters | {predicate -> [\"(cast(ProductID#3125 as int) = 771)\"]}                                                                                                                                                                             \n",
      " job                 | null                                                                                                                                                                                                                               \n",
      " notebook            | null                                                                                                                                                                                                                               \n",
      " clusterId           | null                                                                                                                                                                                                                               \n",
      " readVersion         | 0                                                                                                                                                                                                                                  \n",
      " isolationLevel      | Serializable                                                                                                                                                                                                                       \n",
      " isBlindAppend       | false                                                                                                                                                                                                                              \n",
      " operationMetrics    | {numRemovedFiles -> 1, numRemovedBytes -> 6233, numCopiedRows -> 294, numAddedChangeFiles -> 0, executionTimeMs -> 4084, scanTimeMs -> 3233, numAddedFiles -> 1, numUpdatedRows -> 1, numAddedBytes -> 6245, rewriteTimeMs -> 851} \n",
      " userMetadata        | null                                                                                                                                                                                                                               \n",
      " engineInfo          | Apache-Spark/3.4.3.5.3.20241016.1 Delta-Lake/2.4.0.19                                                                                                                                                                              \n",
      "-RECORD 1-------------------------------------------------------------------------------------------------------------------------------------------------------------------------------------------------------------------------------------------------\n",
      " version             | 0                                                                                                                                                                                                                                  \n",
      " timestamp           | 2024-12-02 14:16:35.663                                                                                                                                                                                                            \n",
      " userId              | null                                                                                                                                                                                                                               \n",
      " userName            | null                                                                                                                                                                                                                               \n",
      " operation           | WRITE                                                                                                                                                                                                                              \n",
      " operationParameters | {mode -> ErrorIfExists, partitionBy -> []}                                                                                                                                                                                         \n",
      " job                 | null                                                                                                                                                                                                                               \n",
      " notebook            | null                                                                                                                                                                                                                               \n",
      " clusterId           | null                                                                                                                                                                                                                               \n",
      " readVersion         | null                                                                                                                                                                                                                               \n",
      " isolationLevel      | Serializable                                                                                                                                                                                                                       \n",
      " isBlindAppend       | true                                                                                                                                                                                                                               \n",
      " operationMetrics    | {numFiles -> 1, numOutputRows -> 295, numOutputBytes -> 6233}                                                                                                                                                                      \n",
      " userMetadata        | null                                                                                                                                                                                                                               \n",
      " engineInfo          | Apache-Spark/3.4.3.5.3.20241016.1 Delta-Lake/2.4.0.19                                                                                                                                                                              \n",
      "\n"
     ]
    }
   ],
   "source": [
    " deltaTable.history(10).show(20, False, True)"
   ]
  },
  {
   "cell_type": "code",
   "execution_count": 29,
   "metadata": {
    "collapsed": false,
    "jupyter": {
     "outputs_hidden": false,
     "source_hidden": false
    },
    "nteract": {
     "transient": {
      "deleting": false
     }
    }
   },
   "outputs": [
    {
     "data": {
      "application/vnd.livy.statement-meta+json": {
       "execution_finish_time": "2024-12-02T14:32:25.4957288Z",
       "execution_start_time": "2024-12-02T14:32:24.3375421Z",
       "livy_statement_state": "available",
       "normalized_state": "finished",
       "parent_msg_id": "7dd8c2db-dda4-4271-a453-e434e4efbd06",
       "queued_time": "2024-12-02T14:32:24.1433258Z",
       "session_id": "0",
       "session_start_time": null,
       "spark_jobs": null,
       "spark_pool": "sparkfjby2rx",
       "state": "finished",
       "statement_id": 30,
       "statement_ids": [
        30
       ]
      },
      "text/plain": [
       "StatementMeta(sparkfjby2rx, 0, 30, Finished, Available, Finished)"
      ]
     },
     "metadata": {},
     "output_type": "display_data"
    },
    {
     "data": {
      "application/vnd.synapse.widget-view+json": {
       "widget_id": "409a29d8-4d38-4b59-8471-77920b1fbde4",
       "widget_type": "Synapse.DataFrame"
      },
      "text/plain": [
       "SynapseWidget(Synapse.DataFrame, 409a29d8-4d38-4b59-8471-77920b1fbde4)"
      ]
     },
     "metadata": {},
     "output_type": "display_data"
    }
   ],
   "source": [
    "display(deltaTable.history())\n"
   ]
  },
  {
   "cell_type": "markdown",
   "metadata": {
    "nteract": {
     "transient": {
      "deleting": false
     }
    }
   },
   "source": [
    "### Create catalog tables"
   ]
  },
  {
   "cell_type": "markdown",
   "metadata": {
    "nteract": {
     "transient": {
      "deleting": false
     }
    }
   },
   "source": [
    "#### Create an external table"
   ]
  },
  {
   "cell_type": "code",
   "execution_count": 30,
   "metadata": {
    "jupyter": {
     "outputs_hidden": false,
     "source_hidden": false
    },
    "nteract": {
     "transient": {
      "deleting": false
     }
    }
   },
   "outputs": [
    {
     "data": {
      "application/vnd.livy.statement-meta+json": {
       "execution_finish_time": "2024-12-02T14:43:16.0739034Z",
       "execution_start_time": "2024-12-02T14:42:57.0976369Z",
       "livy_statement_state": "available",
       "normalized_state": "finished",
       "parent_msg_id": "b809c4cf-b9e8-45c5-8dc1-a44d908396c1",
       "queued_time": "2024-12-02T14:42:56.8976986Z",
       "session_id": "0",
       "session_start_time": null,
       "spark_jobs": null,
       "spark_pool": "sparkfjby2rx",
       "state": "finished",
       "statement_id": 31,
       "statement_ids": [
        31
       ]
      },
      "text/plain": [
       "StatementMeta(sparkfjby2rx, 0, 31, Finished, Available, Finished)"
      ]
     },
     "metadata": {},
     "output_type": "display_data"
    },
    {
     "name": "stdout",
     "output_type": "stream",
     "text": [
      "+----------------------------+-----------------------------------------------------------------------+-------+\n",
      "|col_name                    |data_type                                                              |comment|\n",
      "+----------------------------+-----------------------------------------------------------------------+-------+\n",
      "|ProductID                   |string                                                                 |null   |\n",
      "|ProductName                 |string                                                                 |null   |\n",
      "|Category                    |string                                                                 |null   |\n",
      "|ListPrice                   |string                                                                 |null   |\n",
      "|                            |                                                                       |       |\n",
      "|# Detailed Table Information|                                                                       |       |\n",
      "|Name                        |spark_catalog.adventureworks.productsexternal                          |       |\n",
      "|Type                        |EXTERNAL                                                               |       |\n",
      "|Location                    |abfss://files@datalakefjby2rx.dfs.core.windows.net/delta/products-delta|       |\n",
      "|Provider                    |delta                                                                  |       |\n",
      "|Owner                       |trusted-service-user                                                   |       |\n",
      "|Table Properties            |[delta.minReaderVersion=1,delta.minWriterVersion=2]                    |       |\n",
      "+----------------------------+-----------------------------------------------------------------------+-------+\n",
      "\n"
     ]
    }
   ],
   "source": [
    " spark.sql(\"CREATE DATABASE AdventureWorks\")\n",
    " spark.sql(\"CREATE TABLE AdventureWorks.ProductsExternal USING DELTA LOCATION '{0}'\".format(delta_table_path))\n",
    " spark.sql(\"DESCRIBE EXTENDED AdventureWorks.ProductsExternal\").show(truncate=False)"
   ]
  },
  {
   "cell_type": "code",
   "execution_count": 31,
   "metadata": {
    "collapsed": false,
    "jupyter": {
     "outputs_hidden": false,
     "source_hidden": false
    },
    "microsoft": {
     "language": "sparksql"
    },
    "nteract": {
     "transient": {
      "deleting": false
     }
    }
   },
   "outputs": [
    {
     "data": {
      "application/vnd.livy.statement-meta+json": {
       "execution_finish_time": "2024-12-02T14:50:55.3351846Z",
       "execution_start_time": "2024-12-02T14:50:53.4637301Z",
       "livy_statement_state": "available",
       "normalized_state": "finished",
       "parent_msg_id": "ad159987-d0c4-4b3e-8c21-204c0ded1b45",
       "queued_time": "2024-12-02T14:50:53.3292045Z",
       "session_id": "0",
       "session_start_time": null,
       "spark_jobs": null,
       "spark_pool": "sparkfjby2rx",
       "state": "finished",
       "statement_id": 32,
       "statement_ids": [
        32
       ]
      },
      "text/plain": [
       "StatementMeta(sparkfjby2rx, 0, 32, Finished, Available, Finished)"
      ]
     },
     "metadata": {},
     "output_type": "display_data"
    },
    {
     "data": {
      "application/vnd.synapse.sparksql-result+json": {
       "data": [
        [
         "771",
         "Mountain-100 Silver, 38",
         "Mountain Bikes",
         "3059.991"
        ],
        [
         "772",
         "Mountain-100 Silver, 42",
         "Mountain Bikes",
         "3399.9900"
        ],
        [
         "773",
         "Mountain-100 Silver, 44",
         "Mountain Bikes",
         "3399.9900"
        ],
        [
         "774",
         "Mountain-100 Silver, 48",
         "Mountain Bikes",
         "3399.9900"
        ],
        [
         "775",
         "Mountain-100 Black, 38",
         "Mountain Bikes",
         "3374.9900"
        ],
        [
         "776",
         "Mountain-100 Black, 42",
         "Mountain Bikes",
         "3374.9900"
        ],
        [
         "777",
         "Mountain-100 Black, 44",
         "Mountain Bikes",
         "3374.9900"
        ],
        [
         "778",
         "Mountain-100 Black, 48",
         "Mountain Bikes",
         "3374.9900"
        ],
        [
         "779",
         "Mountain-200 Silver, 38",
         "Mountain Bikes",
         "2319.9900"
        ],
        [
         "780",
         "Mountain-200 Silver, 42",
         "Mountain Bikes",
         "2319.9900"
        ],
        [
         "781",
         "Mountain-200 Silver, 46",
         "Mountain Bikes",
         "2319.9900"
        ],
        [
         "782",
         "Mountain-200 Black, 38",
         "Mountain Bikes",
         "2294.9900"
        ],
        [
         "783",
         "Mountain-200 Black, 42",
         "Mountain Bikes",
         "2294.9900"
        ],
        [
         "784",
         "Mountain-200 Black, 46",
         "Mountain Bikes",
         "2294.9900"
        ],
        [
         "785",
         "Mountain-300 Black, 38",
         "Mountain Bikes",
         "1079.9900"
        ],
        [
         "786",
         "Mountain-300 Black, 40",
         "Mountain Bikes",
         "1079.9900"
        ],
        [
         "787",
         "Mountain-300 Black, 44",
         "Mountain Bikes",
         "1079.9900"
        ],
        [
         "788",
         "Mountain-300 Black, 48",
         "Mountain Bikes",
         "1079.9900"
        ],
        [
         "980",
         "Mountain-400-W Silver, 38",
         "Mountain Bikes",
         "769.4900"
        ],
        [
         "981",
         "Mountain-400-W Silver, 40",
         "Mountain Bikes",
         "769.4900"
        ],
        [
         "982",
         "Mountain-400-W Silver, 42",
         "Mountain Bikes",
         "769.4900"
        ],
        [
         "983",
         "Mountain-400-W Silver, 46",
         "Mountain Bikes",
         "769.4900"
        ],
        [
         "984",
         "Mountain-500 Silver, 40",
         "Mountain Bikes",
         "564.9900"
        ],
        [
         "985",
         "Mountain-500 Silver, 42",
         "Mountain Bikes",
         "564.9900"
        ],
        [
         "986",
         "Mountain-500 Silver, 44",
         "Mountain Bikes",
         "564.9900"
        ],
        [
         "987",
         "Mountain-500 Silver, 48",
         "Mountain Bikes",
         "564.9900"
        ],
        [
         "988",
         "Mountain-500 Silver, 52",
         "Mountain Bikes",
         "564.9900"
        ],
        [
         "989",
         "Mountain-500 Black, 40",
         "Mountain Bikes",
         "539.9900"
        ],
        [
         "990",
         "Mountain-500 Black, 42",
         "Mountain Bikes",
         "539.9900"
        ],
        [
         "991",
         "Mountain-500 Black, 44",
         "Mountain Bikes",
         "539.9900"
        ],
        [
         "992",
         "Mountain-500 Black, 48",
         "Mountain Bikes",
         "539.9900"
        ],
        [
         "993",
         "Mountain-500 Black, 52",
         "Mountain Bikes",
         "539.9900"
        ],
        [
         "973",
         "Road-350-W Yellow, 40",
         "Road Bikes",
         "1700.9900"
        ],
        [
         "974",
         "Road-350-W Yellow, 42",
         "Road Bikes",
         "1700.9900"
        ],
        [
         "975",
         "Road-350-W Yellow, 44",
         "Road Bikes",
         "1700.9900"
        ],
        [
         "976",
         "Road-350-W Yellow, 48",
         "Road Bikes",
         "1700.9900"
        ],
        [
         "977",
         "Road-750 Black, 58",
         "Road Bikes",
         "539.9900"
        ],
        [
         "997",
         "Road-750 Black, 44",
         "Road Bikes",
         "539.9900"
        ],
        [
         "998",
         "Road-750 Black, 48",
         "Road Bikes",
         "539.9900"
        ],
        [
         "999",
         "Road-750 Black, 52",
         "Road Bikes",
         "539.9900"
        ],
        [
         "789",
         "Road-250 Red, 44",
         "Road Bikes",
         "2443.3500"
        ],
        [
         "790",
         "Road-250 Red, 48",
         "Road Bikes",
         "2443.3500"
        ],
        [
         "791",
         "Road-250 Red, 52",
         "Road Bikes",
         "2443.3500"
        ],
        [
         "792",
         "Road-250 Red, 58",
         "Road Bikes",
         "2443.3500"
        ],
        [
         "793",
         "Road-250 Black, 44",
         "Road Bikes",
         "2443.3500"
        ],
        [
         "794",
         "Road-250 Black, 48",
         "Road Bikes",
         "2443.3500"
        ],
        [
         "795",
         "Road-250 Black, 52",
         "Road Bikes",
         "2443.3500"
        ],
        [
         "796",
         "Road-250 Black, 58",
         "Road Bikes",
         "2443.3500"
        ],
        [
         "797",
         "Road-550-W Yellow, 38",
         "Road Bikes",
         "1120.4900"
        ],
        [
         "798",
         "Road-550-W Yellow, 40",
         "Road Bikes",
         "1120.4900"
        ],
        [
         "799",
         "Road-550-W Yellow, 42",
         "Road Bikes",
         "1120.4900"
        ],
        [
         "800",
         "Road-550-W Yellow, 44",
         "Road Bikes",
         "1120.4900"
        ],
        [
         "801",
         "Road-550-W Yellow, 48",
         "Road Bikes",
         "1120.4900"
        ],
        [
         "749",
         "Road-150 Red, 62",
         "Road Bikes",
         "3578.2700"
        ],
        [
         "750",
         "Road-150 Red, 44",
         "Road Bikes",
         "3578.2700"
        ],
        [
         "751",
         "Road-150 Red, 48",
         "Road Bikes",
         "3578.2700"
        ],
        [
         "752",
         "Road-150 Red, 52",
         "Road Bikes",
         "3578.2700"
        ],
        [
         "753",
         "Road-150 Red, 56",
         "Road Bikes",
         "3578.2700"
        ],
        [
         "754",
         "Road-450 Red, 58",
         "Road Bikes",
         "1457.9900"
        ],
        [
         "755",
         "Road-450 Red, 60",
         "Road Bikes",
         "1457.9900"
        ],
        [
         "756",
         "Road-450 Red, 44",
         "Road Bikes",
         "1457.9900"
        ],
        [
         "757",
         "Road-450 Red, 48",
         "Road Bikes",
         "1457.9900"
        ],
        [
         "758",
         "Road-450 Red, 52",
         "Road Bikes",
         "1457.9900"
        ],
        [
         "759",
         "Road-650 Red, 58",
         "Road Bikes",
         "782.9900"
        ],
        [
         "760",
         "Road-650 Red, 60",
         "Road Bikes",
         "782.9900"
        ],
        [
         "761",
         "Road-650 Red, 62",
         "Road Bikes",
         "782.9900"
        ],
        [
         "762",
         "Road-650 Red, 44",
         "Road Bikes",
         "782.9900"
        ],
        [
         "763",
         "Road-650 Red, 48",
         "Road Bikes",
         "782.9900"
        ],
        [
         "764",
         "Road-650 Red, 52",
         "Road Bikes",
         "782.9900"
        ],
        [
         "765",
         "Road-650 Black, 58",
         "Road Bikes",
         "782.9900"
        ],
        [
         "766",
         "Road-650 Black, 60",
         "Road Bikes",
         "782.9900"
        ],
        [
         "767",
         "Road-650 Black, 62",
         "Road Bikes",
         "782.9900"
        ],
        [
         "768",
         "Road-650 Black, 44",
         "Road Bikes",
         "782.9900"
        ],
        [
         "769",
         "Road-650 Black, 48",
         "Road Bikes",
         "782.9900"
        ],
        [
         "770",
         "Road-650 Black, 52",
         "Road Bikes",
         "782.9900"
        ],
        [
         "978",
         "Touring-3000 Blue, 44",
         "Touring Bikes",
         "742.3500"
        ],
        [
         "979",
         "Touring-3000 Blue, 50",
         "Touring Bikes",
         "742.3500"
        ],
        [
         "953",
         "Touring-2000 Blue, 60",
         "Touring Bikes",
         "1214.8500"
        ],
        [
         "954",
         "Touring-1000 Yellow, 46",
         "Touring Bikes",
         "2384.0700"
        ],
        [
         "955",
         "Touring-1000 Yellow, 50",
         "Touring Bikes",
         "2384.0700"
        ],
        [
         "956",
         "Touring-1000 Yellow, 54",
         "Touring Bikes",
         "2384.0700"
        ],
        [
         "957",
         "Touring-1000 Yellow, 60",
         "Touring Bikes",
         "2384.0700"
        ],
        [
         "958",
         "Touring-3000 Blue, 54",
         "Touring Bikes",
         "742.3500"
        ],
        [
         "959",
         "Touring-3000 Blue, 58",
         "Touring Bikes",
         "742.3500"
        ],
        [
         "960",
         "Touring-3000 Blue, 62",
         "Touring Bikes",
         "742.3500"
        ],
        [
         "961",
         "Touring-3000 Yellow, 44",
         "Touring Bikes",
         "742.3500"
        ],
        [
         "962",
         "Touring-3000 Yellow, 50",
         "Touring Bikes",
         "742.3500"
        ],
        [
         "963",
         "Touring-3000 Yellow, 54",
         "Touring Bikes",
         "742.3500"
        ],
        [
         "964",
         "Touring-3000 Yellow, 58",
         "Touring Bikes",
         "742.3500"
        ],
        [
         "965",
         "Touring-3000 Yellow, 62",
         "Touring Bikes",
         "742.3500"
        ],
        [
         "966",
         "Touring-1000 Blue, 46",
         "Touring Bikes",
         "2384.0700"
        ],
        [
         "967",
         "Touring-1000 Blue, 50",
         "Touring Bikes",
         "2384.0700"
        ],
        [
         "968",
         "Touring-1000 Blue, 54",
         "Touring Bikes",
         "2384.0700"
        ],
        [
         "969",
         "Touring-1000 Blue, 60",
         "Touring Bikes",
         "2384.0700"
        ],
        [
         "970",
         "Touring-2000 Blue, 46",
         "Touring Bikes",
         "1214.8500"
        ],
        [
         "971",
         "Touring-2000 Blue, 50",
         "Touring Bikes",
         "1214.8500"
        ],
        [
         "972",
         "Touring-2000 Blue, 54",
         "Touring Bikes",
         "1214.8500"
        ],
        [
         "946",
         "LL Touring Handlebars",
         "Handlebars",
         "46.0900"
        ],
        [
         "947",
         "HL Touring Handlebars",
         "Handlebars",
         "91.5700"
        ],
        [
         "808",
         "LL Mountain Handlebars",
         "Handlebars",
         "44.5400"
        ],
        [
         "809",
         "ML Mountain Handlebars",
         "Handlebars",
         "61.9200"
        ],
        [
         "810",
         "HL Mountain Handlebars",
         "Handlebars",
         "120.2700"
        ],
        [
         "811",
         "LL Road Handlebars",
         "Handlebars",
         "44.5400"
        ],
        [
         "812",
         "ML Road Handlebars",
         "Handlebars",
         "61.9200"
        ],
        [
         "813",
         "HL Road Handlebars",
         "Handlebars",
         "120.2700"
        ],
        [
         "994",
         "LL Bottom Bracket",
         "Bottom Brackets",
         "53.9900"
        ],
        [
         "995",
         "ML Bottom Bracket",
         "Bottom Brackets",
         "101.2400"
        ],
        [
         "996",
         "HL Bottom Bracket",
         "Bottom Brackets",
         "121.4900"
        ],
        [
         "948",
         "Front Brakes",
         "Brakes",
         "106.5000"
        ],
        [
         "907",
         "Rear Brakes",
         "Brakes",
         "106.5000"
        ],
        [
         "952",
         "Chain",
         "Chains",
         "20.2400"
        ],
        [
         "949",
         "LL Crankset",
         "Cranksets",
         "175.4900"
        ],
        [
         "950",
         "ML Crankset",
         "Cranksets",
         "256.4900"
        ],
        [
         "951",
         "HL Crankset",
         "Cranksets",
         "404.9900"
        ],
        [
         "945",
         "Front Derailleur",
         "Derailleurs",
         "91.4900"
        ],
        [
         "894",
         "Rear Derailleur",
         "Derailleurs",
         "121.4600"
        ],
        [
         "802",
         "LL Fork",
         "Forks",
         "148.2200"
        ],
        [
         "803",
         "ML Fork",
         "Forks",
         "175.4900"
        ],
        [
         "804",
         "HL Fork",
         "Forks",
         "229.4900"
        ],
        [
         "805",
         "LL Headset",
         "Headsets",
         "34.2000"
        ],
        [
         "806",
         "ML Headset",
         "Headsets",
         "102.2900"
        ],
        [
         "807",
         "HL Headset",
         "Headsets",
         "124.7300"
        ],
        [
         "739",
         "HL Mountain Frame - Silver, 42",
         "Mountain Frames",
         "1364.5000"
        ],
        [
         "740",
         "HL Mountain Frame - Silver, 44",
         "Mountain Frames",
         "1364.5000"
        ],
        [
         "741",
         "HL Mountain Frame - Silver, 48",
         "Mountain Frames",
         "1364.5000"
        ],
        [
         "742",
         "HL Mountain Frame - Silver, 46",
         "Mountain Frames",
         "1364.5000"
        ],
        [
         "743",
         "HL Mountain Frame - Black, 42",
         "Mountain Frames",
         "1349.6000"
        ],
        [
         "744",
         "HL Mountain Frame - Black, 44",
         "Mountain Frames",
         "1349.6000"
        ],
        [
         "745",
         "HL Mountain Frame - Black, 48",
         "Mountain Frames",
         "1349.6000"
        ],
        [
         "746",
         "HL Mountain Frame - Black, 46",
         "Mountain Frames",
         "1349.6000"
        ],
        [
         "747",
         "HL Mountain Frame - Black, 38",
         "Mountain Frames",
         "1349.6000"
        ],
        [
         "748",
         "HL Mountain Frame - Silver, 38",
         "Mountain Frames",
         "1364.5000"
        ],
        [
         "814",
         "ML Mountain Frame - Black, 38",
         "Mountain Frames",
         "348.7600"
        ],
        [
         "830",
         "ML Mountain Frame - Black, 40",
         "Mountain Frames",
         "348.7600"
        ],
        [
         "831",
         "ML Mountain Frame - Black, 44",
         "Mountain Frames",
         "348.7600"
        ],
        [
         "832",
         "ML Mountain Frame - Black, 48",
         "Mountain Frames",
         "348.7600"
        ],
        [
         "924",
         "LL Mountain Frame - Black, 42",
         "Mountain Frames",
         "249.7900"
        ],
        [
         "925",
         "LL Mountain Frame - Black, 44",
         "Mountain Frames",
         "249.7900"
        ],
        [
         "926",
         "LL Mountain Frame - Black, 48",
         "Mountain Frames",
         "249.7900"
        ],
        [
         "927",
         "LL Mountain Frame - Black, 52",
         "Mountain Frames",
         "249.7900"
        ],
        [
         "917",
         "LL Mountain Frame - Silver, 42",
         "Mountain Frames",
         "264.0500"
        ],
        [
         "918",
         "LL Mountain Frame - Silver, 44",
         "Mountain Frames",
         "264.0500"
        ],
        [
         "919",
         "LL Mountain Frame - Silver, 48",
         "Mountain Frames",
         "264.0500"
        ],
        [
         "920",
         "LL Mountain Frame - Silver, 52",
         "Mountain Frames",
         "264.0500"
        ],
        [
         "904",
         "ML Mountain Frame-W - Silver, 40",
         "Mountain Frames",
         "364.0900"
        ],
        [
         "905",
         "ML Mountain Frame-W - Silver, 42",
         "Mountain Frames",
         "364.0900"
        ],
        [
         "906",
         "ML Mountain Frame-W - Silver, 46",
         "Mountain Frames",
         "364.0900"
        ],
        [
         "942",
         "ML Mountain Frame-W - Silver, 38",
         "Mountain Frames",
         "364.0900"
        ],
        [
         "943",
         "LL Mountain Frame - Black, 40",
         "Mountain Frames",
         "249.7900"
        ],
        [
         "944",
         "LL Mountain Frame - Silver, 40",
         "Mountain Frames",
         "264.0500"
        ],
        [
         "935",
         "LL Mountain Pedal",
         "Pedals",
         "40.4900"
        ],
        [
         "936",
         "ML Mountain Pedal",
         "Pedals",
         "62.0900"
        ],
        [
         "937",
         "HL Mountain Pedal",
         "Pedals",
         "80.9900"
        ],
        [
         "938",
         "LL Road Pedal",
         "Pedals",
         "40.4900"
        ],
        [
         "939",
         "ML Road Pedal",
         "Pedals",
         "62.0900"
        ],
        [
         "940",
         "HL Road Pedal",
         "Pedals",
         "80.9900"
        ],
        [
         "941",
         "Touring Pedal",
         "Pedals",
         "80.9900"
        ],
        [
         "833",
         "ML Road Frame-W - Yellow, 40",
         "Road Frames",
         "594.8300"
        ],
        [
         "834",
         "ML Road Frame-W - Yellow, 42",
         "Road Frames",
         "594.8300"
        ],
        [
         "835",
         "ML Road Frame-W - Yellow, 44",
         "Road Frames",
         "594.8300"
        ],
        [
         "836",
         "ML Road Frame-W - Yellow, 48",
         "Road Frames",
         "594.8300"
        ],
        [
         "837",
         "HL Road Frame - Black, 62",
         "Road Frames",
         "1431.5000"
        ],
        [
         "838",
         "HL Road Frame - Black, 44",
         "Road Frames",
         "1431.5000"
        ],
        [
         "839",
         "HL Road Frame - Black, 48",
         "Road Frames",
         "1431.5000"
        ],
        [
         "840",
         "HL Road Frame - Black, 52",
         "Road Frames",
         "1431.5000"
        ],
        [
         "822",
         "ML Road Frame-W - Yellow, 38",
         "Road Frames",
         "594.8300"
        ],
        [
         "680",
         "HL Road Frame - Black, 58",
         "Road Frames",
         "1431.5000"
        ],
        [
         "706",
         "HL Road Frame - Red, 58",
         "Road Frames",
         "1431.5000"
        ],
        [
         "717",
         "HL Road Frame - Red, 62",
         "Road Frames",
         "1431.5000"
        ],
        [
         "718",
         "HL Road Frame - Red, 44",
         "Road Frames",
         "1431.5000"
        ],
        [
         "719",
         "HL Road Frame - Red, 48",
         "Road Frames",
         "1431.5000"
        ],
        [
         "720",
         "HL Road Frame - Red, 52",
         "Road Frames",
         "1431.5000"
        ],
        [
         "721",
         "HL Road Frame - Red, 56",
         "Road Frames",
         "1431.5000"
        ],
        [
         "722",
         "LL Road Frame - Black, 58",
         "Road Frames",
         "337.2200"
        ],
        [
         "723",
         "LL Road Frame - Black, 60",
         "Road Frames",
         "337.2200"
        ],
        [
         "724",
         "LL Road Frame - Black, 62",
         "Road Frames",
         "337.2200"
        ],
        [
         "725",
         "LL Road Frame - Red, 44",
         "Road Frames",
         "337.2200"
        ],
        [
         "726",
         "LL Road Frame - Red, 48",
         "Road Frames",
         "337.2200"
        ],
        [
         "727",
         "LL Road Frame - Red, 52",
         "Road Frames",
         "337.2200"
        ],
        [
         "728",
         "LL Road Frame - Red, 58",
         "Road Frames",
         "337.2200"
        ],
        [
         "729",
         "LL Road Frame - Red, 60",
         "Road Frames",
         "337.2200"
        ],
        [
         "730",
         "LL Road Frame - Red, 62",
         "Road Frames",
         "337.2200"
        ],
        [
         "731",
         "ML Road Frame - Red, 44",
         "Road Frames",
         "594.8300"
        ],
        [
         "732",
         "ML Road Frame - Red, 48",
         "Road Frames",
         "594.8300"
        ],
        [
         "733",
         "ML Road Frame - Red, 52",
         "Road Frames",
         "594.8300"
        ],
        [
         "734",
         "ML Road Frame - Red, 58",
         "Road Frames",
         "594.8300"
        ],
        [
         "735",
         "ML Road Frame - Red, 60",
         "Road Frames",
         "594.8300"
        ],
        [
         "736",
         "LL Road Frame - Black, 44",
         "Road Frames",
         "337.2200"
        ],
        [
         "737",
         "LL Road Frame - Black, 48",
         "Road Frames",
         "337.2200"
        ],
        [
         "738",
         "LL Road Frame - Black, 52",
         "Road Frames",
         "337.2200"
        ],
        [
         "908",
         "LL Mountain Seat/Saddle",
         "Saddles",
         "27.1200"
        ],
        [
         "909",
         "ML Mountain Seat/Saddle",
         "Saddles",
         "39.1400"
        ],
        [
         "910",
         "HL Mountain Seat/Saddle",
         "Saddles",
         "52.6400"
        ],
        [
         "911",
         "LL Road Seat/Saddle",
         "Saddles",
         "27.1200"
        ],
        [
         "912",
         "ML Road Seat/Saddle",
         "Saddles",
         "39.1400"
        ],
        [
         "913",
         "HL Road Seat/Saddle",
         "Saddles",
         "52.6400"
        ],
        [
         "914",
         "LL Touring Seat/Saddle",
         "Saddles",
         "27.1200"
        ],
        [
         "915",
         "ML Touring Seat/Saddle",
         "Saddles",
         "39.1400"
        ],
        [
         "916",
         "HL Touring Seat/Saddle",
         "Saddles",
         "52.6400"
        ],
        [
         "895",
         "LL Touring Frame - Blue, 50",
         "Touring Frames",
         "333.4200"
        ],
        [
         "896",
         "LL Touring Frame - Blue, 54",
         "Touring Frames",
         "333.4200"
        ],
        [
         "897",
         "LL Touring Frame - Blue, 58",
         "Touring Frames",
         "333.4200"
        ],
        [
         "898",
         "LL Touring Frame - Blue, 62",
         "Touring Frames",
         "333.4200"
        ],
        [
         "899",
         "LL Touring Frame - Yellow, 44",
         "Touring Frames",
         "333.4200"
        ],
        [
         "900",
         "LL Touring Frame - Yellow, 50",
         "Touring Frames",
         "333.4200"
        ],
        [
         "901",
         "LL Touring Frame - Yellow, 54",
         "Touring Frames",
         "333.4200"
        ],
        [
         "902",
         "LL Touring Frame - Yellow, 58",
         "Touring Frames",
         "333.4200"
        ],
        [
         "903",
         "LL Touring Frame - Blue, 44",
         "Touring Frames",
         "333.4200"
        ],
        [
         "885",
         "HL Touring Frame - Yellow, 60",
         "Touring Frames",
         "1003.9100"
        ],
        [
         "886",
         "LL Touring Frame - Yellow, 62",
         "Touring Frames",
         "333.4200"
        ],
        [
         "887",
         "HL Touring Frame - Yellow, 46",
         "Touring Frames",
         "1003.9100"
        ],
        [
         "888",
         "HL Touring Frame - Yellow, 50",
         "Touring Frames",
         "1003.9100"
        ],
        [
         "889",
         "HL Touring Frame - Yellow, 54",
         "Touring Frames",
         "1003.9100"
        ],
        [
         "890",
         "HL Touring Frame - Blue, 46",
         "Touring Frames",
         "1003.9100"
        ],
        [
         "891",
         "HL Touring Frame - Blue, 50",
         "Touring Frames",
         "1003.9100"
        ],
        [
         "892",
         "HL Touring Frame - Blue, 54",
         "Touring Frames",
         "1003.9100"
        ],
        [
         "893",
         "HL Touring Frame - Blue, 60",
         "Touring Frames",
         "1003.9100"
        ],
        [
         "823",
         "LL Mountain Rear Wheel",
         "Wheels",
         "87.7450"
        ],
        [
         "824",
         "ML Mountain Rear Wheel",
         "Wheels",
         "236.0250"
        ],
        [
         "825",
         "HL Mountain Rear Wheel",
         "Wheels",
         "327.2150"
        ],
        [
         "826",
         "LL Road Rear Wheel",
         "Wheels",
         "112.5650"
        ],
        [
         "827",
         "ML Road Rear Wheel",
         "Wheels",
         "275.3850"
        ],
        [
         "828",
         "HL Road Rear Wheel",
         "Wheels",
         "357.0600"
        ],
        [
         "829",
         "Touring Rear Wheel",
         "Wheels",
         "245.0100"
        ],
        [
         "815",
         "LL Mountain Front Wheel",
         "Wheels",
         "60.7450"
        ],
        [
         "816",
         "ML Mountain Front Wheel",
         "Wheels",
         "209.0250"
        ],
        [
         "817",
         "HL Mountain Front Wheel",
         "Wheels",
         "300.2150"
        ],
        [
         "818",
         "LL Road Front Wheel",
         "Wheels",
         "85.5650"
        ],
        [
         "819",
         "ML Road Front Wheel",
         "Wheels",
         "248.3850"
        ],
        [
         "820",
         "HL Road Front Wheel",
         "Wheels",
         "330.0600"
        ],
        [
         "821",
         "Touring Front Wheel",
         "Wheels",
         "218.0100"
        ],
        [
         "855",
         "Men's Bib-Shorts, S",
         "Bib-Shorts",
         "89.9900"
        ],
        [
         "856",
         "Men's Bib-Shorts, M",
         "Bib-Shorts",
         "89.9900"
        ],
        [
         "857",
         "Men's Bib-Shorts, L",
         "Bib-Shorts",
         "89.9900"
        ],
        [
         "712",
         "AWC Logo Cap",
         "Caps",
         "8.9900"
        ],
        [
         "858",
         "Half-Finger Gloves, S",
         "Gloves",
         "24.4900"
        ],
        [
         "859",
         "Half-Finger Gloves, M",
         "Gloves",
         "24.4900"
        ],
        [
         "860",
         "Half-Finger Gloves, L",
         "Gloves",
         "24.4900"
        ],
        [
         "861",
         "Full-Finger Gloves, S",
         "Gloves",
         "37.9900"
        ],
        [
         "862",
         "Full-Finger Gloves, M",
         "Gloves",
         "37.9900"
        ],
        [
         "863",
         "Full-Finger Gloves, L",
         "Gloves",
         "37.9900"
        ],
        [
         "713",
         "Long-Sleeve Logo Jersey, S",
         "Jerseys",
         "49.9900"
        ],
        [
         "714",
         "Long-Sleeve Logo Jersey, M",
         "Jerseys",
         "49.9900"
        ],
        [
         "715",
         "Long-Sleeve Logo Jersey, L",
         "Jerseys",
         "49.9900"
        ],
        [
         "716",
         "Long-Sleeve Logo Jersey, XL",
         "Jerseys",
         "49.9900"
        ],
        [
         "881",
         "Short-Sleeve Classic Jersey, S",
         "Jerseys",
         "53.9900"
        ],
        [
         "882",
         "Short-Sleeve Classic Jersey, M",
         "Jerseys",
         "53.9900"
        ],
        [
         "883",
         "Short-Sleeve Classic Jersey, L",
         "Jerseys",
         "53.9900"
        ],
        [
         "884",
         "Short-Sleeve Classic Jersey, XL",
         "Jerseys",
         "53.9900"
        ],
        [
         "867",
         "Women's Mountain Shorts, S",
         "Shorts",
         "69.9900"
        ],
        [
         "868",
         "Women's Mountain Shorts, M",
         "Shorts",
         "69.9900"
        ],
        [
         "869",
         "Women's Mountain Shorts, L",
         "Shorts",
         "69.9900"
        ],
        [
         "841",
         "Men's Sports Shorts, S",
         "Shorts",
         "59.9900"
        ],
        [
         "849",
         "Men's Sports Shorts, M",
         "Shorts",
         "59.9900"
        ],
        [
         "850",
         "Men's Sports Shorts, L",
         "Shorts",
         "59.9900"
        ],
        [
         "851",
         "Men's Sports Shorts, XL",
         "Shorts",
         "59.9900"
        ],
        [
         "709",
         "Mountain Bike Socks, M",
         "Socks",
         "9.5000"
        ],
        [
         "710",
         "Mountain Bike Socks, L",
         "Socks",
         "9.5000"
        ],
        [
         "874",
         "Racing Socks, M",
         "Socks",
         "8.9900"
        ],
        [
         "875",
         "Racing Socks, L",
         "Socks",
         "8.9900"
        ],
        [
         "852",
         "Women's Tights, S",
         "Tights",
         "74.9900"
        ],
        [
         "853",
         "Women's Tights, M",
         "Tights",
         "74.9900"
        ],
        [
         "854",
         "Women's Tights, L",
         "Tights",
         "74.9900"
        ],
        [
         "864",
         "Classic Vest, S",
         "Vests",
         "63.5000"
        ],
        [
         "865",
         "Classic Vest, M",
         "Vests",
         "63.5000"
        ],
        [
         "866",
         "Classic Vest, L",
         "Vests",
         "63.5000"
        ],
        [
         "876",
         "Hitch Rack - 4-Bike",
         "Bike Racks",
         "120.0000"
        ],
        [
         "879",
         "All-Purpose Bike Stand",
         "Bike Stands",
         "159.0000"
        ],
        [
         "870",
         "Water Bottle - 30 oz.",
         "Bottles and Cages",
         "4.9900"
        ],
        [
         "871",
         "Mountain Bottle Cage",
         "Bottles and Cages",
         "9.9900"
        ],
        [
         "872",
         "Road Bottle Cage",
         "Bottles and Cages",
         "8.9900"
        ],
        [
         "877",
         "Bike Wash - Dissolver",
         "Cleaners",
         "7.9500"
        ],
        [
         "878",
         "Fender Set - Mountain",
         "Fenders",
         "21.9800"
        ],
        [
         "711",
         "Sport-100 Helmet, Blue",
         "Helmets",
         "34.9900"
        ],
        [
         "707",
         "Sport-100 Helmet, Red",
         "Helmets",
         "34.9900"
        ],
        [
         "708",
         "Sport-100 Helmet, Black",
         "Helmets",
         "34.9900"
        ],
        [
         "880",
         "Hydration Pack - 70 oz.",
         "Hydration Packs",
         "54.9900"
        ],
        [
         "846",
         "Taillights - Battery-Powered",
         "Lights",
         "13.9900"
        ],
        [
         "847",
         "Headlights - Dual-Beam",
         "Lights",
         "34.9900"
        ],
        [
         "848",
         "Headlights - Weatherproof",
         "Lights",
         "44.9900"
        ],
        [
         "843",
         "Cable Lock",
         "Locks",
         "25.0000"
        ],
        [
         "842",
         "Touring-Panniers, Large",
         "Panniers",
         "125.0000"
        ],
        [
         "844",
         "Minipump",
         "Pumps",
         "19.9900"
        ],
        [
         "845",
         "Mountain Pump",
         "Pumps",
         "24.9900"
        ],
        [
         "873",
         "Patch Kit/8 Patches",
         "Tires and Tubes",
         "2.2900"
        ],
        [
         "921",
         "Mountain Tire Tube",
         "Tires and Tubes",
         "4.9900"
        ],
        [
         "922",
         "Road Tire Tube",
         "Tires and Tubes",
         "3.9900"
        ],
        [
         "923",
         "Touring Tire Tube",
         "Tires and Tubes",
         "4.9900"
        ],
        [
         "928",
         "LL Mountain Tire",
         "Tires and Tubes",
         "24.9900"
        ],
        [
         "929",
         "ML Mountain Tire",
         "Tires and Tubes",
         "29.9900"
        ],
        [
         "930",
         "HL Mountain Tire",
         "Tires and Tubes",
         "35.0000"
        ],
        [
         "931",
         "LL Road Tire",
         "Tires and Tubes",
         "21.4900"
        ],
        [
         "932",
         "ML Road Tire",
         "Tires and Tubes",
         "24.9900"
        ],
        [
         "933",
         "HL Road Tire",
         "Tires and Tubes",
         "32.6000"
        ],
        [
         "934",
         "Touring Tire",
         "Tires and Tubes",
         "28.9900"
        ]
       ],
       "schema": {
        "fields": [
         {
          "metadata": {},
          "name": "ProductID",
          "nullable": true,
          "type": "string"
         },
         {
          "metadata": {},
          "name": "ProductName",
          "nullable": true,
          "type": "string"
         },
         {
          "metadata": {},
          "name": "Category",
          "nullable": true,
          "type": "string"
         },
         {
          "metadata": {},
          "name": "ListPrice",
          "nullable": true,
          "type": "string"
         }
        ],
        "type": "struct"
       }
      },
      "text/plain": [
       "<Spark SQL result set with 295 rows and 4 fields>"
      ]
     },
     "execution_count": 31,
     "metadata": {},
     "output_type": "execute_result"
    }
   ],
   "source": [
    " %%sql\n",
    "\n",
    " USE AdventureWorks;\n",
    "\n",
    " SELECT * FROM ProductsExternal;"
   ]
  },
  {
   "cell_type": "markdown",
   "metadata": {
    "nteract": {
     "transient": {
      "deleting": false
     }
    }
   },
   "source": [
    "### Create a managed table"
   ]
  },
  {
   "cell_type": "code",
   "execution_count": 32,
   "metadata": {
    "jupyter": {
     "outputs_hidden": false,
     "source_hidden": false
    },
    "nteract": {
     "transient": {
      "deleting": false
     }
    }
   },
   "outputs": [
    {
     "data": {
      "application/vnd.livy.statement-meta+json": {
       "execution_finish_time": "2024-12-02T15:01:04.3420331Z",
       "execution_start_time": "2024-12-02T15:01:00.3080926Z",
       "livy_statement_state": "available",
       "normalized_state": "finished",
       "parent_msg_id": "00cbec00-a4d3-44f0-9065-42b9d8122a0b",
       "queued_time": "2024-12-02T15:01:00.1631383Z",
       "session_id": "0",
       "session_start_time": null,
       "spark_jobs": null,
       "spark_pool": "sparkfjby2rx",
       "state": "finished",
       "statement_id": 33,
       "statement_ids": [
        33
       ]
      },
      "text/plain": [
       "StatementMeta(sparkfjby2rx, 0, 33, Finished, Available, Finished)"
      ]
     },
     "metadata": {},
     "output_type": "display_data"
    },
    {
     "name": "stdout",
     "output_type": "stream",
     "text": [
      "+----------------------------+--------------------------------------------------------------------------------------------------------------------------------+-------+\n",
      "|col_name                    |data_type                                                                                                                       |comment|\n",
      "+----------------------------+--------------------------------------------------------------------------------------------------------------------------------+-------+\n",
      "|ProductID                   |string                                                                                                                          |null   |\n",
      "|ProductName                 |string                                                                                                                          |null   |\n",
      "|Category                    |string                                                                                                                          |null   |\n",
      "|ListPrice                   |string                                                                                                                          |null   |\n",
      "|                            |                                                                                                                                |       |\n",
      "|# Detailed Table Information|                                                                                                                                |       |\n",
      "|Name                        |spark_catalog.adventureworks.productsmanaged                                                                                    |       |\n",
      "|Type                        |MANAGED                                                                                                                         |       |\n",
      "|Location                    |abfss://files@datalakefjby2rx.dfs.core.windows.net/synapse/workspaces/synapsefjby2rx/warehouse/adventureworks.db/productsmanaged|       |\n",
      "|Provider                    |delta                                                                                                                           |       |\n",
      "|Owner                       |trusted-service-user                                                                                                            |       |\n",
      "|Table Properties            |[delta.minReaderVersion=1,delta.minWriterVersion=2]                                                                             |       |\n",
      "+----------------------------+--------------------------------------------------------------------------------------------------------------------------------+-------+\n",
      "\n"
     ]
    }
   ],
   "source": [
    "\n",
    " df.write.format(\"delta\").saveAsTable(\"AdventureWorks.ProductsManaged\")\n",
    " spark.sql(\"DESCRIBE EXTENDED AdventureWorks.ProductsManaged\").show(truncate=False)"
   ]
  },
  {
   "cell_type": "code",
   "execution_count": 33,
   "metadata": {
    "collapsed": false,
    "jupyter": {
     "outputs_hidden": false,
     "source_hidden": false
    },
    "microsoft": {
     "language": "sparksql"
    },
    "nteract": {
     "transient": {
      "deleting": false
     }
    }
   },
   "outputs": [
    {
     "data": {
      "application/vnd.livy.statement-meta+json": {
       "execution_finish_time": "2024-12-02T15:06:18.9278265Z",
       "execution_start_time": "2024-12-02T15:06:13.4610379Z",
       "livy_statement_state": "available",
       "normalized_state": "finished",
       "parent_msg_id": "87f9b3cc-432b-4111-bd6a-c2e8c6106ad7",
       "queued_time": "2024-12-02T15:06:13.3352367Z",
       "session_id": "0",
       "session_start_time": null,
       "spark_jobs": null,
       "spark_pool": "sparkfjby2rx",
       "state": "finished",
       "statement_id": 35,
       "statement_ids": [
        34,
        35
       ]
      },
      "text/plain": [
       "StatementMeta(sparkfjby2rx, 0, 35, Finished, Available, Finished)"
      ]
     },
     "metadata": {},
     "output_type": "display_data"
    },
    {
     "data": {
      "application/vnd.synapse.sparksql-result+json": {
       "data": [],
       "schema": {
        "fields": [],
        "type": "struct"
       }
      },
      "text/plain": [
       "<Spark SQL result set with 0 rows and 0 fields>"
      ]
     },
     "execution_count": 33,
     "metadata": {},
     "output_type": "execute_result"
    },
    {
     "data": {
      "application/vnd.synapse.sparksql-result+json": {
       "data": [
        [
         "771",
         "Mountain-100 Silver, 38",
         "Mountain Bikes",
         "3399.9900"
        ],
        [
         "772",
         "Mountain-100 Silver, 42",
         "Mountain Bikes",
         "3399.9900"
        ],
        [
         "773",
         "Mountain-100 Silver, 44",
         "Mountain Bikes",
         "3399.9900"
        ],
        [
         "774",
         "Mountain-100 Silver, 48",
         "Mountain Bikes",
         "3399.9900"
        ],
        [
         "775",
         "Mountain-100 Black, 38",
         "Mountain Bikes",
         "3374.9900"
        ],
        [
         "776",
         "Mountain-100 Black, 42",
         "Mountain Bikes",
         "3374.9900"
        ],
        [
         "777",
         "Mountain-100 Black, 44",
         "Mountain Bikes",
         "3374.9900"
        ],
        [
         "778",
         "Mountain-100 Black, 48",
         "Mountain Bikes",
         "3374.9900"
        ],
        [
         "779",
         "Mountain-200 Silver, 38",
         "Mountain Bikes",
         "2319.9900"
        ],
        [
         "780",
         "Mountain-200 Silver, 42",
         "Mountain Bikes",
         "2319.9900"
        ],
        [
         "781",
         "Mountain-200 Silver, 46",
         "Mountain Bikes",
         "2319.9900"
        ],
        [
         "782",
         "Mountain-200 Black, 38",
         "Mountain Bikes",
         "2294.9900"
        ],
        [
         "783",
         "Mountain-200 Black, 42",
         "Mountain Bikes",
         "2294.9900"
        ],
        [
         "784",
         "Mountain-200 Black, 46",
         "Mountain Bikes",
         "2294.9900"
        ],
        [
         "785",
         "Mountain-300 Black, 38",
         "Mountain Bikes",
         "1079.9900"
        ],
        [
         "786",
         "Mountain-300 Black, 40",
         "Mountain Bikes",
         "1079.9900"
        ],
        [
         "787",
         "Mountain-300 Black, 44",
         "Mountain Bikes",
         "1079.9900"
        ],
        [
         "788",
         "Mountain-300 Black, 48",
         "Mountain Bikes",
         "1079.9900"
        ],
        [
         "980",
         "Mountain-400-W Silver, 38",
         "Mountain Bikes",
         "769.4900"
        ],
        [
         "981",
         "Mountain-400-W Silver, 40",
         "Mountain Bikes",
         "769.4900"
        ],
        [
         "982",
         "Mountain-400-W Silver, 42",
         "Mountain Bikes",
         "769.4900"
        ],
        [
         "983",
         "Mountain-400-W Silver, 46",
         "Mountain Bikes",
         "769.4900"
        ],
        [
         "984",
         "Mountain-500 Silver, 40",
         "Mountain Bikes",
         "564.9900"
        ],
        [
         "985",
         "Mountain-500 Silver, 42",
         "Mountain Bikes",
         "564.9900"
        ],
        [
         "986",
         "Mountain-500 Silver, 44",
         "Mountain Bikes",
         "564.9900"
        ],
        [
         "987",
         "Mountain-500 Silver, 48",
         "Mountain Bikes",
         "564.9900"
        ],
        [
         "988",
         "Mountain-500 Silver, 52",
         "Mountain Bikes",
         "564.9900"
        ],
        [
         "989",
         "Mountain-500 Black, 40",
         "Mountain Bikes",
         "539.9900"
        ],
        [
         "990",
         "Mountain-500 Black, 42",
         "Mountain Bikes",
         "539.9900"
        ],
        [
         "991",
         "Mountain-500 Black, 44",
         "Mountain Bikes",
         "539.9900"
        ],
        [
         "992",
         "Mountain-500 Black, 48",
         "Mountain Bikes",
         "539.9900"
        ],
        [
         "993",
         "Mountain-500 Black, 52",
         "Mountain Bikes",
         "539.9900"
        ],
        [
         "973",
         "Road-350-W Yellow, 40",
         "Road Bikes",
         "1700.9900"
        ],
        [
         "974",
         "Road-350-W Yellow, 42",
         "Road Bikes",
         "1700.9900"
        ],
        [
         "975",
         "Road-350-W Yellow, 44",
         "Road Bikes",
         "1700.9900"
        ],
        [
         "976",
         "Road-350-W Yellow, 48",
         "Road Bikes",
         "1700.9900"
        ],
        [
         "977",
         "Road-750 Black, 58",
         "Road Bikes",
         "539.9900"
        ],
        [
         "997",
         "Road-750 Black, 44",
         "Road Bikes",
         "539.9900"
        ],
        [
         "998",
         "Road-750 Black, 48",
         "Road Bikes",
         "539.9900"
        ],
        [
         "999",
         "Road-750 Black, 52",
         "Road Bikes",
         "539.9900"
        ],
        [
         "789",
         "Road-250 Red, 44",
         "Road Bikes",
         "2443.3500"
        ],
        [
         "790",
         "Road-250 Red, 48",
         "Road Bikes",
         "2443.3500"
        ],
        [
         "791",
         "Road-250 Red, 52",
         "Road Bikes",
         "2443.3500"
        ],
        [
         "792",
         "Road-250 Red, 58",
         "Road Bikes",
         "2443.3500"
        ],
        [
         "793",
         "Road-250 Black, 44",
         "Road Bikes",
         "2443.3500"
        ],
        [
         "794",
         "Road-250 Black, 48",
         "Road Bikes",
         "2443.3500"
        ],
        [
         "795",
         "Road-250 Black, 52",
         "Road Bikes",
         "2443.3500"
        ],
        [
         "796",
         "Road-250 Black, 58",
         "Road Bikes",
         "2443.3500"
        ],
        [
         "797",
         "Road-550-W Yellow, 38",
         "Road Bikes",
         "1120.4900"
        ],
        [
         "798",
         "Road-550-W Yellow, 40",
         "Road Bikes",
         "1120.4900"
        ],
        [
         "799",
         "Road-550-W Yellow, 42",
         "Road Bikes",
         "1120.4900"
        ],
        [
         "800",
         "Road-550-W Yellow, 44",
         "Road Bikes",
         "1120.4900"
        ],
        [
         "801",
         "Road-550-W Yellow, 48",
         "Road Bikes",
         "1120.4900"
        ],
        [
         "749",
         "Road-150 Red, 62",
         "Road Bikes",
         "3578.2700"
        ],
        [
         "750",
         "Road-150 Red, 44",
         "Road Bikes",
         "3578.2700"
        ],
        [
         "751",
         "Road-150 Red, 48",
         "Road Bikes",
         "3578.2700"
        ],
        [
         "752",
         "Road-150 Red, 52",
         "Road Bikes",
         "3578.2700"
        ],
        [
         "753",
         "Road-150 Red, 56",
         "Road Bikes",
         "3578.2700"
        ],
        [
         "754",
         "Road-450 Red, 58",
         "Road Bikes",
         "1457.9900"
        ],
        [
         "755",
         "Road-450 Red, 60",
         "Road Bikes",
         "1457.9900"
        ],
        [
         "756",
         "Road-450 Red, 44",
         "Road Bikes",
         "1457.9900"
        ],
        [
         "757",
         "Road-450 Red, 48",
         "Road Bikes",
         "1457.9900"
        ],
        [
         "758",
         "Road-450 Red, 52",
         "Road Bikes",
         "1457.9900"
        ],
        [
         "759",
         "Road-650 Red, 58",
         "Road Bikes",
         "782.9900"
        ],
        [
         "760",
         "Road-650 Red, 60",
         "Road Bikes",
         "782.9900"
        ],
        [
         "761",
         "Road-650 Red, 62",
         "Road Bikes",
         "782.9900"
        ],
        [
         "762",
         "Road-650 Red, 44",
         "Road Bikes",
         "782.9900"
        ],
        [
         "763",
         "Road-650 Red, 48",
         "Road Bikes",
         "782.9900"
        ],
        [
         "764",
         "Road-650 Red, 52",
         "Road Bikes",
         "782.9900"
        ],
        [
         "765",
         "Road-650 Black, 58",
         "Road Bikes",
         "782.9900"
        ],
        [
         "766",
         "Road-650 Black, 60",
         "Road Bikes",
         "782.9900"
        ],
        [
         "767",
         "Road-650 Black, 62",
         "Road Bikes",
         "782.9900"
        ],
        [
         "768",
         "Road-650 Black, 44",
         "Road Bikes",
         "782.9900"
        ],
        [
         "769",
         "Road-650 Black, 48",
         "Road Bikes",
         "782.9900"
        ],
        [
         "770",
         "Road-650 Black, 52",
         "Road Bikes",
         "782.9900"
        ],
        [
         "978",
         "Touring-3000 Blue, 44",
         "Touring Bikes",
         "742.3500"
        ],
        [
         "979",
         "Touring-3000 Blue, 50",
         "Touring Bikes",
         "742.3500"
        ],
        [
         "953",
         "Touring-2000 Blue, 60",
         "Touring Bikes",
         "1214.8500"
        ],
        [
         "954",
         "Touring-1000 Yellow, 46",
         "Touring Bikes",
         "2384.0700"
        ],
        [
         "955",
         "Touring-1000 Yellow, 50",
         "Touring Bikes",
         "2384.0700"
        ],
        [
         "956",
         "Touring-1000 Yellow, 54",
         "Touring Bikes",
         "2384.0700"
        ],
        [
         "957",
         "Touring-1000 Yellow, 60",
         "Touring Bikes",
         "2384.0700"
        ],
        [
         "958",
         "Touring-3000 Blue, 54",
         "Touring Bikes",
         "742.3500"
        ],
        [
         "959",
         "Touring-3000 Blue, 58",
         "Touring Bikes",
         "742.3500"
        ],
        [
         "960",
         "Touring-3000 Blue, 62",
         "Touring Bikes",
         "742.3500"
        ],
        [
         "961",
         "Touring-3000 Yellow, 44",
         "Touring Bikes",
         "742.3500"
        ],
        [
         "962",
         "Touring-3000 Yellow, 50",
         "Touring Bikes",
         "742.3500"
        ],
        [
         "963",
         "Touring-3000 Yellow, 54",
         "Touring Bikes",
         "742.3500"
        ],
        [
         "964",
         "Touring-3000 Yellow, 58",
         "Touring Bikes",
         "742.3500"
        ],
        [
         "965",
         "Touring-3000 Yellow, 62",
         "Touring Bikes",
         "742.3500"
        ],
        [
         "966",
         "Touring-1000 Blue, 46",
         "Touring Bikes",
         "2384.0700"
        ],
        [
         "967",
         "Touring-1000 Blue, 50",
         "Touring Bikes",
         "2384.0700"
        ],
        [
         "968",
         "Touring-1000 Blue, 54",
         "Touring Bikes",
         "2384.0700"
        ],
        [
         "969",
         "Touring-1000 Blue, 60",
         "Touring Bikes",
         "2384.0700"
        ],
        [
         "970",
         "Touring-2000 Blue, 46",
         "Touring Bikes",
         "1214.8500"
        ],
        [
         "971",
         "Touring-2000 Blue, 50",
         "Touring Bikes",
         "1214.8500"
        ],
        [
         "972",
         "Touring-2000 Blue, 54",
         "Touring Bikes",
         "1214.8500"
        ],
        [
         "946",
         "LL Touring Handlebars",
         "Handlebars",
         "46.0900"
        ],
        [
         "947",
         "HL Touring Handlebars",
         "Handlebars",
         "91.5700"
        ],
        [
         "808",
         "LL Mountain Handlebars",
         "Handlebars",
         "44.5400"
        ],
        [
         "809",
         "ML Mountain Handlebars",
         "Handlebars",
         "61.9200"
        ],
        [
         "810",
         "HL Mountain Handlebars",
         "Handlebars",
         "120.2700"
        ],
        [
         "811",
         "LL Road Handlebars",
         "Handlebars",
         "44.5400"
        ],
        [
         "812",
         "ML Road Handlebars",
         "Handlebars",
         "61.9200"
        ],
        [
         "813",
         "HL Road Handlebars",
         "Handlebars",
         "120.2700"
        ],
        [
         "994",
         "LL Bottom Bracket",
         "Bottom Brackets",
         "53.9900"
        ],
        [
         "995",
         "ML Bottom Bracket",
         "Bottom Brackets",
         "101.2400"
        ],
        [
         "996",
         "HL Bottom Bracket",
         "Bottom Brackets",
         "121.4900"
        ],
        [
         "948",
         "Front Brakes",
         "Brakes",
         "106.5000"
        ],
        [
         "907",
         "Rear Brakes",
         "Brakes",
         "106.5000"
        ],
        [
         "952",
         "Chain",
         "Chains",
         "20.2400"
        ],
        [
         "949",
         "LL Crankset",
         "Cranksets",
         "175.4900"
        ],
        [
         "950",
         "ML Crankset",
         "Cranksets",
         "256.4900"
        ],
        [
         "951",
         "HL Crankset",
         "Cranksets",
         "404.9900"
        ],
        [
         "945",
         "Front Derailleur",
         "Derailleurs",
         "91.4900"
        ],
        [
         "894",
         "Rear Derailleur",
         "Derailleurs",
         "121.4600"
        ],
        [
         "802",
         "LL Fork",
         "Forks",
         "148.2200"
        ],
        [
         "803",
         "ML Fork",
         "Forks",
         "175.4900"
        ],
        [
         "804",
         "HL Fork",
         "Forks",
         "229.4900"
        ],
        [
         "805",
         "LL Headset",
         "Headsets",
         "34.2000"
        ],
        [
         "806",
         "ML Headset",
         "Headsets",
         "102.2900"
        ],
        [
         "807",
         "HL Headset",
         "Headsets",
         "124.7300"
        ],
        [
         "739",
         "HL Mountain Frame - Silver, 42",
         "Mountain Frames",
         "1364.5000"
        ],
        [
         "740",
         "HL Mountain Frame - Silver, 44",
         "Mountain Frames",
         "1364.5000"
        ],
        [
         "741",
         "HL Mountain Frame - Silver, 48",
         "Mountain Frames",
         "1364.5000"
        ],
        [
         "742",
         "HL Mountain Frame - Silver, 46",
         "Mountain Frames",
         "1364.5000"
        ],
        [
         "743",
         "HL Mountain Frame - Black, 42",
         "Mountain Frames",
         "1349.6000"
        ],
        [
         "744",
         "HL Mountain Frame - Black, 44",
         "Mountain Frames",
         "1349.6000"
        ],
        [
         "745",
         "HL Mountain Frame - Black, 48",
         "Mountain Frames",
         "1349.6000"
        ],
        [
         "746",
         "HL Mountain Frame - Black, 46",
         "Mountain Frames",
         "1349.6000"
        ],
        [
         "747",
         "HL Mountain Frame - Black, 38",
         "Mountain Frames",
         "1349.6000"
        ],
        [
         "748",
         "HL Mountain Frame - Silver, 38",
         "Mountain Frames",
         "1364.5000"
        ],
        [
         "814",
         "ML Mountain Frame - Black, 38",
         "Mountain Frames",
         "348.7600"
        ],
        [
         "830",
         "ML Mountain Frame - Black, 40",
         "Mountain Frames",
         "348.7600"
        ],
        [
         "831",
         "ML Mountain Frame - Black, 44",
         "Mountain Frames",
         "348.7600"
        ],
        [
         "832",
         "ML Mountain Frame - Black, 48",
         "Mountain Frames",
         "348.7600"
        ],
        [
         "924",
         "LL Mountain Frame - Black, 42",
         "Mountain Frames",
         "249.7900"
        ],
        [
         "925",
         "LL Mountain Frame - Black, 44",
         "Mountain Frames",
         "249.7900"
        ],
        [
         "926",
         "LL Mountain Frame - Black, 48",
         "Mountain Frames",
         "249.7900"
        ],
        [
         "927",
         "LL Mountain Frame - Black, 52",
         "Mountain Frames",
         "249.7900"
        ],
        [
         "917",
         "LL Mountain Frame - Silver, 42",
         "Mountain Frames",
         "264.0500"
        ],
        [
         "918",
         "LL Mountain Frame - Silver, 44",
         "Mountain Frames",
         "264.0500"
        ],
        [
         "919",
         "LL Mountain Frame - Silver, 48",
         "Mountain Frames",
         "264.0500"
        ],
        [
         "920",
         "LL Mountain Frame - Silver, 52",
         "Mountain Frames",
         "264.0500"
        ],
        [
         "904",
         "ML Mountain Frame-W - Silver, 40",
         "Mountain Frames",
         "364.0900"
        ],
        [
         "905",
         "ML Mountain Frame-W - Silver, 42",
         "Mountain Frames",
         "364.0900"
        ],
        [
         "906",
         "ML Mountain Frame-W - Silver, 46",
         "Mountain Frames",
         "364.0900"
        ],
        [
         "942",
         "ML Mountain Frame-W - Silver, 38",
         "Mountain Frames",
         "364.0900"
        ],
        [
         "943",
         "LL Mountain Frame - Black, 40",
         "Mountain Frames",
         "249.7900"
        ],
        [
         "944",
         "LL Mountain Frame - Silver, 40",
         "Mountain Frames",
         "264.0500"
        ],
        [
         "935",
         "LL Mountain Pedal",
         "Pedals",
         "40.4900"
        ],
        [
         "936",
         "ML Mountain Pedal",
         "Pedals",
         "62.0900"
        ],
        [
         "937",
         "HL Mountain Pedal",
         "Pedals",
         "80.9900"
        ],
        [
         "938",
         "LL Road Pedal",
         "Pedals",
         "40.4900"
        ],
        [
         "939",
         "ML Road Pedal",
         "Pedals",
         "62.0900"
        ],
        [
         "940",
         "HL Road Pedal",
         "Pedals",
         "80.9900"
        ],
        [
         "941",
         "Touring Pedal",
         "Pedals",
         "80.9900"
        ],
        [
         "833",
         "ML Road Frame-W - Yellow, 40",
         "Road Frames",
         "594.8300"
        ],
        [
         "834",
         "ML Road Frame-W - Yellow, 42",
         "Road Frames",
         "594.8300"
        ],
        [
         "835",
         "ML Road Frame-W - Yellow, 44",
         "Road Frames",
         "594.8300"
        ],
        [
         "836",
         "ML Road Frame-W - Yellow, 48",
         "Road Frames",
         "594.8300"
        ],
        [
         "837",
         "HL Road Frame - Black, 62",
         "Road Frames",
         "1431.5000"
        ],
        [
         "838",
         "HL Road Frame - Black, 44",
         "Road Frames",
         "1431.5000"
        ],
        [
         "839",
         "HL Road Frame - Black, 48",
         "Road Frames",
         "1431.5000"
        ],
        [
         "840",
         "HL Road Frame - Black, 52",
         "Road Frames",
         "1431.5000"
        ],
        [
         "822",
         "ML Road Frame-W - Yellow, 38",
         "Road Frames",
         "594.8300"
        ],
        [
         "680",
         "HL Road Frame - Black, 58",
         "Road Frames",
         "1431.5000"
        ],
        [
         "706",
         "HL Road Frame - Red, 58",
         "Road Frames",
         "1431.5000"
        ],
        [
         "717",
         "HL Road Frame - Red, 62",
         "Road Frames",
         "1431.5000"
        ],
        [
         "718",
         "HL Road Frame - Red, 44",
         "Road Frames",
         "1431.5000"
        ],
        [
         "719",
         "HL Road Frame - Red, 48",
         "Road Frames",
         "1431.5000"
        ],
        [
         "720",
         "HL Road Frame - Red, 52",
         "Road Frames",
         "1431.5000"
        ],
        [
         "721",
         "HL Road Frame - Red, 56",
         "Road Frames",
         "1431.5000"
        ],
        [
         "722",
         "LL Road Frame - Black, 58",
         "Road Frames",
         "337.2200"
        ],
        [
         "723",
         "LL Road Frame - Black, 60",
         "Road Frames",
         "337.2200"
        ],
        [
         "724",
         "LL Road Frame - Black, 62",
         "Road Frames",
         "337.2200"
        ],
        [
         "725",
         "LL Road Frame - Red, 44",
         "Road Frames",
         "337.2200"
        ],
        [
         "726",
         "LL Road Frame - Red, 48",
         "Road Frames",
         "337.2200"
        ],
        [
         "727",
         "LL Road Frame - Red, 52",
         "Road Frames",
         "337.2200"
        ],
        [
         "728",
         "LL Road Frame - Red, 58",
         "Road Frames",
         "337.2200"
        ],
        [
         "729",
         "LL Road Frame - Red, 60",
         "Road Frames",
         "337.2200"
        ],
        [
         "730",
         "LL Road Frame - Red, 62",
         "Road Frames",
         "337.2200"
        ],
        [
         "731",
         "ML Road Frame - Red, 44",
         "Road Frames",
         "594.8300"
        ],
        [
         "732",
         "ML Road Frame - Red, 48",
         "Road Frames",
         "594.8300"
        ],
        [
         "733",
         "ML Road Frame - Red, 52",
         "Road Frames",
         "594.8300"
        ],
        [
         "734",
         "ML Road Frame - Red, 58",
         "Road Frames",
         "594.8300"
        ],
        [
         "735",
         "ML Road Frame - Red, 60",
         "Road Frames",
         "594.8300"
        ],
        [
         "736",
         "LL Road Frame - Black, 44",
         "Road Frames",
         "337.2200"
        ],
        [
         "737",
         "LL Road Frame - Black, 48",
         "Road Frames",
         "337.2200"
        ],
        [
         "738",
         "LL Road Frame - Black, 52",
         "Road Frames",
         "337.2200"
        ],
        [
         "908",
         "LL Mountain Seat/Saddle",
         "Saddles",
         "27.1200"
        ],
        [
         "909",
         "ML Mountain Seat/Saddle",
         "Saddles",
         "39.1400"
        ],
        [
         "910",
         "HL Mountain Seat/Saddle",
         "Saddles",
         "52.6400"
        ],
        [
         "911",
         "LL Road Seat/Saddle",
         "Saddles",
         "27.1200"
        ],
        [
         "912",
         "ML Road Seat/Saddle",
         "Saddles",
         "39.1400"
        ],
        [
         "913",
         "HL Road Seat/Saddle",
         "Saddles",
         "52.6400"
        ],
        [
         "914",
         "LL Touring Seat/Saddle",
         "Saddles",
         "27.1200"
        ],
        [
         "915",
         "ML Touring Seat/Saddle",
         "Saddles",
         "39.1400"
        ],
        [
         "916",
         "HL Touring Seat/Saddle",
         "Saddles",
         "52.6400"
        ],
        [
         "895",
         "LL Touring Frame - Blue, 50",
         "Touring Frames",
         "333.4200"
        ],
        [
         "896",
         "LL Touring Frame - Blue, 54",
         "Touring Frames",
         "333.4200"
        ],
        [
         "897",
         "LL Touring Frame - Blue, 58",
         "Touring Frames",
         "333.4200"
        ],
        [
         "898",
         "LL Touring Frame - Blue, 62",
         "Touring Frames",
         "333.4200"
        ],
        [
         "899",
         "LL Touring Frame - Yellow, 44",
         "Touring Frames",
         "333.4200"
        ],
        [
         "900",
         "LL Touring Frame - Yellow, 50",
         "Touring Frames",
         "333.4200"
        ],
        [
         "901",
         "LL Touring Frame - Yellow, 54",
         "Touring Frames",
         "333.4200"
        ],
        [
         "902",
         "LL Touring Frame - Yellow, 58",
         "Touring Frames",
         "333.4200"
        ],
        [
         "903",
         "LL Touring Frame - Blue, 44",
         "Touring Frames",
         "333.4200"
        ],
        [
         "885",
         "HL Touring Frame - Yellow, 60",
         "Touring Frames",
         "1003.9100"
        ],
        [
         "886",
         "LL Touring Frame - Yellow, 62",
         "Touring Frames",
         "333.4200"
        ],
        [
         "887",
         "HL Touring Frame - Yellow, 46",
         "Touring Frames",
         "1003.9100"
        ],
        [
         "888",
         "HL Touring Frame - Yellow, 50",
         "Touring Frames",
         "1003.9100"
        ],
        [
         "889",
         "HL Touring Frame - Yellow, 54",
         "Touring Frames",
         "1003.9100"
        ],
        [
         "890",
         "HL Touring Frame - Blue, 46",
         "Touring Frames",
         "1003.9100"
        ],
        [
         "891",
         "HL Touring Frame - Blue, 50",
         "Touring Frames",
         "1003.9100"
        ],
        [
         "892",
         "HL Touring Frame - Blue, 54",
         "Touring Frames",
         "1003.9100"
        ],
        [
         "893",
         "HL Touring Frame - Blue, 60",
         "Touring Frames",
         "1003.9100"
        ],
        [
         "823",
         "LL Mountain Rear Wheel",
         "Wheels",
         "87.7450"
        ],
        [
         "824",
         "ML Mountain Rear Wheel",
         "Wheels",
         "236.0250"
        ],
        [
         "825",
         "HL Mountain Rear Wheel",
         "Wheels",
         "327.2150"
        ],
        [
         "826",
         "LL Road Rear Wheel",
         "Wheels",
         "112.5650"
        ],
        [
         "827",
         "ML Road Rear Wheel",
         "Wheels",
         "275.3850"
        ],
        [
         "828",
         "HL Road Rear Wheel",
         "Wheels",
         "357.0600"
        ],
        [
         "829",
         "Touring Rear Wheel",
         "Wheels",
         "245.0100"
        ],
        [
         "815",
         "LL Mountain Front Wheel",
         "Wheels",
         "60.7450"
        ],
        [
         "816",
         "ML Mountain Front Wheel",
         "Wheels",
         "209.0250"
        ],
        [
         "817",
         "HL Mountain Front Wheel",
         "Wheels",
         "300.2150"
        ],
        [
         "818",
         "LL Road Front Wheel",
         "Wheels",
         "85.5650"
        ],
        [
         "819",
         "ML Road Front Wheel",
         "Wheels",
         "248.3850"
        ],
        [
         "820",
         "HL Road Front Wheel",
         "Wheels",
         "330.0600"
        ],
        [
         "821",
         "Touring Front Wheel",
         "Wheels",
         "218.0100"
        ],
        [
         "855",
         "Men's Bib-Shorts, S",
         "Bib-Shorts",
         "89.9900"
        ],
        [
         "856",
         "Men's Bib-Shorts, M",
         "Bib-Shorts",
         "89.9900"
        ],
        [
         "857",
         "Men's Bib-Shorts, L",
         "Bib-Shorts",
         "89.9900"
        ],
        [
         "712",
         "AWC Logo Cap",
         "Caps",
         "8.9900"
        ],
        [
         "858",
         "Half-Finger Gloves, S",
         "Gloves",
         "24.4900"
        ],
        [
         "859",
         "Half-Finger Gloves, M",
         "Gloves",
         "24.4900"
        ],
        [
         "860",
         "Half-Finger Gloves, L",
         "Gloves",
         "24.4900"
        ],
        [
         "861",
         "Full-Finger Gloves, S",
         "Gloves",
         "37.9900"
        ],
        [
         "862",
         "Full-Finger Gloves, M",
         "Gloves",
         "37.9900"
        ],
        [
         "863",
         "Full-Finger Gloves, L",
         "Gloves",
         "37.9900"
        ],
        [
         "713",
         "Long-Sleeve Logo Jersey, S",
         "Jerseys",
         "49.9900"
        ],
        [
         "714",
         "Long-Sleeve Logo Jersey, M",
         "Jerseys",
         "49.9900"
        ],
        [
         "715",
         "Long-Sleeve Logo Jersey, L",
         "Jerseys",
         "49.9900"
        ],
        [
         "716",
         "Long-Sleeve Logo Jersey, XL",
         "Jerseys",
         "49.9900"
        ],
        [
         "881",
         "Short-Sleeve Classic Jersey, S",
         "Jerseys",
         "53.9900"
        ],
        [
         "882",
         "Short-Sleeve Classic Jersey, M",
         "Jerseys",
         "53.9900"
        ],
        [
         "883",
         "Short-Sleeve Classic Jersey, L",
         "Jerseys",
         "53.9900"
        ],
        [
         "884",
         "Short-Sleeve Classic Jersey, XL",
         "Jerseys",
         "53.9900"
        ],
        [
         "867",
         "Women's Mountain Shorts, S",
         "Shorts",
         "69.9900"
        ],
        [
         "868",
         "Women's Mountain Shorts, M",
         "Shorts",
         "69.9900"
        ],
        [
         "869",
         "Women's Mountain Shorts, L",
         "Shorts",
         "69.9900"
        ],
        [
         "841",
         "Men's Sports Shorts, S",
         "Shorts",
         "59.9900"
        ],
        [
         "849",
         "Men's Sports Shorts, M",
         "Shorts",
         "59.9900"
        ],
        [
         "850",
         "Men's Sports Shorts, L",
         "Shorts",
         "59.9900"
        ],
        [
         "851",
         "Men's Sports Shorts, XL",
         "Shorts",
         "59.9900"
        ],
        [
         "709",
         "Mountain Bike Socks, M",
         "Socks",
         "9.5000"
        ],
        [
         "710",
         "Mountain Bike Socks, L",
         "Socks",
         "9.5000"
        ],
        [
         "874",
         "Racing Socks, M",
         "Socks",
         "8.9900"
        ],
        [
         "875",
         "Racing Socks, L",
         "Socks",
         "8.9900"
        ],
        [
         "852",
         "Women's Tights, S",
         "Tights",
         "74.9900"
        ],
        [
         "853",
         "Women's Tights, M",
         "Tights",
         "74.9900"
        ],
        [
         "854",
         "Women's Tights, L",
         "Tights",
         "74.9900"
        ],
        [
         "864",
         "Classic Vest, S",
         "Vests",
         "63.5000"
        ],
        [
         "865",
         "Classic Vest, M",
         "Vests",
         "63.5000"
        ],
        [
         "866",
         "Classic Vest, L",
         "Vests",
         "63.5000"
        ],
        [
         "876",
         "Hitch Rack - 4-Bike",
         "Bike Racks",
         "120.0000"
        ],
        [
         "879",
         "All-Purpose Bike Stand",
         "Bike Stands",
         "159.0000"
        ],
        [
         "870",
         "Water Bottle - 30 oz.",
         "Bottles and Cages",
         "4.9900"
        ],
        [
         "871",
         "Mountain Bottle Cage",
         "Bottles and Cages",
         "9.9900"
        ],
        [
         "872",
         "Road Bottle Cage",
         "Bottles and Cages",
         "8.9900"
        ],
        [
         "877",
         "Bike Wash - Dissolver",
         "Cleaners",
         "7.9500"
        ],
        [
         "878",
         "Fender Set - Mountain",
         "Fenders",
         "21.9800"
        ],
        [
         "711",
         "Sport-100 Helmet, Blue",
         "Helmets",
         "34.9900"
        ],
        [
         "707",
         "Sport-100 Helmet, Red",
         "Helmets",
         "34.9900"
        ],
        [
         "708",
         "Sport-100 Helmet, Black",
         "Helmets",
         "34.9900"
        ],
        [
         "880",
         "Hydration Pack - 70 oz.",
         "Hydration Packs",
         "54.9900"
        ],
        [
         "846",
         "Taillights - Battery-Powered",
         "Lights",
         "13.9900"
        ],
        [
         "847",
         "Headlights - Dual-Beam",
         "Lights",
         "34.9900"
        ],
        [
         "848",
         "Headlights - Weatherproof",
         "Lights",
         "44.9900"
        ],
        [
         "843",
         "Cable Lock",
         "Locks",
         "25.0000"
        ],
        [
         "842",
         "Touring-Panniers, Large",
         "Panniers",
         "125.0000"
        ],
        [
         "844",
         "Minipump",
         "Pumps",
         "19.9900"
        ],
        [
         "845",
         "Mountain Pump",
         "Pumps",
         "24.9900"
        ],
        [
         "873",
         "Patch Kit/8 Patches",
         "Tires and Tubes",
         "2.2900"
        ],
        [
         "921",
         "Mountain Tire Tube",
         "Tires and Tubes",
         "4.9900"
        ],
        [
         "922",
         "Road Tire Tube",
         "Tires and Tubes",
         "3.9900"
        ],
        [
         "923",
         "Touring Tire Tube",
         "Tires and Tubes",
         "4.9900"
        ],
        [
         "928",
         "LL Mountain Tire",
         "Tires and Tubes",
         "24.9900"
        ],
        [
         "929",
         "ML Mountain Tire",
         "Tires and Tubes",
         "29.9900"
        ],
        [
         "930",
         "HL Mountain Tire",
         "Tires and Tubes",
         "35.0000"
        ],
        [
         "931",
         "LL Road Tire",
         "Tires and Tubes",
         "21.4900"
        ],
        [
         "932",
         "ML Road Tire",
         "Tires and Tubes",
         "24.9900"
        ],
        [
         "933",
         "HL Road Tire",
         "Tires and Tubes",
         "32.6000"
        ],
        [
         "934",
         "Touring Tire",
         "Tires and Tubes",
         "28.9900"
        ]
       ],
       "schema": {
        "fields": [
         {
          "metadata": {},
          "name": "ProductID",
          "nullable": true,
          "type": "string"
         },
         {
          "metadata": {},
          "name": "ProductName",
          "nullable": true,
          "type": "string"
         },
         {
          "metadata": {},
          "name": "Category",
          "nullable": true,
          "type": "string"
         },
         {
          "metadata": {},
          "name": "ListPrice",
          "nullable": true,
          "type": "string"
         }
        ],
        "type": "struct"
       }
      },
      "text/plain": [
       "<Spark SQL result set with 295 rows and 4 fields>"
      ]
     },
     "execution_count": 33,
     "metadata": {},
     "output_type": "execute_result"
    }
   ],
   "source": [
    " %%sql\n",
    "\n",
    " USE AdventureWorks;\n",
    "\n",
    " SELECT * FROM ProductsManaged;"
   ]
  },
  {
   "cell_type": "markdown",
   "metadata": {
    "nteract": {
     "transient": {
      "deleting": false
     }
    }
   },
   "source": [
    "### Compare external and managed tables"
   ]
  },
  {
   "cell_type": "code",
   "execution_count": 34,
   "metadata": {
    "collapsed": false,
    "jupyter": {
     "outputs_hidden": false,
     "source_hidden": false
    },
    "microsoft": {
     "language": "sparksql"
    },
    "nteract": {
     "transient": {
      "deleting": false
     }
    }
   },
   "outputs": [
    {
     "data": {
      "application/vnd.livy.statement-meta+json": {
       "execution_finish_time": "2024-12-02T15:19:17.6561487Z",
       "execution_start_time": "2024-12-02T15:19:15.202199Z",
       "livy_statement_state": "available",
       "normalized_state": "finished",
       "parent_msg_id": "9938c8db-9b36-430e-af86-677ede00ef60",
       "queued_time": "2024-12-02T15:19:15.0816217Z",
       "session_id": "0",
       "session_start_time": null,
       "spark_jobs": null,
       "spark_pool": "sparkfjby2rx",
       "state": "finished",
       "statement_id": 37,
       "statement_ids": [
        36,
        37
       ]
      },
      "text/plain": [
       "StatementMeta(sparkfjby2rx, 0, 37, Finished, Available, Finished)"
      ]
     },
     "metadata": {},
     "output_type": "display_data"
    },
    {
     "data": {
      "application/vnd.synapse.sparksql-result+json": {
       "data": [],
       "schema": {
        "fields": [],
        "type": "struct"
       }
      },
      "text/plain": [
       "<Spark SQL result set with 0 rows and 0 fields>"
      ]
     },
     "execution_count": 34,
     "metadata": {},
     "output_type": "execute_result"
    },
    {
     "data": {
      "application/vnd.synapse.sparksql-result+json": {
       "data": [
        [
         "adventureworks",
         "productsexternal",
         false
        ],
        [
         "adventureworks",
         "productsmanaged",
         false
        ]
       ],
       "schema": {
        "fields": [
         {
          "metadata": {},
          "name": "namespace",
          "nullable": false,
          "type": "string"
         },
         {
          "metadata": {},
          "name": "tableName",
          "nullable": false,
          "type": "string"
         },
         {
          "metadata": {},
          "name": "isTemporary",
          "nullable": false,
          "type": "boolean"
         }
        ],
        "type": "struct"
       }
      },
      "text/plain": [
       "<Spark SQL result set with 2 rows and 3 fields>"
      ]
     },
     "execution_count": 34,
     "metadata": {},
     "output_type": "execute_result"
    }
   ],
   "source": [
    " %%sql\n",
    "\n",
    " USE AdventureWorks;\n",
    "\n",
    " SHOW TABLES;"
   ]
  },
  {
   "cell_type": "code",
   "execution_count": 35,
   "metadata": {
    "collapsed": false,
    "jupyter": {
     "outputs_hidden": false,
     "source_hidden": false
    },
    "microsoft": {
     "language": "sparksql"
    },
    "nteract": {
     "transient": {
      "deleting": false
     }
    }
   },
   "outputs": [
    {
     "data": {
      "application/vnd.livy.statement-meta+json": {
       "execution_finish_time": "2024-12-02T15:20:57.4711895Z",
       "execution_start_time": "2024-12-02T15:20:52.2643916Z",
       "livy_statement_state": "available",
       "normalized_state": "finished",
       "parent_msg_id": "8a035d1b-1893-4cce-97a5-7fd8f3052e39",
       "queued_time": "2024-12-02T15:20:52.1394857Z",
       "session_id": "0",
       "session_start_time": null,
       "spark_jobs": null,
       "spark_pool": "sparkfjby2rx",
       "state": "finished",
       "statement_id": 40,
       "statement_ids": [
        38,
        39,
        40
       ]
      },
      "text/plain": [
       "StatementMeta(sparkfjby2rx, 0, 40, Finished, Available, Finished)"
      ]
     },
     "metadata": {},
     "output_type": "display_data"
    },
    {
     "data": {
      "application/vnd.synapse.sparksql-result+json": {
       "data": [],
       "schema": {
        "fields": [],
        "type": "struct"
       }
      },
      "text/plain": [
       "<Spark SQL result set with 0 rows and 0 fields>"
      ]
     },
     "execution_count": 35,
     "metadata": {},
     "output_type": "execute_result"
    },
    {
     "data": {
      "application/vnd.synapse.sparksql-result+json": {
       "data": [],
       "schema": {
        "fields": [],
        "type": "struct"
       }
      },
      "text/plain": [
       "<Spark SQL result set with 0 rows and 0 fields>"
      ]
     },
     "execution_count": 35,
     "metadata": {},
     "output_type": "execute_result"
    },
    {
     "data": {
      "application/vnd.synapse.sparksql-result+json": {
       "data": [],
       "schema": {
        "fields": [],
        "type": "struct"
       }
      },
      "text/plain": [
       "<Spark SQL result set with 0 rows and 0 fields>"
      ]
     },
     "execution_count": 35,
     "metadata": {},
     "output_type": "execute_result"
    }
   ],
   "source": [
    " %%sql\n",
    "\n",
    " USE AdventureWorks;\n",
    "\n",
    " DROP TABLE IF EXISTS ProductsExternal;\n",
    " DROP TABLE IF EXISTS ProductsManaged;"
   ]
  },
  {
   "cell_type": "markdown",
   "metadata": {
    "nteract": {
     "transient": {
      "deleting": false
     }
    }
   },
   "source": [
    "### Create a table using SQL"
   ]
  },
  {
   "cell_type": "code",
   "execution_count": 37,
   "metadata": {
    "collapsed": false,
    "jupyter": {
     "outputs_hidden": false,
     "source_hidden": false
    },
    "microsoft": {
     "language": "sparksql"
    },
    "nteract": {
     "transient": {
      "deleting": false
     }
    }
   },
   "outputs": [
    {
     "data": {
      "application/vnd.livy.statement-meta+json": {
       "execution_finish_time": "2024-12-02T15:25:42.3286482Z",
       "execution_start_time": "2024-12-02T15:25:38.1469834Z",
       "livy_statement_state": "available",
       "normalized_state": "finished",
       "parent_msg_id": "8dfb0cca-8dfc-4bc0-9231-d3ffe31ad302",
       "queued_time": "2024-12-02T15:25:38.0197641Z",
       "session_id": "0",
       "session_start_time": null,
       "spark_jobs": null,
       "spark_pool": "sparkfjby2rx",
       "state": "finished",
       "statement_id": 44,
       "statement_ids": [
        43,
        44
       ]
      },
      "text/plain": [
       "StatementMeta(sparkfjby2rx, 0, 44, Finished, Available, Finished)"
      ]
     },
     "metadata": {},
     "output_type": "display_data"
    },
    {
     "data": {
      "application/vnd.synapse.sparksql-result+json": {
       "data": [],
       "schema": {
        "fields": [],
        "type": "struct"
       }
      },
      "text/plain": [
       "<Spark SQL result set with 0 rows and 0 fields>"
      ]
     },
     "execution_count": 37,
     "metadata": {},
     "output_type": "execute_result"
    },
    {
     "data": {
      "application/vnd.synapse.sparksql-result+json": {
       "data": [],
       "schema": {
        "fields": [],
        "type": "struct"
       }
      },
      "text/plain": [
       "<Spark SQL result set with 0 rows and 0 fields>"
      ]
     },
     "execution_count": 37,
     "metadata": {},
     "output_type": "execute_result"
    }
   ],
   "source": [
    " %%sql\n",
    "\n",
    " USE AdventureWorks;\n",
    "\n",
    " CREATE TABLE Products\n",
    " USING DELTA\n",
    " LOCATION '/delta/products-delta';"
   ]
  },
  {
   "cell_type": "code",
   "execution_count": 38,
   "metadata": {
    "collapsed": false,
    "jupyter": {
     "outputs_hidden": false,
     "source_hidden": false
    },
    "microsoft": {
     "language": "sparksql"
    },
    "nteract": {
     "transient": {
      "deleting": false
     }
    }
   },
   "outputs": [
    {
     "data": {
      "application/vnd.livy.statement-meta+json": {
       "execution_finish_time": "2024-12-02T15:25:51.6204646Z",
       "execution_start_time": "2024-12-02T15:25:50.4051724Z",
       "livy_statement_state": "available",
       "normalized_state": "finished",
       "parent_msg_id": "5ff26757-ab29-4124-bf0b-2bc46fc6d407",
       "queued_time": "2024-12-02T15:25:50.2851989Z",
       "session_id": "0",
       "session_start_time": null,
       "spark_jobs": null,
       "spark_pool": "sparkfjby2rx",
       "state": "finished",
       "statement_id": 46,
       "statement_ids": [
        45,
        46
       ]
      },
      "text/plain": [
       "StatementMeta(sparkfjby2rx, 0, 46, Finished, Available, Finished)"
      ]
     },
     "metadata": {},
     "output_type": "display_data"
    },
    {
     "data": {
      "application/vnd.synapse.sparksql-result+json": {
       "data": [],
       "schema": {
        "fields": [],
        "type": "struct"
       }
      },
      "text/plain": [
       "<Spark SQL result set with 0 rows and 0 fields>"
      ]
     },
     "execution_count": 38,
     "metadata": {},
     "output_type": "execute_result"
    },
    {
     "data": {
      "application/vnd.synapse.sparksql-result+json": {
       "data": [
        [
         "771",
         "Mountain-100 Silver, 38",
         "Mountain Bikes",
         "3059.991"
        ],
        [
         "772",
         "Mountain-100 Silver, 42",
         "Mountain Bikes",
         "3399.9900"
        ],
        [
         "773",
         "Mountain-100 Silver, 44",
         "Mountain Bikes",
         "3399.9900"
        ],
        [
         "774",
         "Mountain-100 Silver, 48",
         "Mountain Bikes",
         "3399.9900"
        ],
        [
         "775",
         "Mountain-100 Black, 38",
         "Mountain Bikes",
         "3374.9900"
        ],
        [
         "776",
         "Mountain-100 Black, 42",
         "Mountain Bikes",
         "3374.9900"
        ],
        [
         "777",
         "Mountain-100 Black, 44",
         "Mountain Bikes",
         "3374.9900"
        ],
        [
         "778",
         "Mountain-100 Black, 48",
         "Mountain Bikes",
         "3374.9900"
        ],
        [
         "779",
         "Mountain-200 Silver, 38",
         "Mountain Bikes",
         "2319.9900"
        ],
        [
         "780",
         "Mountain-200 Silver, 42",
         "Mountain Bikes",
         "2319.9900"
        ],
        [
         "781",
         "Mountain-200 Silver, 46",
         "Mountain Bikes",
         "2319.9900"
        ],
        [
         "782",
         "Mountain-200 Black, 38",
         "Mountain Bikes",
         "2294.9900"
        ],
        [
         "783",
         "Mountain-200 Black, 42",
         "Mountain Bikes",
         "2294.9900"
        ],
        [
         "784",
         "Mountain-200 Black, 46",
         "Mountain Bikes",
         "2294.9900"
        ],
        [
         "785",
         "Mountain-300 Black, 38",
         "Mountain Bikes",
         "1079.9900"
        ],
        [
         "786",
         "Mountain-300 Black, 40",
         "Mountain Bikes",
         "1079.9900"
        ],
        [
         "787",
         "Mountain-300 Black, 44",
         "Mountain Bikes",
         "1079.9900"
        ],
        [
         "788",
         "Mountain-300 Black, 48",
         "Mountain Bikes",
         "1079.9900"
        ],
        [
         "980",
         "Mountain-400-W Silver, 38",
         "Mountain Bikes",
         "769.4900"
        ],
        [
         "981",
         "Mountain-400-W Silver, 40",
         "Mountain Bikes",
         "769.4900"
        ],
        [
         "982",
         "Mountain-400-W Silver, 42",
         "Mountain Bikes",
         "769.4900"
        ],
        [
         "983",
         "Mountain-400-W Silver, 46",
         "Mountain Bikes",
         "769.4900"
        ],
        [
         "984",
         "Mountain-500 Silver, 40",
         "Mountain Bikes",
         "564.9900"
        ],
        [
         "985",
         "Mountain-500 Silver, 42",
         "Mountain Bikes",
         "564.9900"
        ],
        [
         "986",
         "Mountain-500 Silver, 44",
         "Mountain Bikes",
         "564.9900"
        ],
        [
         "987",
         "Mountain-500 Silver, 48",
         "Mountain Bikes",
         "564.9900"
        ],
        [
         "988",
         "Mountain-500 Silver, 52",
         "Mountain Bikes",
         "564.9900"
        ],
        [
         "989",
         "Mountain-500 Black, 40",
         "Mountain Bikes",
         "539.9900"
        ],
        [
         "990",
         "Mountain-500 Black, 42",
         "Mountain Bikes",
         "539.9900"
        ],
        [
         "991",
         "Mountain-500 Black, 44",
         "Mountain Bikes",
         "539.9900"
        ],
        [
         "992",
         "Mountain-500 Black, 48",
         "Mountain Bikes",
         "539.9900"
        ],
        [
         "993",
         "Mountain-500 Black, 52",
         "Mountain Bikes",
         "539.9900"
        ],
        [
         "973",
         "Road-350-W Yellow, 40",
         "Road Bikes",
         "1700.9900"
        ],
        [
         "974",
         "Road-350-W Yellow, 42",
         "Road Bikes",
         "1700.9900"
        ],
        [
         "975",
         "Road-350-W Yellow, 44",
         "Road Bikes",
         "1700.9900"
        ],
        [
         "976",
         "Road-350-W Yellow, 48",
         "Road Bikes",
         "1700.9900"
        ],
        [
         "977",
         "Road-750 Black, 58",
         "Road Bikes",
         "539.9900"
        ],
        [
         "997",
         "Road-750 Black, 44",
         "Road Bikes",
         "539.9900"
        ],
        [
         "998",
         "Road-750 Black, 48",
         "Road Bikes",
         "539.9900"
        ],
        [
         "999",
         "Road-750 Black, 52",
         "Road Bikes",
         "539.9900"
        ],
        [
         "789",
         "Road-250 Red, 44",
         "Road Bikes",
         "2443.3500"
        ],
        [
         "790",
         "Road-250 Red, 48",
         "Road Bikes",
         "2443.3500"
        ],
        [
         "791",
         "Road-250 Red, 52",
         "Road Bikes",
         "2443.3500"
        ],
        [
         "792",
         "Road-250 Red, 58",
         "Road Bikes",
         "2443.3500"
        ],
        [
         "793",
         "Road-250 Black, 44",
         "Road Bikes",
         "2443.3500"
        ],
        [
         "794",
         "Road-250 Black, 48",
         "Road Bikes",
         "2443.3500"
        ],
        [
         "795",
         "Road-250 Black, 52",
         "Road Bikes",
         "2443.3500"
        ],
        [
         "796",
         "Road-250 Black, 58",
         "Road Bikes",
         "2443.3500"
        ],
        [
         "797",
         "Road-550-W Yellow, 38",
         "Road Bikes",
         "1120.4900"
        ],
        [
         "798",
         "Road-550-W Yellow, 40",
         "Road Bikes",
         "1120.4900"
        ],
        [
         "799",
         "Road-550-W Yellow, 42",
         "Road Bikes",
         "1120.4900"
        ],
        [
         "800",
         "Road-550-W Yellow, 44",
         "Road Bikes",
         "1120.4900"
        ],
        [
         "801",
         "Road-550-W Yellow, 48",
         "Road Bikes",
         "1120.4900"
        ],
        [
         "749",
         "Road-150 Red, 62",
         "Road Bikes",
         "3578.2700"
        ],
        [
         "750",
         "Road-150 Red, 44",
         "Road Bikes",
         "3578.2700"
        ],
        [
         "751",
         "Road-150 Red, 48",
         "Road Bikes",
         "3578.2700"
        ],
        [
         "752",
         "Road-150 Red, 52",
         "Road Bikes",
         "3578.2700"
        ],
        [
         "753",
         "Road-150 Red, 56",
         "Road Bikes",
         "3578.2700"
        ],
        [
         "754",
         "Road-450 Red, 58",
         "Road Bikes",
         "1457.9900"
        ],
        [
         "755",
         "Road-450 Red, 60",
         "Road Bikes",
         "1457.9900"
        ],
        [
         "756",
         "Road-450 Red, 44",
         "Road Bikes",
         "1457.9900"
        ],
        [
         "757",
         "Road-450 Red, 48",
         "Road Bikes",
         "1457.9900"
        ],
        [
         "758",
         "Road-450 Red, 52",
         "Road Bikes",
         "1457.9900"
        ],
        [
         "759",
         "Road-650 Red, 58",
         "Road Bikes",
         "782.9900"
        ],
        [
         "760",
         "Road-650 Red, 60",
         "Road Bikes",
         "782.9900"
        ],
        [
         "761",
         "Road-650 Red, 62",
         "Road Bikes",
         "782.9900"
        ],
        [
         "762",
         "Road-650 Red, 44",
         "Road Bikes",
         "782.9900"
        ],
        [
         "763",
         "Road-650 Red, 48",
         "Road Bikes",
         "782.9900"
        ],
        [
         "764",
         "Road-650 Red, 52",
         "Road Bikes",
         "782.9900"
        ],
        [
         "765",
         "Road-650 Black, 58",
         "Road Bikes",
         "782.9900"
        ],
        [
         "766",
         "Road-650 Black, 60",
         "Road Bikes",
         "782.9900"
        ],
        [
         "767",
         "Road-650 Black, 62",
         "Road Bikes",
         "782.9900"
        ],
        [
         "768",
         "Road-650 Black, 44",
         "Road Bikes",
         "782.9900"
        ],
        [
         "769",
         "Road-650 Black, 48",
         "Road Bikes",
         "782.9900"
        ],
        [
         "770",
         "Road-650 Black, 52",
         "Road Bikes",
         "782.9900"
        ],
        [
         "978",
         "Touring-3000 Blue, 44",
         "Touring Bikes",
         "742.3500"
        ],
        [
         "979",
         "Touring-3000 Blue, 50",
         "Touring Bikes",
         "742.3500"
        ],
        [
         "953",
         "Touring-2000 Blue, 60",
         "Touring Bikes",
         "1214.8500"
        ],
        [
         "954",
         "Touring-1000 Yellow, 46",
         "Touring Bikes",
         "2384.0700"
        ],
        [
         "955",
         "Touring-1000 Yellow, 50",
         "Touring Bikes",
         "2384.0700"
        ],
        [
         "956",
         "Touring-1000 Yellow, 54",
         "Touring Bikes",
         "2384.0700"
        ],
        [
         "957",
         "Touring-1000 Yellow, 60",
         "Touring Bikes",
         "2384.0700"
        ],
        [
         "958",
         "Touring-3000 Blue, 54",
         "Touring Bikes",
         "742.3500"
        ],
        [
         "959",
         "Touring-3000 Blue, 58",
         "Touring Bikes",
         "742.3500"
        ],
        [
         "960",
         "Touring-3000 Blue, 62",
         "Touring Bikes",
         "742.3500"
        ],
        [
         "961",
         "Touring-3000 Yellow, 44",
         "Touring Bikes",
         "742.3500"
        ],
        [
         "962",
         "Touring-3000 Yellow, 50",
         "Touring Bikes",
         "742.3500"
        ],
        [
         "963",
         "Touring-3000 Yellow, 54",
         "Touring Bikes",
         "742.3500"
        ],
        [
         "964",
         "Touring-3000 Yellow, 58",
         "Touring Bikes",
         "742.3500"
        ],
        [
         "965",
         "Touring-3000 Yellow, 62",
         "Touring Bikes",
         "742.3500"
        ],
        [
         "966",
         "Touring-1000 Blue, 46",
         "Touring Bikes",
         "2384.0700"
        ],
        [
         "967",
         "Touring-1000 Blue, 50",
         "Touring Bikes",
         "2384.0700"
        ],
        [
         "968",
         "Touring-1000 Blue, 54",
         "Touring Bikes",
         "2384.0700"
        ],
        [
         "969",
         "Touring-1000 Blue, 60",
         "Touring Bikes",
         "2384.0700"
        ],
        [
         "970",
         "Touring-2000 Blue, 46",
         "Touring Bikes",
         "1214.8500"
        ],
        [
         "971",
         "Touring-2000 Blue, 50",
         "Touring Bikes",
         "1214.8500"
        ],
        [
         "972",
         "Touring-2000 Blue, 54",
         "Touring Bikes",
         "1214.8500"
        ],
        [
         "946",
         "LL Touring Handlebars",
         "Handlebars",
         "46.0900"
        ],
        [
         "947",
         "HL Touring Handlebars",
         "Handlebars",
         "91.5700"
        ],
        [
         "808",
         "LL Mountain Handlebars",
         "Handlebars",
         "44.5400"
        ],
        [
         "809",
         "ML Mountain Handlebars",
         "Handlebars",
         "61.9200"
        ],
        [
         "810",
         "HL Mountain Handlebars",
         "Handlebars",
         "120.2700"
        ],
        [
         "811",
         "LL Road Handlebars",
         "Handlebars",
         "44.5400"
        ],
        [
         "812",
         "ML Road Handlebars",
         "Handlebars",
         "61.9200"
        ],
        [
         "813",
         "HL Road Handlebars",
         "Handlebars",
         "120.2700"
        ],
        [
         "994",
         "LL Bottom Bracket",
         "Bottom Brackets",
         "53.9900"
        ],
        [
         "995",
         "ML Bottom Bracket",
         "Bottom Brackets",
         "101.2400"
        ],
        [
         "996",
         "HL Bottom Bracket",
         "Bottom Brackets",
         "121.4900"
        ],
        [
         "948",
         "Front Brakes",
         "Brakes",
         "106.5000"
        ],
        [
         "907",
         "Rear Brakes",
         "Brakes",
         "106.5000"
        ],
        [
         "952",
         "Chain",
         "Chains",
         "20.2400"
        ],
        [
         "949",
         "LL Crankset",
         "Cranksets",
         "175.4900"
        ],
        [
         "950",
         "ML Crankset",
         "Cranksets",
         "256.4900"
        ],
        [
         "951",
         "HL Crankset",
         "Cranksets",
         "404.9900"
        ],
        [
         "945",
         "Front Derailleur",
         "Derailleurs",
         "91.4900"
        ],
        [
         "894",
         "Rear Derailleur",
         "Derailleurs",
         "121.4600"
        ],
        [
         "802",
         "LL Fork",
         "Forks",
         "148.2200"
        ],
        [
         "803",
         "ML Fork",
         "Forks",
         "175.4900"
        ],
        [
         "804",
         "HL Fork",
         "Forks",
         "229.4900"
        ],
        [
         "805",
         "LL Headset",
         "Headsets",
         "34.2000"
        ],
        [
         "806",
         "ML Headset",
         "Headsets",
         "102.2900"
        ],
        [
         "807",
         "HL Headset",
         "Headsets",
         "124.7300"
        ],
        [
         "739",
         "HL Mountain Frame - Silver, 42",
         "Mountain Frames",
         "1364.5000"
        ],
        [
         "740",
         "HL Mountain Frame - Silver, 44",
         "Mountain Frames",
         "1364.5000"
        ],
        [
         "741",
         "HL Mountain Frame - Silver, 48",
         "Mountain Frames",
         "1364.5000"
        ],
        [
         "742",
         "HL Mountain Frame - Silver, 46",
         "Mountain Frames",
         "1364.5000"
        ],
        [
         "743",
         "HL Mountain Frame - Black, 42",
         "Mountain Frames",
         "1349.6000"
        ],
        [
         "744",
         "HL Mountain Frame - Black, 44",
         "Mountain Frames",
         "1349.6000"
        ],
        [
         "745",
         "HL Mountain Frame - Black, 48",
         "Mountain Frames",
         "1349.6000"
        ],
        [
         "746",
         "HL Mountain Frame - Black, 46",
         "Mountain Frames",
         "1349.6000"
        ],
        [
         "747",
         "HL Mountain Frame - Black, 38",
         "Mountain Frames",
         "1349.6000"
        ],
        [
         "748",
         "HL Mountain Frame - Silver, 38",
         "Mountain Frames",
         "1364.5000"
        ],
        [
         "814",
         "ML Mountain Frame - Black, 38",
         "Mountain Frames",
         "348.7600"
        ],
        [
         "830",
         "ML Mountain Frame - Black, 40",
         "Mountain Frames",
         "348.7600"
        ],
        [
         "831",
         "ML Mountain Frame - Black, 44",
         "Mountain Frames",
         "348.7600"
        ],
        [
         "832",
         "ML Mountain Frame - Black, 48",
         "Mountain Frames",
         "348.7600"
        ],
        [
         "924",
         "LL Mountain Frame - Black, 42",
         "Mountain Frames",
         "249.7900"
        ],
        [
         "925",
         "LL Mountain Frame - Black, 44",
         "Mountain Frames",
         "249.7900"
        ],
        [
         "926",
         "LL Mountain Frame - Black, 48",
         "Mountain Frames",
         "249.7900"
        ],
        [
         "927",
         "LL Mountain Frame - Black, 52",
         "Mountain Frames",
         "249.7900"
        ],
        [
         "917",
         "LL Mountain Frame - Silver, 42",
         "Mountain Frames",
         "264.0500"
        ],
        [
         "918",
         "LL Mountain Frame - Silver, 44",
         "Mountain Frames",
         "264.0500"
        ],
        [
         "919",
         "LL Mountain Frame - Silver, 48",
         "Mountain Frames",
         "264.0500"
        ],
        [
         "920",
         "LL Mountain Frame - Silver, 52",
         "Mountain Frames",
         "264.0500"
        ],
        [
         "904",
         "ML Mountain Frame-W - Silver, 40",
         "Mountain Frames",
         "364.0900"
        ],
        [
         "905",
         "ML Mountain Frame-W - Silver, 42",
         "Mountain Frames",
         "364.0900"
        ],
        [
         "906",
         "ML Mountain Frame-W - Silver, 46",
         "Mountain Frames",
         "364.0900"
        ],
        [
         "942",
         "ML Mountain Frame-W - Silver, 38",
         "Mountain Frames",
         "364.0900"
        ],
        [
         "943",
         "LL Mountain Frame - Black, 40",
         "Mountain Frames",
         "249.7900"
        ],
        [
         "944",
         "LL Mountain Frame - Silver, 40",
         "Mountain Frames",
         "264.0500"
        ],
        [
         "935",
         "LL Mountain Pedal",
         "Pedals",
         "40.4900"
        ],
        [
         "936",
         "ML Mountain Pedal",
         "Pedals",
         "62.0900"
        ],
        [
         "937",
         "HL Mountain Pedal",
         "Pedals",
         "80.9900"
        ],
        [
         "938",
         "LL Road Pedal",
         "Pedals",
         "40.4900"
        ],
        [
         "939",
         "ML Road Pedal",
         "Pedals",
         "62.0900"
        ],
        [
         "940",
         "HL Road Pedal",
         "Pedals",
         "80.9900"
        ],
        [
         "941",
         "Touring Pedal",
         "Pedals",
         "80.9900"
        ],
        [
         "833",
         "ML Road Frame-W - Yellow, 40",
         "Road Frames",
         "594.8300"
        ],
        [
         "834",
         "ML Road Frame-W - Yellow, 42",
         "Road Frames",
         "594.8300"
        ],
        [
         "835",
         "ML Road Frame-W - Yellow, 44",
         "Road Frames",
         "594.8300"
        ],
        [
         "836",
         "ML Road Frame-W - Yellow, 48",
         "Road Frames",
         "594.8300"
        ],
        [
         "837",
         "HL Road Frame - Black, 62",
         "Road Frames",
         "1431.5000"
        ],
        [
         "838",
         "HL Road Frame - Black, 44",
         "Road Frames",
         "1431.5000"
        ],
        [
         "839",
         "HL Road Frame - Black, 48",
         "Road Frames",
         "1431.5000"
        ],
        [
         "840",
         "HL Road Frame - Black, 52",
         "Road Frames",
         "1431.5000"
        ],
        [
         "822",
         "ML Road Frame-W - Yellow, 38",
         "Road Frames",
         "594.8300"
        ],
        [
         "680",
         "HL Road Frame - Black, 58",
         "Road Frames",
         "1431.5000"
        ],
        [
         "706",
         "HL Road Frame - Red, 58",
         "Road Frames",
         "1431.5000"
        ],
        [
         "717",
         "HL Road Frame - Red, 62",
         "Road Frames",
         "1431.5000"
        ],
        [
         "718",
         "HL Road Frame - Red, 44",
         "Road Frames",
         "1431.5000"
        ],
        [
         "719",
         "HL Road Frame - Red, 48",
         "Road Frames",
         "1431.5000"
        ],
        [
         "720",
         "HL Road Frame - Red, 52",
         "Road Frames",
         "1431.5000"
        ],
        [
         "721",
         "HL Road Frame - Red, 56",
         "Road Frames",
         "1431.5000"
        ],
        [
         "722",
         "LL Road Frame - Black, 58",
         "Road Frames",
         "337.2200"
        ],
        [
         "723",
         "LL Road Frame - Black, 60",
         "Road Frames",
         "337.2200"
        ],
        [
         "724",
         "LL Road Frame - Black, 62",
         "Road Frames",
         "337.2200"
        ],
        [
         "725",
         "LL Road Frame - Red, 44",
         "Road Frames",
         "337.2200"
        ],
        [
         "726",
         "LL Road Frame - Red, 48",
         "Road Frames",
         "337.2200"
        ],
        [
         "727",
         "LL Road Frame - Red, 52",
         "Road Frames",
         "337.2200"
        ],
        [
         "728",
         "LL Road Frame - Red, 58",
         "Road Frames",
         "337.2200"
        ],
        [
         "729",
         "LL Road Frame - Red, 60",
         "Road Frames",
         "337.2200"
        ],
        [
         "730",
         "LL Road Frame - Red, 62",
         "Road Frames",
         "337.2200"
        ],
        [
         "731",
         "ML Road Frame - Red, 44",
         "Road Frames",
         "594.8300"
        ],
        [
         "732",
         "ML Road Frame - Red, 48",
         "Road Frames",
         "594.8300"
        ],
        [
         "733",
         "ML Road Frame - Red, 52",
         "Road Frames",
         "594.8300"
        ],
        [
         "734",
         "ML Road Frame - Red, 58",
         "Road Frames",
         "594.8300"
        ],
        [
         "735",
         "ML Road Frame - Red, 60",
         "Road Frames",
         "594.8300"
        ],
        [
         "736",
         "LL Road Frame - Black, 44",
         "Road Frames",
         "337.2200"
        ],
        [
         "737",
         "LL Road Frame - Black, 48",
         "Road Frames",
         "337.2200"
        ],
        [
         "738",
         "LL Road Frame - Black, 52",
         "Road Frames",
         "337.2200"
        ],
        [
         "908",
         "LL Mountain Seat/Saddle",
         "Saddles",
         "27.1200"
        ],
        [
         "909",
         "ML Mountain Seat/Saddle",
         "Saddles",
         "39.1400"
        ],
        [
         "910",
         "HL Mountain Seat/Saddle",
         "Saddles",
         "52.6400"
        ],
        [
         "911",
         "LL Road Seat/Saddle",
         "Saddles",
         "27.1200"
        ],
        [
         "912",
         "ML Road Seat/Saddle",
         "Saddles",
         "39.1400"
        ],
        [
         "913",
         "HL Road Seat/Saddle",
         "Saddles",
         "52.6400"
        ],
        [
         "914",
         "LL Touring Seat/Saddle",
         "Saddles",
         "27.1200"
        ],
        [
         "915",
         "ML Touring Seat/Saddle",
         "Saddles",
         "39.1400"
        ],
        [
         "916",
         "HL Touring Seat/Saddle",
         "Saddles",
         "52.6400"
        ],
        [
         "895",
         "LL Touring Frame - Blue, 50",
         "Touring Frames",
         "333.4200"
        ],
        [
         "896",
         "LL Touring Frame - Blue, 54",
         "Touring Frames",
         "333.4200"
        ],
        [
         "897",
         "LL Touring Frame - Blue, 58",
         "Touring Frames",
         "333.4200"
        ],
        [
         "898",
         "LL Touring Frame - Blue, 62",
         "Touring Frames",
         "333.4200"
        ],
        [
         "899",
         "LL Touring Frame - Yellow, 44",
         "Touring Frames",
         "333.4200"
        ],
        [
         "900",
         "LL Touring Frame - Yellow, 50",
         "Touring Frames",
         "333.4200"
        ],
        [
         "901",
         "LL Touring Frame - Yellow, 54",
         "Touring Frames",
         "333.4200"
        ],
        [
         "902",
         "LL Touring Frame - Yellow, 58",
         "Touring Frames",
         "333.4200"
        ],
        [
         "903",
         "LL Touring Frame - Blue, 44",
         "Touring Frames",
         "333.4200"
        ],
        [
         "885",
         "HL Touring Frame - Yellow, 60",
         "Touring Frames",
         "1003.9100"
        ],
        [
         "886",
         "LL Touring Frame - Yellow, 62",
         "Touring Frames",
         "333.4200"
        ],
        [
         "887",
         "HL Touring Frame - Yellow, 46",
         "Touring Frames",
         "1003.9100"
        ],
        [
         "888",
         "HL Touring Frame - Yellow, 50",
         "Touring Frames",
         "1003.9100"
        ],
        [
         "889",
         "HL Touring Frame - Yellow, 54",
         "Touring Frames",
         "1003.9100"
        ],
        [
         "890",
         "HL Touring Frame - Blue, 46",
         "Touring Frames",
         "1003.9100"
        ],
        [
         "891",
         "HL Touring Frame - Blue, 50",
         "Touring Frames",
         "1003.9100"
        ],
        [
         "892",
         "HL Touring Frame - Blue, 54",
         "Touring Frames",
         "1003.9100"
        ],
        [
         "893",
         "HL Touring Frame - Blue, 60",
         "Touring Frames",
         "1003.9100"
        ],
        [
         "823",
         "LL Mountain Rear Wheel",
         "Wheels",
         "87.7450"
        ],
        [
         "824",
         "ML Mountain Rear Wheel",
         "Wheels",
         "236.0250"
        ],
        [
         "825",
         "HL Mountain Rear Wheel",
         "Wheels",
         "327.2150"
        ],
        [
         "826",
         "LL Road Rear Wheel",
         "Wheels",
         "112.5650"
        ],
        [
         "827",
         "ML Road Rear Wheel",
         "Wheels",
         "275.3850"
        ],
        [
         "828",
         "HL Road Rear Wheel",
         "Wheels",
         "357.0600"
        ],
        [
         "829",
         "Touring Rear Wheel",
         "Wheels",
         "245.0100"
        ],
        [
         "815",
         "LL Mountain Front Wheel",
         "Wheels",
         "60.7450"
        ],
        [
         "816",
         "ML Mountain Front Wheel",
         "Wheels",
         "209.0250"
        ],
        [
         "817",
         "HL Mountain Front Wheel",
         "Wheels",
         "300.2150"
        ],
        [
         "818",
         "LL Road Front Wheel",
         "Wheels",
         "85.5650"
        ],
        [
         "819",
         "ML Road Front Wheel",
         "Wheels",
         "248.3850"
        ],
        [
         "820",
         "HL Road Front Wheel",
         "Wheels",
         "330.0600"
        ],
        [
         "821",
         "Touring Front Wheel",
         "Wheels",
         "218.0100"
        ],
        [
         "855",
         "Men's Bib-Shorts, S",
         "Bib-Shorts",
         "89.9900"
        ],
        [
         "856",
         "Men's Bib-Shorts, M",
         "Bib-Shorts",
         "89.9900"
        ],
        [
         "857",
         "Men's Bib-Shorts, L",
         "Bib-Shorts",
         "89.9900"
        ],
        [
         "712",
         "AWC Logo Cap",
         "Caps",
         "8.9900"
        ],
        [
         "858",
         "Half-Finger Gloves, S",
         "Gloves",
         "24.4900"
        ],
        [
         "859",
         "Half-Finger Gloves, M",
         "Gloves",
         "24.4900"
        ],
        [
         "860",
         "Half-Finger Gloves, L",
         "Gloves",
         "24.4900"
        ],
        [
         "861",
         "Full-Finger Gloves, S",
         "Gloves",
         "37.9900"
        ],
        [
         "862",
         "Full-Finger Gloves, M",
         "Gloves",
         "37.9900"
        ],
        [
         "863",
         "Full-Finger Gloves, L",
         "Gloves",
         "37.9900"
        ],
        [
         "713",
         "Long-Sleeve Logo Jersey, S",
         "Jerseys",
         "49.9900"
        ],
        [
         "714",
         "Long-Sleeve Logo Jersey, M",
         "Jerseys",
         "49.9900"
        ],
        [
         "715",
         "Long-Sleeve Logo Jersey, L",
         "Jerseys",
         "49.9900"
        ],
        [
         "716",
         "Long-Sleeve Logo Jersey, XL",
         "Jerseys",
         "49.9900"
        ],
        [
         "881",
         "Short-Sleeve Classic Jersey, S",
         "Jerseys",
         "53.9900"
        ],
        [
         "882",
         "Short-Sleeve Classic Jersey, M",
         "Jerseys",
         "53.9900"
        ],
        [
         "883",
         "Short-Sleeve Classic Jersey, L",
         "Jerseys",
         "53.9900"
        ],
        [
         "884",
         "Short-Sleeve Classic Jersey, XL",
         "Jerseys",
         "53.9900"
        ],
        [
         "867",
         "Women's Mountain Shorts, S",
         "Shorts",
         "69.9900"
        ],
        [
         "868",
         "Women's Mountain Shorts, M",
         "Shorts",
         "69.9900"
        ],
        [
         "869",
         "Women's Mountain Shorts, L",
         "Shorts",
         "69.9900"
        ],
        [
         "841",
         "Men's Sports Shorts, S",
         "Shorts",
         "59.9900"
        ],
        [
         "849",
         "Men's Sports Shorts, M",
         "Shorts",
         "59.9900"
        ],
        [
         "850",
         "Men's Sports Shorts, L",
         "Shorts",
         "59.9900"
        ],
        [
         "851",
         "Men's Sports Shorts, XL",
         "Shorts",
         "59.9900"
        ],
        [
         "709",
         "Mountain Bike Socks, M",
         "Socks",
         "9.5000"
        ],
        [
         "710",
         "Mountain Bike Socks, L",
         "Socks",
         "9.5000"
        ],
        [
         "874",
         "Racing Socks, M",
         "Socks",
         "8.9900"
        ],
        [
         "875",
         "Racing Socks, L",
         "Socks",
         "8.9900"
        ],
        [
         "852",
         "Women's Tights, S",
         "Tights",
         "74.9900"
        ],
        [
         "853",
         "Women's Tights, M",
         "Tights",
         "74.9900"
        ],
        [
         "854",
         "Women's Tights, L",
         "Tights",
         "74.9900"
        ],
        [
         "864",
         "Classic Vest, S",
         "Vests",
         "63.5000"
        ],
        [
         "865",
         "Classic Vest, M",
         "Vests",
         "63.5000"
        ],
        [
         "866",
         "Classic Vest, L",
         "Vests",
         "63.5000"
        ],
        [
         "876",
         "Hitch Rack - 4-Bike",
         "Bike Racks",
         "120.0000"
        ],
        [
         "879",
         "All-Purpose Bike Stand",
         "Bike Stands",
         "159.0000"
        ],
        [
         "870",
         "Water Bottle - 30 oz.",
         "Bottles and Cages",
         "4.9900"
        ],
        [
         "871",
         "Mountain Bottle Cage",
         "Bottles and Cages",
         "9.9900"
        ],
        [
         "872",
         "Road Bottle Cage",
         "Bottles and Cages",
         "8.9900"
        ],
        [
         "877",
         "Bike Wash - Dissolver",
         "Cleaners",
         "7.9500"
        ],
        [
         "878",
         "Fender Set - Mountain",
         "Fenders",
         "21.9800"
        ],
        [
         "711",
         "Sport-100 Helmet, Blue",
         "Helmets",
         "34.9900"
        ],
        [
         "707",
         "Sport-100 Helmet, Red",
         "Helmets",
         "34.9900"
        ],
        [
         "708",
         "Sport-100 Helmet, Black",
         "Helmets",
         "34.9900"
        ],
        [
         "880",
         "Hydration Pack - 70 oz.",
         "Hydration Packs",
         "54.9900"
        ],
        [
         "846",
         "Taillights - Battery-Powered",
         "Lights",
         "13.9900"
        ],
        [
         "847",
         "Headlights - Dual-Beam",
         "Lights",
         "34.9900"
        ],
        [
         "848",
         "Headlights - Weatherproof",
         "Lights",
         "44.9900"
        ],
        [
         "843",
         "Cable Lock",
         "Locks",
         "25.0000"
        ],
        [
         "842",
         "Touring-Panniers, Large",
         "Panniers",
         "125.0000"
        ],
        [
         "844",
         "Minipump",
         "Pumps",
         "19.9900"
        ],
        [
         "845",
         "Mountain Pump",
         "Pumps",
         "24.9900"
        ],
        [
         "873",
         "Patch Kit/8 Patches",
         "Tires and Tubes",
         "2.2900"
        ],
        [
         "921",
         "Mountain Tire Tube",
         "Tires and Tubes",
         "4.9900"
        ],
        [
         "922",
         "Road Tire Tube",
         "Tires and Tubes",
         "3.9900"
        ],
        [
         "923",
         "Touring Tire Tube",
         "Tires and Tubes",
         "4.9900"
        ],
        [
         "928",
         "LL Mountain Tire",
         "Tires and Tubes",
         "24.9900"
        ],
        [
         "929",
         "ML Mountain Tire",
         "Tires and Tubes",
         "29.9900"
        ],
        [
         "930",
         "HL Mountain Tire",
         "Tires and Tubes",
         "35.0000"
        ],
        [
         "931",
         "LL Road Tire",
         "Tires and Tubes",
         "21.4900"
        ],
        [
         "932",
         "ML Road Tire",
         "Tires and Tubes",
         "24.9900"
        ],
        [
         "933",
         "HL Road Tire",
         "Tires and Tubes",
         "32.6000"
        ],
        [
         "934",
         "Touring Tire",
         "Tires and Tubes",
         "28.9900"
        ]
       ],
       "schema": {
        "fields": [
         {
          "metadata": {},
          "name": "ProductID",
          "nullable": true,
          "type": "string"
         },
         {
          "metadata": {},
          "name": "ProductName",
          "nullable": true,
          "type": "string"
         },
         {
          "metadata": {},
          "name": "Category",
          "nullable": true,
          "type": "string"
         },
         {
          "metadata": {},
          "name": "ListPrice",
          "nullable": true,
          "type": "string"
         }
        ],
        "type": "struct"
       }
      },
      "text/plain": [
       "<Spark SQL result set with 295 rows and 4 fields>"
      ]
     },
     "execution_count": 38,
     "metadata": {},
     "output_type": "execute_result"
    }
   ],
   "source": [
    " %%sql\n",
    "\n",
    " USE AdventureWorks;\n",
    "\n",
    " SELECT * FROM Products;"
   ]
  },
  {
   "cell_type": "markdown",
   "metadata": {
    "nteract": {
     "transient": {
      "deleting": false
     }
    }
   },
   "source": [
    "### Use delta tables for streaming data"
   ]
  },
  {
   "cell_type": "code",
   "execution_count": 59,
   "metadata": {
    "jupyter": {
     "outputs_hidden": false,
     "source_hidden": false
    },
    "nteract": {
     "transient": {
      "deleting": false
     }
    }
   },
   "outputs": [
    {
     "data": {
      "application/vnd.livy.statement-meta+json": {
       "execution_finish_time": "2024-12-02T16:25:54.612173Z",
       "execution_start_time": "2024-12-02T16:25:54.0638242Z",
       "livy_statement_state": "available",
       "normalized_state": "finished",
       "parent_msg_id": "184fd5b7-8bfd-4118-8d69-a7a8c1b9ddd0",
       "queued_time": "2024-12-02T16:25:53.896901Z",
       "session_id": "0",
       "session_start_time": null,
       "spark_jobs": null,
       "spark_pool": "sparkfjby2rx",
       "state": "finished",
       "statement_id": 69,
       "statement_ids": [
        69
       ]
      },
      "text/plain": [
       "StatementMeta(sparkfjby2rx, 0, 69, Finished, Available, Finished)"
      ]
     },
     "metadata": {},
     "output_type": "display_data"
    },
    {
     "name": "stdout",
     "output_type": "stream",
     "text": [
      "Source stream created...\n"
     ]
    }
   ],
   "source": [
    " from notebookutils import mssparkutils\n",
    " from pyspark.sql.types import *\n",
    " from pyspark.sql.functions import *\n",
    "\n",
    " # Create a folder\n",
    " inputPath = '/data/'\n",
    " mssparkutils.fs.mkdirs(inputPath)\n",
    "\n",
    " # Create a stream that reads data from the folder, using a JSON schema\n",
    " jsonSchema = StructType([\n",
    " StructField(\"device\", StringType(), False),\n",
    " StructField(\"status\", StringType(), False)\n",
    " ])\n",
    " iotstream = spark.readStream.schema(jsonSchema).option(\"maxFilesPerTrigger\", 1).json(inputPath)\n",
    "\n",
    " # Write some event data to the folder\n",
    " device_data = '''{\"device\":\"Dev1\",\"status\":\"ok\"}\n",
    " {\"device\":\"Dev1\",\"status\":\"ok\"}\n",
    " {\"device\":\"Dev1\",\"status\":\"ok\"}\n",
    " {\"device\":\"Dev2\",\"status\":\"error\"}\n",
    " {\"device\":\"Dev1\",\"status\":\"ok\"}\n",
    " {\"device\":\"Dev1\",\"status\":\"error\"}\n",
    " {\"device\":\"Dev2\",\"status\":\"ok\"}\n",
    " {\"device\":\"Dev2\",\"status\":\"error\"}\n",
    " {\"device\":\"Dev2\",\"status\":\"Coronel\"}\n",
    " {\"device\":\"Dev1\",\"status\":\"Romaro Coronel\"}'''\n",
    " mssparkutils.fs.put(inputPath + \"data.txt\", device_data, True)\n",
    " print(\"Source stream created...\")"
   ]
  },
  {
   "cell_type": "markdown",
   "metadata": {
    "nteract": {
     "transient": {
      "deleting": false
     }
    }
   },
   "source": [
    " #### Write the stream to a delta table"
   ]
  },
  {
   "cell_type": "code",
   "execution_count": 54,
   "metadata": {
    "jupyter": {
     "outputs_hidden": false,
     "source_hidden": false
    },
    "nteract": {
     "transient": {
      "deleting": false
     }
    }
   },
   "outputs": [
    {
     "data": {
      "application/vnd.livy.statement-meta+json": {
       "execution_finish_time": "2024-12-02T16:19:08.5776908Z",
       "execution_start_time": "2024-12-02T16:19:08.412468Z",
       "livy_statement_state": "available",
       "normalized_state": "finished",
       "parent_msg_id": "b921d541-d580-426a-8e7e-9ede0b9092a4",
       "queued_time": "2024-12-02T16:19:08.2867688Z",
       "session_id": "0",
       "session_start_time": null,
       "spark_jobs": null,
       "spark_pool": "sparkfjby2rx",
       "state": "finished",
       "statement_id": 64,
       "statement_ids": [
        64
       ]
      },
      "text/plain": [
       "StatementMeta(sparkfjby2rx, 0, 64, Finished, Available, Finished)"
      ]
     },
     "metadata": {},
     "output_type": "display_data"
    },
    {
     "name": "stdout",
     "output_type": "stream",
     "text": [
      "Streaming to delta sink...\n"
     ]
    }
   ],
   "source": [
    " # Write the stream to a delta table\n",
    " \n",
    " delta_stream_table_path = '/delta/iotdevicedata'\n",
    " checkpointpath = '/delta/checkpoint'\n",
    " deltastream = iotstream.writeStream.format(\"delta\").option(\"checkpointLocation\", checkpointpath).start(delta_stream_table_path)\n",
    " print(\"Streaming to delta sink...\")"
   ]
  },
  {
   "cell_type": "code",
   "execution_count": 61,
   "metadata": {
    "collapsed": false,
    "jupyter": {
     "outputs_hidden": false,
     "source_hidden": false
    },
    "nteract": {
     "transient": {
      "deleting": false
     }
    }
   },
   "outputs": [
    {
     "data": {
      "application/vnd.livy.statement-meta+json": {
       "execution_finish_time": "2024-12-02T16:26:55.3659348Z",
       "execution_start_time": "2024-12-02T16:26:48.4058413Z",
       "livy_statement_state": "available",
       "normalized_state": "finished",
       "parent_msg_id": "5af7befc-325f-4b82-8f9b-b0537da611e2",
       "queued_time": "2024-12-02T16:26:48.252835Z",
       "session_id": "0",
       "session_start_time": null,
       "spark_jobs": null,
       "spark_pool": "sparkfjby2rx",
       "state": "finished",
       "statement_id": 71,
       "statement_ids": [
        71
       ]
      },
      "text/plain": [
       "StatementMeta(sparkfjby2rx, 0, 71, Finished, Available, Finished)"
      ]
     },
     "metadata": {},
     "output_type": "display_data"
    },
    {
     "data": {
      "application/vnd.synapse.widget-view+json": {
       "widget_id": "807dd7b7-b8c8-4866-875a-468269cac1df",
       "widget_type": "Synapse.DataFrame"
      },
      "text/plain": [
       "SynapseWidget(Synapse.DataFrame, 807dd7b7-b8c8-4866-875a-468269cac1df)"
      ]
     },
     "metadata": {},
     "output_type": "display_data"
    }
   ],
   "source": [
    " # Read the data in delta format into a dataframe\n",
    "\n",
    " df = spark.read.format(\"delta\").load(delta_stream_table_path)\n",
    " display(df.head(100))\n"
   ]
  },
  {
   "cell_type": "code",
   "execution_count": 65,
   "metadata": {
    "jupyter": {
     "outputs_hidden": false,
     "source_hidden": false
    },
    "nteract": {
     "transient": {
      "deleting": false
     }
    }
   },
   "outputs": [
    {
     "data": {
      "application/vnd.livy.statement-meta+json": {
       "execution_finish_time": "2024-12-02T16:27:47.1523565Z",
       "execution_start_time": "2024-12-02T16:27:45.2950432Z",
       "livy_statement_state": "available",
       "normalized_state": "finished",
       "parent_msg_id": "e926ec23-a760-4be5-ab8e-02040aa69363",
       "queued_time": "2024-12-02T16:27:45.1684191Z",
       "session_id": "0",
       "session_start_time": null,
       "spark_jobs": null,
       "spark_pool": "sparkfjby2rx",
       "state": "finished",
       "statement_id": 75,
       "statement_ids": [
        75
       ]
      },
      "text/plain": [
       "StatementMeta(sparkfjby2rx, 0, 75, Finished, Available, Finished)"
      ]
     },
     "metadata": {},
     "output_type": "display_data"
    },
    {
     "data": {
      "text/plain": [
       "DataFrame[]"
      ]
     },
     "execution_count": 119,
     "metadata": {},
     "output_type": "execute_result"
    }
   ],
   "source": [
    " # create a catalog table based on the streaming sink\n",
    " spark.sql(\"CREATE TABLE IotDeviceData USING DELTA LOCATION '{0}'\".format(delta_stream_table_path))"
   ]
  },
  {
   "cell_type": "code",
   "execution_count": 66,
   "metadata": {
    "collapsed": false,
    "jupyter": {
     "outputs_hidden": false,
     "source_hidden": false
    },
    "microsoft": {
     "language": "sparksql"
    },
    "nteract": {
     "transient": {
      "deleting": false
     }
    }
   },
   "outputs": [
    {
     "data": {
      "application/vnd.livy.statement-meta+json": {
       "execution_finish_time": "2024-12-02T16:28:36.3370566Z",
       "execution_start_time": "2024-12-02T16:28:35.2244792Z",
       "livy_statement_state": "available",
       "normalized_state": "finished",
       "parent_msg_id": "d220db3a-ec53-4154-8dca-f6a62f6a5486",
       "queued_time": "2024-12-02T16:28:35.0734076Z",
       "session_id": "0",
       "session_start_time": null,
       "spark_jobs": null,
       "spark_pool": "sparkfjby2rx",
       "state": "finished",
       "statement_id": 76,
       "statement_ids": [
        76
       ]
      },
      "text/plain": [
       "StatementMeta(sparkfjby2rx, 0, 76, Finished, Available, Finished)"
      ]
     },
     "metadata": {},
     "output_type": "display_data"
    },
    {
     "data": {
      "application/vnd.synapse.sparksql-result+json": {
       "data": [
        [
         "Dev1",
         "ok"
        ],
        [
         "Dev1",
         "ok"
        ],
        [
         "Dev1",
         "ok"
        ],
        [
         "Dev2",
         "error"
        ],
        [
         "Dev1",
         "ok"
        ],
        [
         "Dev1",
         "error"
        ],
        [
         "Dev2",
         "ok"
        ],
        [
         "Dev2",
         "error"
        ],
        [
         "Dev1",
         "ok"
        ]
       ],
       "schema": {
        "fields": [
         {
          "metadata": {},
          "name": "device",
          "nullable": true,
          "type": "string"
         },
         {
          "metadata": {},
          "name": "status",
          "nullable": true,
          "type": "string"
         }
        ],
        "type": "struct"
       }
      },
      "text/plain": [
       "<Spark SQL result set with 9 rows and 2 fields>"
      ]
     },
     "execution_count": 66,
     "metadata": {},
     "output_type": "execute_result"
    }
   ],
   "source": [
    " %%sql\n",
    "\n",
    " SELECT * FROM IotDeviceData;"
   ]
  },
  {
   "cell_type": "code",
   "execution_count": 67,
   "metadata": {
    "jupyter": {
     "outputs_hidden": false,
     "source_hidden": false
    },
    "nteract": {
     "transient": {
      "deleting": false
     }
    }
   },
   "outputs": [
    {
     "data": {
      "application/vnd.livy.statement-meta+json": {
       "execution_finish_time": "2024-12-02T16:39:07.2823494Z",
       "execution_start_time": "2024-12-02T16:39:07.1119684Z",
       "livy_statement_state": "available",
       "normalized_state": "finished",
       "parent_msg_id": "9e572b6e-d296-4c1c-b9b1-9b40fc8ff15c",
       "queued_time": "2024-12-02T16:39:06.9185988Z",
       "session_id": "0",
       "session_start_time": null,
       "spark_jobs": null,
       "spark_pool": "sparkfjby2rx",
       "state": "finished",
       "statement_id": 77,
       "statement_ids": [
        77
       ]
      },
      "text/plain": [
       "StatementMeta(sparkfjby2rx, 0, 77, Finished, Available, Finished)"
      ]
     },
     "metadata": {},
     "output_type": "display_data"
    },
    {
     "data": {
      "text/plain": [
       "True"
      ]
     },
     "execution_count": 121,
     "metadata": {},
     "output_type": "execute_result"
    }
   ],
   "source": [
    " # Add more data to the source stream\n",
    " more_data = '''{\"device\":\"Dev1\",\"status\":\"ok\"}\n",
    " {\"device\":\"Dev1\",\"status\":\"ok\"}\n",
    " {\"device\":\"Dev1\",\"status\":\"ok\"}\n",
    " {\"device\":\"Dev1\",\"status\":\"ok\"}\n",
    " {\"device\":\"Dev1\",\"status\":\"error\"}\n",
    " {\"device\":\"Dev2\",\"status\":\"error\"}\n",
    " {\"device\":\"Dev1\",\"status\":\"ok\"}'''\n",
    "\n",
    " mssparkutils.fs.put(inputPath + \"more-data.txt\", more_data, True)"
   ]
  },
  {
   "cell_type": "code",
   "execution_count": 68,
   "metadata": {
    "collapsed": false,
    "jupyter": {
     "outputs_hidden": false,
     "source_hidden": false
    },
    "microsoft": {
     "language": "sparksql"
    },
    "nteract": {
     "transient": {
      "deleting": false
     }
    }
   },
   "outputs": [
    {
     "data": {
      "application/vnd.livy.statement-meta+json": {
       "execution_finish_time": "2024-12-02T16:39:45.3537361Z",
       "execution_start_time": "2024-12-02T16:39:41.3439842Z",
       "livy_statement_state": "available",
       "normalized_state": "finished",
       "parent_msg_id": "0b46d545-ad2a-4c59-b50b-78004ec2b8e5",
       "queued_time": "2024-12-02T16:39:41.1362488Z",
       "session_id": "0",
       "session_start_time": null,
       "spark_jobs": null,
       "spark_pool": "sparkfjby2rx",
       "state": "finished",
       "statement_id": 78,
       "statement_ids": [
        78
       ]
      },
      "text/plain": [
       "StatementMeta(sparkfjby2rx, 0, 78, Finished, Available, Finished)"
      ]
     },
     "metadata": {},
     "output_type": "display_data"
    },
    {
     "data": {
      "application/vnd.synapse.sparksql-result+json": {
       "data": [
        [
         "Dev1",
         "ok"
        ],
        [
         "Dev1",
         "ok"
        ],
        [
         "Dev1",
         "ok"
        ],
        [
         "Dev2",
         "error"
        ],
        [
         "Dev1",
         "ok"
        ],
        [
         "Dev1",
         "error"
        ],
        [
         "Dev2",
         "ok"
        ],
        [
         "Dev2",
         "error"
        ],
        [
         "Dev1",
         "ok"
        ],
        [
         "Dev1",
         "ok"
        ],
        [
         "Dev1",
         "ok"
        ],
        [
         "Dev1",
         "ok"
        ],
        [
         "Dev1",
         "ok"
        ],
        [
         "Dev1",
         "error"
        ],
        [
         "Dev2",
         "error"
        ],
        [
         "Dev1",
         "ok"
        ]
       ],
       "schema": {
        "fields": [
         {
          "metadata": {},
          "name": "device",
          "nullable": true,
          "type": "string"
         },
         {
          "metadata": {},
          "name": "status",
          "nullable": true,
          "type": "string"
         }
        ],
        "type": "struct"
       }
      },
      "text/plain": [
       "<Spark SQL result set with 16 rows and 2 fields>"
      ]
     },
     "execution_count": 68,
     "metadata": {},
     "output_type": "execute_result"
    }
   ],
   "source": [
    " %%sql\n",
    "\n",
    " SELECT * FROM IotDeviceData;"
   ]
  },
  {
   "cell_type": "code",
   "execution_count": 69,
   "metadata": {
    "jupyter": {
     "outputs_hidden": false,
     "source_hidden": false
    },
    "nteract": {
     "transient": {
      "deleting": false
     }
    }
   },
   "outputs": [
    {
     "data": {
      "application/vnd.livy.statement-meta+json": {
       "execution_finish_time": "2024-12-02T16:42:22.8979376Z",
       "execution_start_time": "2024-12-02T16:42:22.7359663Z",
       "livy_statement_state": "available",
       "normalized_state": "finished",
       "parent_msg_id": "590f5063-0630-41ee-995c-af59af2a8f27",
       "queued_time": "2024-12-02T16:42:22.5684662Z",
       "session_id": "0",
       "session_start_time": null,
       "spark_jobs": null,
       "spark_pool": "sparkfjby2rx",
       "state": "finished",
       "statement_id": 79,
       "statement_ids": [
        79
       ]
      },
      "text/plain": [
       "StatementMeta(sparkfjby2rx, 0, 79, Finished, Available, Finished)"
      ]
     },
     "metadata": {},
     "output_type": "display_data"
    }
   ],
   "source": [
    " deltastream.stop()"
   ]
  },
  {
   "cell_type": "markdown",
   "metadata": {
    "nteract": {
     "transient": {
      "deleting": false
     }
    }
   },
   "source": [
    "### Query a delta table from a serverless SQL pool"
   ]
  },
  {
   "cell_type": "code",
   "execution_count": 72,
   "metadata": {
    "collapsed": false,
    "jupyter": {
     "outputs_hidden": false,
     "source_hidden": false
    },
    "microsoft": {
     "language": "sparksql"
    },
    "nteract": {
     "transient": {
      "deleting": false
     }
    }
   },
   "outputs": [
    {
     "data": {
      "application/vnd.livy.statement-meta+json": {
       "execution_finish_time": "2024-12-02T17:04:14.4094068Z",
       "execution_start_time": "2024-12-02T17:04:10.3146275Z",
       "livy_statement_state": "available",
       "normalized_state": "finished",
       "parent_msg_id": "0c9cb75a-b099-4c84-a172-4409b2ede923",
       "queued_time": "2024-12-02T17:04:10.1766689Z",
       "session_id": "0",
       "session_start_time": null,
       "spark_jobs": null,
       "spark_pool": "sparkfjby2rx",
       "state": "finished",
       "statement_id": 83,
       "statement_ids": [
        82,
        83
       ]
      },
      "text/plain": [
       "StatementMeta(sparkfjby2rx, 0, 83, Finished, Available, Finished)"
      ]
     },
     "metadata": {},
     "output_type": "display_data"
    },
    {
     "data": {
      "application/vnd.synapse.sparksql-result+json": {
       "data": [],
       "schema": {
        "fields": [],
        "type": "struct"
       }
      },
      "text/plain": [
       "<Spark SQL result set with 0 rows and 0 fields>"
      ]
     },
     "execution_count": 72,
     "metadata": {},
     "output_type": "execute_result"
    },
    {
     "data": {
      "application/vnd.synapse.sparksql-result+json": {
       "data": [
        [
         "771",
         "Mountain-100 Silver, 38",
         "Mountain Bikes",
         "3059.991"
        ],
        [
         "772",
         "Mountain-100 Silver, 42",
         "Mountain Bikes",
         "3399.9900"
        ],
        [
         "773",
         "Mountain-100 Silver, 44",
         "Mountain Bikes",
         "3399.9900"
        ],
        [
         "774",
         "Mountain-100 Silver, 48",
         "Mountain Bikes",
         "3399.9900"
        ],
        [
         "775",
         "Mountain-100 Black, 38",
         "Mountain Bikes",
         "3374.9900"
        ],
        [
         "776",
         "Mountain-100 Black, 42",
         "Mountain Bikes",
         "3374.9900"
        ],
        [
         "777",
         "Mountain-100 Black, 44",
         "Mountain Bikes",
         "3374.9900"
        ],
        [
         "778",
         "Mountain-100 Black, 48",
         "Mountain Bikes",
         "3374.9900"
        ],
        [
         "779",
         "Mountain-200 Silver, 38",
         "Mountain Bikes",
         "2319.9900"
        ],
        [
         "780",
         "Mountain-200 Silver, 42",
         "Mountain Bikes",
         "2319.9900"
        ],
        [
         "781",
         "Mountain-200 Silver, 46",
         "Mountain Bikes",
         "2319.9900"
        ],
        [
         "782",
         "Mountain-200 Black, 38",
         "Mountain Bikes",
         "2294.9900"
        ],
        [
         "783",
         "Mountain-200 Black, 42",
         "Mountain Bikes",
         "2294.9900"
        ],
        [
         "784",
         "Mountain-200 Black, 46",
         "Mountain Bikes",
         "2294.9900"
        ],
        [
         "785",
         "Mountain-300 Black, 38",
         "Mountain Bikes",
         "1079.9900"
        ],
        [
         "786",
         "Mountain-300 Black, 40",
         "Mountain Bikes",
         "1079.9900"
        ],
        [
         "787",
         "Mountain-300 Black, 44",
         "Mountain Bikes",
         "1079.9900"
        ],
        [
         "788",
         "Mountain-300 Black, 48",
         "Mountain Bikes",
         "1079.9900"
        ],
        [
         "980",
         "Mountain-400-W Silver, 38",
         "Mountain Bikes",
         "769.4900"
        ],
        [
         "981",
         "Mountain-400-W Silver, 40",
         "Mountain Bikes",
         "769.4900"
        ],
        [
         "982",
         "Mountain-400-W Silver, 42",
         "Mountain Bikes",
         "769.4900"
        ],
        [
         "983",
         "Mountain-400-W Silver, 46",
         "Mountain Bikes",
         "769.4900"
        ],
        [
         "984",
         "Mountain-500 Silver, 40",
         "Mountain Bikes",
         "564.9900"
        ],
        [
         "985",
         "Mountain-500 Silver, 42",
         "Mountain Bikes",
         "564.9900"
        ],
        [
         "986",
         "Mountain-500 Silver, 44",
         "Mountain Bikes",
         "564.9900"
        ],
        [
         "987",
         "Mountain-500 Silver, 48",
         "Mountain Bikes",
         "564.9900"
        ],
        [
         "988",
         "Mountain-500 Silver, 52",
         "Mountain Bikes",
         "564.9900"
        ],
        [
         "989",
         "Mountain-500 Black, 40",
         "Mountain Bikes",
         "539.9900"
        ],
        [
         "990",
         "Mountain-500 Black, 42",
         "Mountain Bikes",
         "539.9900"
        ],
        [
         "991",
         "Mountain-500 Black, 44",
         "Mountain Bikes",
         "539.9900"
        ],
        [
         "992",
         "Mountain-500 Black, 48",
         "Mountain Bikes",
         "539.9900"
        ],
        [
         "993",
         "Mountain-500 Black, 52",
         "Mountain Bikes",
         "539.9900"
        ],
        [
         "973",
         "Road-350-W Yellow, 40",
         "Road Bikes",
         "1700.9900"
        ],
        [
         "974",
         "Road-350-W Yellow, 42",
         "Road Bikes",
         "1700.9900"
        ],
        [
         "975",
         "Road-350-W Yellow, 44",
         "Road Bikes",
         "1700.9900"
        ],
        [
         "976",
         "Road-350-W Yellow, 48",
         "Road Bikes",
         "1700.9900"
        ],
        [
         "977",
         "Road-750 Black, 58",
         "Road Bikes",
         "539.9900"
        ],
        [
         "997",
         "Road-750 Black, 44",
         "Road Bikes",
         "539.9900"
        ],
        [
         "998",
         "Road-750 Black, 48",
         "Road Bikes",
         "539.9900"
        ],
        [
         "999",
         "Road-750 Black, 52",
         "Road Bikes",
         "539.9900"
        ],
        [
         "789",
         "Road-250 Red, 44",
         "Road Bikes",
         "2443.3500"
        ],
        [
         "790",
         "Road-250 Red, 48",
         "Road Bikes",
         "2443.3500"
        ],
        [
         "791",
         "Road-250 Red, 52",
         "Road Bikes",
         "2443.3500"
        ],
        [
         "792",
         "Road-250 Red, 58",
         "Road Bikes",
         "2443.3500"
        ],
        [
         "793",
         "Road-250 Black, 44",
         "Road Bikes",
         "2443.3500"
        ],
        [
         "794",
         "Road-250 Black, 48",
         "Road Bikes",
         "2443.3500"
        ],
        [
         "795",
         "Road-250 Black, 52",
         "Road Bikes",
         "2443.3500"
        ],
        [
         "796",
         "Road-250 Black, 58",
         "Road Bikes",
         "2443.3500"
        ],
        [
         "797",
         "Road-550-W Yellow, 38",
         "Road Bikes",
         "1120.4900"
        ],
        [
         "798",
         "Road-550-W Yellow, 40",
         "Road Bikes",
         "1120.4900"
        ],
        [
         "799",
         "Road-550-W Yellow, 42",
         "Road Bikes",
         "1120.4900"
        ],
        [
         "800",
         "Road-550-W Yellow, 44",
         "Road Bikes",
         "1120.4900"
        ],
        [
         "801",
         "Road-550-W Yellow, 48",
         "Road Bikes",
         "1120.4900"
        ],
        [
         "749",
         "Road-150 Red, 62",
         "Road Bikes",
         "3578.2700"
        ],
        [
         "750",
         "Road-150 Red, 44",
         "Road Bikes",
         "3578.2700"
        ],
        [
         "751",
         "Road-150 Red, 48",
         "Road Bikes",
         "3578.2700"
        ],
        [
         "752",
         "Road-150 Red, 52",
         "Road Bikes",
         "3578.2700"
        ],
        [
         "753",
         "Road-150 Red, 56",
         "Road Bikes",
         "3578.2700"
        ],
        [
         "754",
         "Road-450 Red, 58",
         "Road Bikes",
         "1457.9900"
        ],
        [
         "755",
         "Road-450 Red, 60",
         "Road Bikes",
         "1457.9900"
        ],
        [
         "756",
         "Road-450 Red, 44",
         "Road Bikes",
         "1457.9900"
        ],
        [
         "757",
         "Road-450 Red, 48",
         "Road Bikes",
         "1457.9900"
        ],
        [
         "758",
         "Road-450 Red, 52",
         "Road Bikes",
         "1457.9900"
        ],
        [
         "759",
         "Road-650 Red, 58",
         "Road Bikes",
         "782.9900"
        ],
        [
         "760",
         "Road-650 Red, 60",
         "Road Bikes",
         "782.9900"
        ],
        [
         "761",
         "Road-650 Red, 62",
         "Road Bikes",
         "782.9900"
        ],
        [
         "762",
         "Road-650 Red, 44",
         "Road Bikes",
         "782.9900"
        ],
        [
         "763",
         "Road-650 Red, 48",
         "Road Bikes",
         "782.9900"
        ],
        [
         "764",
         "Road-650 Red, 52",
         "Road Bikes",
         "782.9900"
        ],
        [
         "765",
         "Road-650 Black, 58",
         "Road Bikes",
         "782.9900"
        ],
        [
         "766",
         "Road-650 Black, 60",
         "Road Bikes",
         "782.9900"
        ],
        [
         "767",
         "Road-650 Black, 62",
         "Road Bikes",
         "782.9900"
        ],
        [
         "768",
         "Road-650 Black, 44",
         "Road Bikes",
         "782.9900"
        ],
        [
         "769",
         "Road-650 Black, 48",
         "Road Bikes",
         "782.9900"
        ],
        [
         "770",
         "Road-650 Black, 52",
         "Road Bikes",
         "782.9900"
        ],
        [
         "978",
         "Touring-3000 Blue, 44",
         "Touring Bikes",
         "742.3500"
        ],
        [
         "979",
         "Touring-3000 Blue, 50",
         "Touring Bikes",
         "742.3500"
        ],
        [
         "953",
         "Touring-2000 Blue, 60",
         "Touring Bikes",
         "1214.8500"
        ],
        [
         "954",
         "Touring-1000 Yellow, 46",
         "Touring Bikes",
         "2384.0700"
        ],
        [
         "955",
         "Touring-1000 Yellow, 50",
         "Touring Bikes",
         "2384.0700"
        ],
        [
         "956",
         "Touring-1000 Yellow, 54",
         "Touring Bikes",
         "2384.0700"
        ],
        [
         "957",
         "Touring-1000 Yellow, 60",
         "Touring Bikes",
         "2384.0700"
        ],
        [
         "958",
         "Touring-3000 Blue, 54",
         "Touring Bikes",
         "742.3500"
        ],
        [
         "959",
         "Touring-3000 Blue, 58",
         "Touring Bikes",
         "742.3500"
        ],
        [
         "960",
         "Touring-3000 Blue, 62",
         "Touring Bikes",
         "742.3500"
        ],
        [
         "961",
         "Touring-3000 Yellow, 44",
         "Touring Bikes",
         "742.3500"
        ],
        [
         "962",
         "Touring-3000 Yellow, 50",
         "Touring Bikes",
         "742.3500"
        ],
        [
         "963",
         "Touring-3000 Yellow, 54",
         "Touring Bikes",
         "742.3500"
        ],
        [
         "964",
         "Touring-3000 Yellow, 58",
         "Touring Bikes",
         "742.3500"
        ],
        [
         "965",
         "Touring-3000 Yellow, 62",
         "Touring Bikes",
         "742.3500"
        ],
        [
         "966",
         "Touring-1000 Blue, 46",
         "Touring Bikes",
         "2384.0700"
        ],
        [
         "967",
         "Touring-1000 Blue, 50",
         "Touring Bikes",
         "2384.0700"
        ],
        [
         "968",
         "Touring-1000 Blue, 54",
         "Touring Bikes",
         "2384.0700"
        ],
        [
         "969",
         "Touring-1000 Blue, 60",
         "Touring Bikes",
         "2384.0700"
        ],
        [
         "970",
         "Touring-2000 Blue, 46",
         "Touring Bikes",
         "1214.8500"
        ],
        [
         "971",
         "Touring-2000 Blue, 50",
         "Touring Bikes",
         "1214.8500"
        ],
        [
         "972",
         "Touring-2000 Blue, 54",
         "Touring Bikes",
         "1214.8500"
        ],
        [
         "946",
         "LL Touring Handlebars",
         "Handlebars",
         "46.0900"
        ],
        [
         "947",
         "HL Touring Handlebars",
         "Handlebars",
         "91.5700"
        ],
        [
         "808",
         "LL Mountain Handlebars",
         "Handlebars",
         "44.5400"
        ],
        [
         "809",
         "ML Mountain Handlebars",
         "Handlebars",
         "61.9200"
        ],
        [
         "810",
         "HL Mountain Handlebars",
         "Handlebars",
         "120.2700"
        ],
        [
         "811",
         "LL Road Handlebars",
         "Handlebars",
         "44.5400"
        ],
        [
         "812",
         "ML Road Handlebars",
         "Handlebars",
         "61.9200"
        ],
        [
         "813",
         "HL Road Handlebars",
         "Handlebars",
         "120.2700"
        ],
        [
         "994",
         "LL Bottom Bracket",
         "Bottom Brackets",
         "53.9900"
        ],
        [
         "995",
         "ML Bottom Bracket",
         "Bottom Brackets",
         "101.2400"
        ],
        [
         "996",
         "HL Bottom Bracket",
         "Bottom Brackets",
         "121.4900"
        ],
        [
         "948",
         "Front Brakes",
         "Brakes",
         "106.5000"
        ],
        [
         "907",
         "Rear Brakes",
         "Brakes",
         "106.5000"
        ],
        [
         "952",
         "Chain",
         "Chains",
         "20.2400"
        ],
        [
         "949",
         "LL Crankset",
         "Cranksets",
         "175.4900"
        ],
        [
         "950",
         "ML Crankset",
         "Cranksets",
         "256.4900"
        ],
        [
         "951",
         "HL Crankset",
         "Cranksets",
         "404.9900"
        ],
        [
         "945",
         "Front Derailleur",
         "Derailleurs",
         "91.4900"
        ],
        [
         "894",
         "Rear Derailleur",
         "Derailleurs",
         "121.4600"
        ],
        [
         "802",
         "LL Fork",
         "Forks",
         "148.2200"
        ],
        [
         "803",
         "ML Fork",
         "Forks",
         "175.4900"
        ],
        [
         "804",
         "HL Fork",
         "Forks",
         "229.4900"
        ],
        [
         "805",
         "LL Headset",
         "Headsets",
         "34.2000"
        ],
        [
         "806",
         "ML Headset",
         "Headsets",
         "102.2900"
        ],
        [
         "807",
         "HL Headset",
         "Headsets",
         "124.7300"
        ],
        [
         "739",
         "HL Mountain Frame - Silver, 42",
         "Mountain Frames",
         "1364.5000"
        ],
        [
         "740",
         "HL Mountain Frame - Silver, 44",
         "Mountain Frames",
         "1364.5000"
        ],
        [
         "741",
         "HL Mountain Frame - Silver, 48",
         "Mountain Frames",
         "1364.5000"
        ],
        [
         "742",
         "HL Mountain Frame - Silver, 46",
         "Mountain Frames",
         "1364.5000"
        ],
        [
         "743",
         "HL Mountain Frame - Black, 42",
         "Mountain Frames",
         "1349.6000"
        ],
        [
         "744",
         "HL Mountain Frame - Black, 44",
         "Mountain Frames",
         "1349.6000"
        ],
        [
         "745",
         "HL Mountain Frame - Black, 48",
         "Mountain Frames",
         "1349.6000"
        ],
        [
         "746",
         "HL Mountain Frame - Black, 46",
         "Mountain Frames",
         "1349.6000"
        ],
        [
         "747",
         "HL Mountain Frame - Black, 38",
         "Mountain Frames",
         "1349.6000"
        ],
        [
         "748",
         "HL Mountain Frame - Silver, 38",
         "Mountain Frames",
         "1364.5000"
        ],
        [
         "814",
         "ML Mountain Frame - Black, 38",
         "Mountain Frames",
         "348.7600"
        ],
        [
         "830",
         "ML Mountain Frame - Black, 40",
         "Mountain Frames",
         "348.7600"
        ],
        [
         "831",
         "ML Mountain Frame - Black, 44",
         "Mountain Frames",
         "348.7600"
        ],
        [
         "832",
         "ML Mountain Frame - Black, 48",
         "Mountain Frames",
         "348.7600"
        ],
        [
         "924",
         "LL Mountain Frame - Black, 42",
         "Mountain Frames",
         "249.7900"
        ],
        [
         "925",
         "LL Mountain Frame - Black, 44",
         "Mountain Frames",
         "249.7900"
        ],
        [
         "926",
         "LL Mountain Frame - Black, 48",
         "Mountain Frames",
         "249.7900"
        ],
        [
         "927",
         "LL Mountain Frame - Black, 52",
         "Mountain Frames",
         "249.7900"
        ],
        [
         "917",
         "LL Mountain Frame - Silver, 42",
         "Mountain Frames",
         "264.0500"
        ],
        [
         "918",
         "LL Mountain Frame - Silver, 44",
         "Mountain Frames",
         "264.0500"
        ],
        [
         "919",
         "LL Mountain Frame - Silver, 48",
         "Mountain Frames",
         "264.0500"
        ],
        [
         "920",
         "LL Mountain Frame - Silver, 52",
         "Mountain Frames",
         "264.0500"
        ],
        [
         "904",
         "ML Mountain Frame-W - Silver, 40",
         "Mountain Frames",
         "364.0900"
        ],
        [
         "905",
         "ML Mountain Frame-W - Silver, 42",
         "Mountain Frames",
         "364.0900"
        ],
        [
         "906",
         "ML Mountain Frame-W - Silver, 46",
         "Mountain Frames",
         "364.0900"
        ],
        [
         "942",
         "ML Mountain Frame-W - Silver, 38",
         "Mountain Frames",
         "364.0900"
        ],
        [
         "943",
         "LL Mountain Frame - Black, 40",
         "Mountain Frames",
         "249.7900"
        ],
        [
         "944",
         "LL Mountain Frame - Silver, 40",
         "Mountain Frames",
         "264.0500"
        ],
        [
         "935",
         "LL Mountain Pedal",
         "Pedals",
         "40.4900"
        ],
        [
         "936",
         "ML Mountain Pedal",
         "Pedals",
         "62.0900"
        ],
        [
         "937",
         "HL Mountain Pedal",
         "Pedals",
         "80.9900"
        ],
        [
         "938",
         "LL Road Pedal",
         "Pedals",
         "40.4900"
        ],
        [
         "939",
         "ML Road Pedal",
         "Pedals",
         "62.0900"
        ],
        [
         "940",
         "HL Road Pedal",
         "Pedals",
         "80.9900"
        ],
        [
         "941",
         "Touring Pedal",
         "Pedals",
         "80.9900"
        ],
        [
         "833",
         "ML Road Frame-W - Yellow, 40",
         "Road Frames",
         "594.8300"
        ],
        [
         "834",
         "ML Road Frame-W - Yellow, 42",
         "Road Frames",
         "594.8300"
        ],
        [
         "835",
         "ML Road Frame-W - Yellow, 44",
         "Road Frames",
         "594.8300"
        ],
        [
         "836",
         "ML Road Frame-W - Yellow, 48",
         "Road Frames",
         "594.8300"
        ],
        [
         "837",
         "HL Road Frame - Black, 62",
         "Road Frames",
         "1431.5000"
        ],
        [
         "838",
         "HL Road Frame - Black, 44",
         "Road Frames",
         "1431.5000"
        ],
        [
         "839",
         "HL Road Frame - Black, 48",
         "Road Frames",
         "1431.5000"
        ],
        [
         "840",
         "HL Road Frame - Black, 52",
         "Road Frames",
         "1431.5000"
        ],
        [
         "822",
         "ML Road Frame-W - Yellow, 38",
         "Road Frames",
         "594.8300"
        ],
        [
         "680",
         "HL Road Frame - Black, 58",
         "Road Frames",
         "1431.5000"
        ],
        [
         "706",
         "HL Road Frame - Red, 58",
         "Road Frames",
         "1431.5000"
        ],
        [
         "717",
         "HL Road Frame - Red, 62",
         "Road Frames",
         "1431.5000"
        ],
        [
         "718",
         "HL Road Frame - Red, 44",
         "Road Frames",
         "1431.5000"
        ],
        [
         "719",
         "HL Road Frame - Red, 48",
         "Road Frames",
         "1431.5000"
        ],
        [
         "720",
         "HL Road Frame - Red, 52",
         "Road Frames",
         "1431.5000"
        ],
        [
         "721",
         "HL Road Frame - Red, 56",
         "Road Frames",
         "1431.5000"
        ],
        [
         "722",
         "LL Road Frame - Black, 58",
         "Road Frames",
         "337.2200"
        ],
        [
         "723",
         "LL Road Frame - Black, 60",
         "Road Frames",
         "337.2200"
        ],
        [
         "724",
         "LL Road Frame - Black, 62",
         "Road Frames",
         "337.2200"
        ],
        [
         "725",
         "LL Road Frame - Red, 44",
         "Road Frames",
         "337.2200"
        ],
        [
         "726",
         "LL Road Frame - Red, 48",
         "Road Frames",
         "337.2200"
        ],
        [
         "727",
         "LL Road Frame - Red, 52",
         "Road Frames",
         "337.2200"
        ],
        [
         "728",
         "LL Road Frame - Red, 58",
         "Road Frames",
         "337.2200"
        ],
        [
         "729",
         "LL Road Frame - Red, 60",
         "Road Frames",
         "337.2200"
        ],
        [
         "730",
         "LL Road Frame - Red, 62",
         "Road Frames",
         "337.2200"
        ],
        [
         "731",
         "ML Road Frame - Red, 44",
         "Road Frames",
         "594.8300"
        ],
        [
         "732",
         "ML Road Frame - Red, 48",
         "Road Frames",
         "594.8300"
        ],
        [
         "733",
         "ML Road Frame - Red, 52",
         "Road Frames",
         "594.8300"
        ],
        [
         "734",
         "ML Road Frame - Red, 58",
         "Road Frames",
         "594.8300"
        ],
        [
         "735",
         "ML Road Frame - Red, 60",
         "Road Frames",
         "594.8300"
        ],
        [
         "736",
         "LL Road Frame - Black, 44",
         "Road Frames",
         "337.2200"
        ],
        [
         "737",
         "LL Road Frame - Black, 48",
         "Road Frames",
         "337.2200"
        ],
        [
         "738",
         "LL Road Frame - Black, 52",
         "Road Frames",
         "337.2200"
        ],
        [
         "908",
         "LL Mountain Seat/Saddle",
         "Saddles",
         "27.1200"
        ],
        [
         "909",
         "ML Mountain Seat/Saddle",
         "Saddles",
         "39.1400"
        ],
        [
         "910",
         "HL Mountain Seat/Saddle",
         "Saddles",
         "52.6400"
        ],
        [
         "911",
         "LL Road Seat/Saddle",
         "Saddles",
         "27.1200"
        ],
        [
         "912",
         "ML Road Seat/Saddle",
         "Saddles",
         "39.1400"
        ],
        [
         "913",
         "HL Road Seat/Saddle",
         "Saddles",
         "52.6400"
        ],
        [
         "914",
         "LL Touring Seat/Saddle",
         "Saddles",
         "27.1200"
        ],
        [
         "915",
         "ML Touring Seat/Saddle",
         "Saddles",
         "39.1400"
        ],
        [
         "916",
         "HL Touring Seat/Saddle",
         "Saddles",
         "52.6400"
        ],
        [
         "895",
         "LL Touring Frame - Blue, 50",
         "Touring Frames",
         "333.4200"
        ],
        [
         "896",
         "LL Touring Frame - Blue, 54",
         "Touring Frames",
         "333.4200"
        ],
        [
         "897",
         "LL Touring Frame - Blue, 58",
         "Touring Frames",
         "333.4200"
        ],
        [
         "898",
         "LL Touring Frame - Blue, 62",
         "Touring Frames",
         "333.4200"
        ],
        [
         "899",
         "LL Touring Frame - Yellow, 44",
         "Touring Frames",
         "333.4200"
        ],
        [
         "900",
         "LL Touring Frame - Yellow, 50",
         "Touring Frames",
         "333.4200"
        ],
        [
         "901",
         "LL Touring Frame - Yellow, 54",
         "Touring Frames",
         "333.4200"
        ],
        [
         "902",
         "LL Touring Frame - Yellow, 58",
         "Touring Frames",
         "333.4200"
        ],
        [
         "903",
         "LL Touring Frame - Blue, 44",
         "Touring Frames",
         "333.4200"
        ],
        [
         "885",
         "HL Touring Frame - Yellow, 60",
         "Touring Frames",
         "1003.9100"
        ],
        [
         "886",
         "LL Touring Frame - Yellow, 62",
         "Touring Frames",
         "333.4200"
        ],
        [
         "887",
         "HL Touring Frame - Yellow, 46",
         "Touring Frames",
         "1003.9100"
        ],
        [
         "888",
         "HL Touring Frame - Yellow, 50",
         "Touring Frames",
         "1003.9100"
        ],
        [
         "889",
         "HL Touring Frame - Yellow, 54",
         "Touring Frames",
         "1003.9100"
        ],
        [
         "890",
         "HL Touring Frame - Blue, 46",
         "Touring Frames",
         "1003.9100"
        ],
        [
         "891",
         "HL Touring Frame - Blue, 50",
         "Touring Frames",
         "1003.9100"
        ],
        [
         "892",
         "HL Touring Frame - Blue, 54",
         "Touring Frames",
         "1003.9100"
        ],
        [
         "893",
         "HL Touring Frame - Blue, 60",
         "Touring Frames",
         "1003.9100"
        ],
        [
         "823",
         "LL Mountain Rear Wheel",
         "Wheels",
         "87.7450"
        ],
        [
         "824",
         "ML Mountain Rear Wheel",
         "Wheels",
         "236.0250"
        ],
        [
         "825",
         "HL Mountain Rear Wheel",
         "Wheels",
         "327.2150"
        ],
        [
         "826",
         "LL Road Rear Wheel",
         "Wheels",
         "112.5650"
        ],
        [
         "827",
         "ML Road Rear Wheel",
         "Wheels",
         "275.3850"
        ],
        [
         "828",
         "HL Road Rear Wheel",
         "Wheels",
         "357.0600"
        ],
        [
         "829",
         "Touring Rear Wheel",
         "Wheels",
         "245.0100"
        ],
        [
         "815",
         "LL Mountain Front Wheel",
         "Wheels",
         "60.7450"
        ],
        [
         "816",
         "ML Mountain Front Wheel",
         "Wheels",
         "209.0250"
        ],
        [
         "817",
         "HL Mountain Front Wheel",
         "Wheels",
         "300.2150"
        ],
        [
         "818",
         "LL Road Front Wheel",
         "Wheels",
         "85.5650"
        ],
        [
         "819",
         "ML Road Front Wheel",
         "Wheels",
         "248.3850"
        ],
        [
         "820",
         "HL Road Front Wheel",
         "Wheels",
         "330.0600"
        ],
        [
         "821",
         "Touring Front Wheel",
         "Wheels",
         "218.0100"
        ],
        [
         "855",
         "Men's Bib-Shorts, S",
         "Bib-Shorts",
         "89.9900"
        ],
        [
         "856",
         "Men's Bib-Shorts, M",
         "Bib-Shorts",
         "89.9900"
        ],
        [
         "857",
         "Men's Bib-Shorts, L",
         "Bib-Shorts",
         "89.9900"
        ],
        [
         "712",
         "AWC Logo Cap",
         "Caps",
         "8.9900"
        ],
        [
         "858",
         "Half-Finger Gloves, S",
         "Gloves",
         "24.4900"
        ],
        [
         "859",
         "Half-Finger Gloves, M",
         "Gloves",
         "24.4900"
        ],
        [
         "860",
         "Half-Finger Gloves, L",
         "Gloves",
         "24.4900"
        ],
        [
         "861",
         "Full-Finger Gloves, S",
         "Gloves",
         "37.9900"
        ],
        [
         "862",
         "Full-Finger Gloves, M",
         "Gloves",
         "37.9900"
        ],
        [
         "863",
         "Full-Finger Gloves, L",
         "Gloves",
         "37.9900"
        ],
        [
         "713",
         "Long-Sleeve Logo Jersey, S",
         "Jerseys",
         "49.9900"
        ],
        [
         "714",
         "Long-Sleeve Logo Jersey, M",
         "Jerseys",
         "49.9900"
        ],
        [
         "715",
         "Long-Sleeve Logo Jersey, L",
         "Jerseys",
         "49.9900"
        ],
        [
         "716",
         "Long-Sleeve Logo Jersey, XL",
         "Jerseys",
         "49.9900"
        ],
        [
         "881",
         "Short-Sleeve Classic Jersey, S",
         "Jerseys",
         "53.9900"
        ],
        [
         "882",
         "Short-Sleeve Classic Jersey, M",
         "Jerseys",
         "53.9900"
        ],
        [
         "883",
         "Short-Sleeve Classic Jersey, L",
         "Jerseys",
         "53.9900"
        ],
        [
         "884",
         "Short-Sleeve Classic Jersey, XL",
         "Jerseys",
         "53.9900"
        ],
        [
         "867",
         "Women's Mountain Shorts, S",
         "Shorts",
         "69.9900"
        ],
        [
         "868",
         "Women's Mountain Shorts, M",
         "Shorts",
         "69.9900"
        ],
        [
         "869",
         "Women's Mountain Shorts, L",
         "Shorts",
         "69.9900"
        ],
        [
         "841",
         "Men's Sports Shorts, S",
         "Shorts",
         "59.9900"
        ],
        [
         "849",
         "Men's Sports Shorts, M",
         "Shorts",
         "59.9900"
        ],
        [
         "850",
         "Men's Sports Shorts, L",
         "Shorts",
         "59.9900"
        ],
        [
         "851",
         "Men's Sports Shorts, XL",
         "Shorts",
         "59.9900"
        ],
        [
         "709",
         "Mountain Bike Socks, M",
         "Socks",
         "9.5000"
        ],
        [
         "710",
         "Mountain Bike Socks, L",
         "Socks",
         "9.5000"
        ],
        [
         "874",
         "Racing Socks, M",
         "Socks",
         "8.9900"
        ],
        [
         "875",
         "Racing Socks, L",
         "Socks",
         "8.9900"
        ],
        [
         "852",
         "Women's Tights, S",
         "Tights",
         "74.9900"
        ],
        [
         "853",
         "Women's Tights, M",
         "Tights",
         "74.9900"
        ],
        [
         "854",
         "Women's Tights, L",
         "Tights",
         "74.9900"
        ],
        [
         "864",
         "Classic Vest, S",
         "Vests",
         "63.5000"
        ],
        [
         "865",
         "Classic Vest, M",
         "Vests",
         "63.5000"
        ],
        [
         "866",
         "Classic Vest, L",
         "Vests",
         "63.5000"
        ],
        [
         "876",
         "Hitch Rack - 4-Bike",
         "Bike Racks",
         "120.0000"
        ],
        [
         "879",
         "All-Purpose Bike Stand",
         "Bike Stands",
         "159.0000"
        ],
        [
         "870",
         "Water Bottle - 30 oz.",
         "Bottles and Cages",
         "4.9900"
        ],
        [
         "871",
         "Mountain Bottle Cage",
         "Bottles and Cages",
         "9.9900"
        ],
        [
         "872",
         "Road Bottle Cage",
         "Bottles and Cages",
         "8.9900"
        ],
        [
         "877",
         "Bike Wash - Dissolver",
         "Cleaners",
         "7.9500"
        ],
        [
         "878",
         "Fender Set - Mountain",
         "Fenders",
         "21.9800"
        ],
        [
         "711",
         "Sport-100 Helmet, Blue",
         "Helmets",
         "34.9900"
        ],
        [
         "707",
         "Sport-100 Helmet, Red",
         "Helmets",
         "34.9900"
        ],
        [
         "708",
         "Sport-100 Helmet, Black",
         "Helmets",
         "34.9900"
        ],
        [
         "880",
         "Hydration Pack - 70 oz.",
         "Hydration Packs",
         "54.9900"
        ],
        [
         "846",
         "Taillights - Battery-Powered",
         "Lights",
         "13.9900"
        ],
        [
         "847",
         "Headlights - Dual-Beam",
         "Lights",
         "34.9900"
        ],
        [
         "848",
         "Headlights - Weatherproof",
         "Lights",
         "44.9900"
        ],
        [
         "843",
         "Cable Lock",
         "Locks",
         "25.0000"
        ],
        [
         "842",
         "Touring-Panniers, Large",
         "Panniers",
         "125.0000"
        ],
        [
         "844",
         "Minipump",
         "Pumps",
         "19.9900"
        ],
        [
         "845",
         "Mountain Pump",
         "Pumps",
         "24.9900"
        ],
        [
         "873",
         "Patch Kit/8 Patches",
         "Tires and Tubes",
         "2.2900"
        ],
        [
         "921",
         "Mountain Tire Tube",
         "Tires and Tubes",
         "4.9900"
        ],
        [
         "922",
         "Road Tire Tube",
         "Tires and Tubes",
         "3.9900"
        ],
        [
         "923",
         "Touring Tire Tube",
         "Tires and Tubes",
         "4.9900"
        ],
        [
         "928",
         "LL Mountain Tire",
         "Tires and Tubes",
         "24.9900"
        ],
        [
         "929",
         "ML Mountain Tire",
         "Tires and Tubes",
         "29.9900"
        ],
        [
         "930",
         "HL Mountain Tire",
         "Tires and Tubes",
         "35.0000"
        ],
        [
         "931",
         "LL Road Tire",
         "Tires and Tubes",
         "21.4900"
        ],
        [
         "932",
         "ML Road Tire",
         "Tires and Tubes",
         "24.9900"
        ],
        [
         "933",
         "HL Road Tire",
         "Tires and Tubes",
         "32.6000"
        ],
        [
         "934",
         "Touring Tire",
         "Tires and Tubes",
         "28.9900"
        ]
       ],
       "schema": {
        "fields": [
         {
          "metadata": {},
          "name": "ProductID",
          "nullable": true,
          "type": "string"
         },
         {
          "metadata": {},
          "name": "ProductName",
          "nullable": true,
          "type": "string"
         },
         {
          "metadata": {},
          "name": "Category",
          "nullable": true,
          "type": "string"
         },
         {
          "metadata": {},
          "name": "ListPrice",
          "nullable": true,
          "type": "string"
         }
        ],
        "type": "struct"
       }
      },
      "text/plain": [
       "<Spark SQL result set with 295 rows and 4 fields>"
      ]
     },
     "execution_count": 72,
     "metadata": {},
     "output_type": "execute_result"
    }
   ],
   "source": [
    " %%sql\n",
    " \n",
    " USE AdventureWorks;\n",
    "\n",
    " SELECT * FROM Products;"
   ]
  },
  {
   "cell_type": "code",
   "execution_count": null,
   "metadata": {
    "jupyter": {
     "outputs_hidden": false,
     "source_hidden": false
    },
    "nteract": {
     "transient": {
      "deleting": false
     }
    }
   },
   "outputs": [],
   "source": []
  },
  {
   "cell_type": "code",
   "execution_count": null,
   "metadata": {
    "jupyter": {
     "outputs_hidden": false,
     "source_hidden": false
    },
    "nteract": {
     "transient": {
      "deleting": false
     }
    }
   },
   "outputs": [],
   "source": []
  },
  {
   "cell_type": "code",
   "execution_count": null,
   "metadata": {
    "jupyter": {
     "outputs_hidden": false,
     "source_hidden": false
    },
    "nteract": {
     "transient": {
      "deleting": false
     }
    }
   },
   "outputs": [],
   "source": []
  }
 ],
 "metadata": {
  "kernel_info": {
   "name": "synapse_pyspark"
  },
  "kernelspec": {
   "display_name": "Synapse PySpark",
   "language": "Python",
   "name": "synapse_pyspark"
  },
  "language_info": {
   "name": "python"
  },
  "save_output": true,
  "synapse_widget": {
   "state": {
    "409a29d8-4d38-4b59-8471-77920b1fbde4": {
     "persist_state": {
      "view": {
       "chartOptions": {
        "aggregationType": "sum",
        "categoryFieldKeys": [
         "1"
        ],
        "chartType": "bar",
        "isStacked": false,
        "seriesFieldKeys": [
         "0"
        ]
       },
       "tableOptions": {},
       "type": "details"
      }
     },
     "sync_state": {
      "isSummary": false,
      "language": "scala",
      "table": {
       "rows": [
        {
         "0": "1",
         "1": "2024-12-02 14:17:01.608",
         "4": "UPDATE",
         "5": {
          "predicate": "[\"(cast(ProductID#3125 as int) = 771)\"]"
         },
         "9": "0",
         "10": "Serializable",
         "11": "false",
         "12": {
          "executionTimeMs": "4084",
          "numAddedBytes": "6245",
          "numAddedChangeFiles": "0",
          "numAddedFiles": "1",
          "numCopiedRows": "294",
          "numRemovedBytes": "6233",
          "numRemovedFiles": "1",
          "numUpdatedRows": "1",
          "rewriteTimeMs": "851",
          "scanTimeMs": "3233"
         },
         "14": "Apache-Spark/3.4.3.5.3.20241016.1 Delta-Lake/2.4.0.19"
        },
        {
         "0": "0",
         "1": "2024-12-02 14:16:35.663",
         "4": "WRITE",
         "5": {
          "mode": "ErrorIfExists",
          "partitionBy": "[]"
         },
         "10": "Serializable",
         "11": "true",
         "12": {
          "numFiles": "1",
          "numOutputBytes": "6233",
          "numOutputRows": "295"
         },
         "14": "Apache-Spark/3.4.3.5.3.20241016.1 Delta-Lake/2.4.0.19"
        }
       ],
       "schema": [
        {
         "key": "0",
         "name": "version",
         "type": "bigint"
        },
        {
         "key": "1",
         "name": "timestamp",
         "type": "timestamp"
        },
        {
         "key": "2",
         "name": "userId",
         "type": "string"
        },
        {
         "key": "3",
         "name": "userName",
         "type": "string"
        },
        {
         "key": "4",
         "name": "operation",
         "type": "string"
        },
        {
         "key": "5",
         "name": "operationParameters",
         "type": "MapType(StringType,StringType,true)"
        },
        {
         "key": "6",
         "name": "job",
         "type": "StructType(StructField(jobId,StringType,true),StructField(jobName,StringType,true),StructField(runId,StringType,true),StructField(jobOwnerId,StringType,true),StructField(triggerType,StringType,true))"
        },
        {
         "key": "7",
         "name": "notebook",
         "type": "StructType(StructField(notebookId,StringType,true))"
        },
        {
         "key": "8",
         "name": "clusterId",
         "type": "string"
        },
        {
         "key": "9",
         "name": "readVersion",
         "type": "bigint"
        },
        {
         "key": "10",
         "name": "isolationLevel",
         "type": "string"
        },
        {
         "key": "11",
         "name": "isBlindAppend",
         "type": "boolean"
        },
        {
         "key": "12",
         "name": "operationMetrics",
         "type": "MapType(StringType,StringType,true)"
        },
        {
         "key": "13",
         "name": "userMetadata",
         "type": "string"
        },
        {
         "key": "14",
         "name": "engineInfo",
         "type": "string"
        }
       ],
       "truncated": false
      },
      "wranglerEntryContext": {
       "dataframeType": "pyspark"
      }
     },
     "type": "Synapse.DataFrame"
    },
    "807dd7b7-b8c8-4866-875a-468269cac1df": {
     "persist_state": {
      "view": {
       "chartOptions": {
        "aggregationType": "count",
        "categoryFieldKeys": [
         "0"
        ],
        "chartType": "bar",
        "isStacked": false,
        "seriesFieldKeys": [
         "0"
        ]
       },
       "tableOptions": {},
       "type": "details"
      }
     },
     "sync_state": {
      "isSummary": false,
      "language": "scala",
      "table": {
       "rows": [
        {
         "0": "Dev1",
         "1": "ok"
        },
        {
         "0": "Dev1",
         "1": "ok"
        },
        {
         "0": "Dev1",
         "1": "ok"
        },
        {
         "0": "Dev2",
         "1": "error"
        },
        {
         "0": "Dev1",
         "1": "ok"
        },
        {
         "0": "Dev1",
         "1": "error"
        },
        {
         "0": "Dev2",
         "1": "ok"
        },
        {
         "0": "Dev2",
         "1": "error"
        },
        {
         "0": "Dev1",
         "1": "ok"
        }
       ],
       "schema": [
        {
         "key": "0",
         "name": "device",
         "type": "string"
        },
        {
         "key": "1",
         "name": "status",
         "type": "string"
        }
       ],
       "truncated": false
      },
      "wranglerEntryContext": null
     },
     "type": "Synapse.DataFrame"
    },
    "9d0f5935-30e6-46ce-af66-5abb6c849b15": {
     "persist_state": {
      "view": {
       "chartOptions": {
        "aggregationType": "count",
        "categoryFieldKeys": [
         "0"
        ],
        "chartType": "bar",
        "isStacked": false,
        "seriesFieldKeys": [
         "0"
        ]
       },
       "tableOptions": {},
       "type": "details"
      }
     },
     "sync_state": {
      "isSummary": false,
      "language": "scala",
      "table": {
       "rows": [
        {
         "0": "771",
         "1": "Mountain-100 Silver, 38",
         "2": "Mountain Bikes",
         "3": "3399.9900"
        },
        {
         "0": "772",
         "1": "Mountain-100 Silver, 42",
         "2": "Mountain Bikes",
         "3": "3399.9900"
        },
        {
         "0": "773",
         "1": "Mountain-100 Silver, 44",
         "2": "Mountain Bikes",
         "3": "3399.9900"
        },
        {
         "0": "774",
         "1": "Mountain-100 Silver, 48",
         "2": "Mountain Bikes",
         "3": "3399.9900"
        },
        {
         "0": "775",
         "1": "Mountain-100 Black, 38",
         "2": "Mountain Bikes",
         "3": "3374.9900"
        },
        {
         "0": "776",
         "1": "Mountain-100 Black, 42",
         "2": "Mountain Bikes",
         "3": "3374.9900"
        },
        {
         "0": "777",
         "1": "Mountain-100 Black, 44",
         "2": "Mountain Bikes",
         "3": "3374.9900"
        },
        {
         "0": "778",
         "1": "Mountain-100 Black, 48",
         "2": "Mountain Bikes",
         "3": "3374.9900"
        },
        {
         "0": "779",
         "1": "Mountain-200 Silver, 38",
         "2": "Mountain Bikes",
         "3": "2319.9900"
        },
        {
         "0": "780",
         "1": "Mountain-200 Silver, 42",
         "2": "Mountain Bikes",
         "3": "2319.9900"
        }
       ],
       "schema": [
        {
         "key": "0",
         "name": "ProductID",
         "type": "string"
        },
        {
         "key": "1",
         "name": "ProductName",
         "type": "string"
        },
        {
         "key": "2",
         "name": "Category",
         "type": "string"
        },
        {
         "key": "3",
         "name": "ListPrice",
         "type": "string"
        }
       ],
       "truncated": false
      },
      "wranglerEntryContext": {
       "dataframeType": "pyspark"
      }
     },
     "type": "Synapse.DataFrame"
    },
    "b9045623-1592-4354-a3bd-e5ed1bb47908": {
     "persist_state": {
      "view": {
       "chartOptions": {
        "aggregationType": "count",
        "categoryFieldKeys": [
         "0"
        ],
        "chartType": "bar",
        "isStacked": false,
        "seriesFieldKeys": [
         "0"
        ]
       },
       "tableOptions": {},
       "type": "details"
      }
     },
     "sync_state": {
      "isSummary": false,
      "language": "scala",
      "table": {
       "rows": [
        {
         "0": "ProductID",
         "1": "ProductName",
         "2": "Category",
         "3": "ListPrice"
        },
        {
         "0": "771",
         "1": "Mountain-100 Silver, 38",
         "2": "Mountain Bikes",
         "3": "3399.9900"
        },
        {
         "0": "772",
         "1": "Mountain-100 Silver, 42",
         "2": "Mountain Bikes",
         "3": "3399.9900"
        },
        {
         "0": "773",
         "1": "Mountain-100 Silver, 44",
         "2": "Mountain Bikes",
         "3": "3399.9900"
        },
        {
         "0": "774",
         "1": "Mountain-100 Silver, 48",
         "2": "Mountain Bikes",
         "3": "3399.9900"
        },
        {
         "0": "775",
         "1": "Mountain-100 Black, 38",
         "2": "Mountain Bikes",
         "3": "3374.9900"
        },
        {
         "0": "776",
         "1": "Mountain-100 Black, 42",
         "2": "Mountain Bikes",
         "3": "3374.9900"
        },
        {
         "0": "777",
         "1": "Mountain-100 Black, 44",
         "2": "Mountain Bikes",
         "3": "3374.9900"
        },
        {
         "0": "778",
         "1": "Mountain-100 Black, 48",
         "2": "Mountain Bikes",
         "3": "3374.9900"
        },
        {
         "0": "779",
         "1": "Mountain-200 Silver, 38",
         "2": "Mountain Bikes",
         "3": "2319.9900"
        }
       ],
       "schema": [
        {
         "key": "0",
         "name": "_c0",
         "type": "string"
        },
        {
         "key": "1",
         "name": "_c1",
         "type": "string"
        },
        {
         "key": "2",
         "name": "_c2",
         "type": "string"
        },
        {
         "key": "3",
         "name": "_c3",
         "type": "string"
        }
       ],
       "truncated": false
      },
      "wranglerEntryContext": {
       "dataframeType": "pyspark"
      }
     },
     "type": "Synapse.DataFrame"
    },
    "d61e4ece-3dd6-418a-a392-b71744d9f88c": {
     "persist_state": {
      "view": {
       "chartOptions": {
        "aggregationType": "count",
        "categoryFieldKeys": [
         "0"
        ],
        "chartType": "bar",
        "isStacked": false,
        "seriesFieldKeys": [
         "0"
        ]
       },
       "tableOptions": {},
       "type": "details"
      }
     },
     "sync_state": {
      "isSummary": false,
      "language": "scala",
      "table": {
       "rows": [
        {
         "0": "771",
         "1": "Mountain-100 Silver, 38",
         "2": "Mountain Bikes",
         "3": "3059.991"
        },
        {
         "0": "772",
         "1": "Mountain-100 Silver, 42",
         "2": "Mountain Bikes",
         "3": "3399.9900"
        },
        {
         "0": "773",
         "1": "Mountain-100 Silver, 44",
         "2": "Mountain Bikes",
         "3": "3399.9900"
        },
        {
         "0": "774",
         "1": "Mountain-100 Silver, 48",
         "2": "Mountain Bikes",
         "3": "3399.9900"
        },
        {
         "0": "775",
         "1": "Mountain-100 Black, 38",
         "2": "Mountain Bikes",
         "3": "3374.9900"
        },
        {
         "0": "776",
         "1": "Mountain-100 Black, 42",
         "2": "Mountain Bikes",
         "3": "3374.9900"
        },
        {
         "0": "777",
         "1": "Mountain-100 Black, 44",
         "2": "Mountain Bikes",
         "3": "3374.9900"
        },
        {
         "0": "778",
         "1": "Mountain-100 Black, 48",
         "2": "Mountain Bikes",
         "3": "3374.9900"
        },
        {
         "0": "779",
         "1": "Mountain-200 Silver, 38",
         "2": "Mountain Bikes",
         "3": "2319.9900"
        },
        {
         "0": "780",
         "1": "Mountain-200 Silver, 42",
         "2": "Mountain Bikes",
         "3": "2319.9900"
        },
        {
         "0": "781",
         "1": "Mountain-200 Silver, 46",
         "2": "Mountain Bikes",
         "3": "2319.9900"
        },
        {
         "0": "782",
         "1": "Mountain-200 Black, 38",
         "2": "Mountain Bikes",
         "3": "2294.9900"
        },
        {
         "0": "783",
         "1": "Mountain-200 Black, 42",
         "2": "Mountain Bikes",
         "3": "2294.9900"
        },
        {
         "0": "784",
         "1": "Mountain-200 Black, 46",
         "2": "Mountain Bikes",
         "3": "2294.9900"
        },
        {
         "0": "785",
         "1": "Mountain-300 Black, 38",
         "2": "Mountain Bikes",
         "3": "1079.9900"
        },
        {
         "0": "786",
         "1": "Mountain-300 Black, 40",
         "2": "Mountain Bikes",
         "3": "1079.9900"
        },
        {
         "0": "787",
         "1": "Mountain-300 Black, 44",
         "2": "Mountain Bikes",
         "3": "1079.9900"
        },
        {
         "0": "788",
         "1": "Mountain-300 Black, 48",
         "2": "Mountain Bikes",
         "3": "1079.9900"
        },
        {
         "0": "980",
         "1": "Mountain-400-W Silver, 38",
         "2": "Mountain Bikes",
         "3": "769.4900"
        },
        {
         "0": "981",
         "1": "Mountain-400-W Silver, 40",
         "2": "Mountain Bikes",
         "3": "769.4900"
        },
        {
         "0": "982",
         "1": "Mountain-400-W Silver, 42",
         "2": "Mountain Bikes",
         "3": "769.4900"
        },
        {
         "0": "983",
         "1": "Mountain-400-W Silver, 46",
         "2": "Mountain Bikes",
         "3": "769.4900"
        },
        {
         "0": "984",
         "1": "Mountain-500 Silver, 40",
         "2": "Mountain Bikes",
         "3": "564.9900"
        },
        {
         "0": "985",
         "1": "Mountain-500 Silver, 42",
         "2": "Mountain Bikes",
         "3": "564.9900"
        },
        {
         "0": "986",
         "1": "Mountain-500 Silver, 44",
         "2": "Mountain Bikes",
         "3": "564.9900"
        },
        {
         "0": "987",
         "1": "Mountain-500 Silver, 48",
         "2": "Mountain Bikes",
         "3": "564.9900"
        },
        {
         "0": "988",
         "1": "Mountain-500 Silver, 52",
         "2": "Mountain Bikes",
         "3": "564.9900"
        },
        {
         "0": "989",
         "1": "Mountain-500 Black, 40",
         "2": "Mountain Bikes",
         "3": "539.9900"
        },
        {
         "0": "990",
         "1": "Mountain-500 Black, 42",
         "2": "Mountain Bikes",
         "3": "539.9900"
        },
        {
         "0": "991",
         "1": "Mountain-500 Black, 44",
         "2": "Mountain Bikes",
         "3": "539.9900"
        },
        {
         "0": "992",
         "1": "Mountain-500 Black, 48",
         "2": "Mountain Bikes",
         "3": "539.9900"
        },
        {
         "0": "993",
         "1": "Mountain-500 Black, 52",
         "2": "Mountain Bikes",
         "3": "539.9900"
        },
        {
         "0": "973",
         "1": "Road-350-W Yellow, 40",
         "2": "Road Bikes",
         "3": "1700.9900"
        },
        {
         "0": "974",
         "1": "Road-350-W Yellow, 42",
         "2": "Road Bikes",
         "3": "1700.9900"
        },
        {
         "0": "975",
         "1": "Road-350-W Yellow, 44",
         "2": "Road Bikes",
         "3": "1700.9900"
        },
        {
         "0": "976",
         "1": "Road-350-W Yellow, 48",
         "2": "Road Bikes",
         "3": "1700.9900"
        },
        {
         "0": "977",
         "1": "Road-750 Black, 58",
         "2": "Road Bikes",
         "3": "539.9900"
        },
        {
         "0": "997",
         "1": "Road-750 Black, 44",
         "2": "Road Bikes",
         "3": "539.9900"
        },
        {
         "0": "998",
         "1": "Road-750 Black, 48",
         "2": "Road Bikes",
         "3": "539.9900"
        },
        {
         "0": "999",
         "1": "Road-750 Black, 52",
         "2": "Road Bikes",
         "3": "539.9900"
        },
        {
         "0": "789",
         "1": "Road-250 Red, 44",
         "2": "Road Bikes",
         "3": "2443.3500"
        },
        {
         "0": "790",
         "1": "Road-250 Red, 48",
         "2": "Road Bikes",
         "3": "2443.3500"
        },
        {
         "0": "791",
         "1": "Road-250 Red, 52",
         "2": "Road Bikes",
         "3": "2443.3500"
        },
        {
         "0": "792",
         "1": "Road-250 Red, 58",
         "2": "Road Bikes",
         "3": "2443.3500"
        },
        {
         "0": "793",
         "1": "Road-250 Black, 44",
         "2": "Road Bikes",
         "3": "2443.3500"
        },
        {
         "0": "794",
         "1": "Road-250 Black, 48",
         "2": "Road Bikes",
         "3": "2443.3500"
        },
        {
         "0": "795",
         "1": "Road-250 Black, 52",
         "2": "Road Bikes",
         "3": "2443.3500"
        },
        {
         "0": "796",
         "1": "Road-250 Black, 58",
         "2": "Road Bikes",
         "3": "2443.3500"
        },
        {
         "0": "797",
         "1": "Road-550-W Yellow, 38",
         "2": "Road Bikes",
         "3": "1120.4900"
        },
        {
         "0": "798",
         "1": "Road-550-W Yellow, 40",
         "2": "Road Bikes",
         "3": "1120.4900"
        },
        {
         "0": "799",
         "1": "Road-550-W Yellow, 42",
         "2": "Road Bikes",
         "3": "1120.4900"
        },
        {
         "0": "800",
         "1": "Road-550-W Yellow, 44",
         "2": "Road Bikes",
         "3": "1120.4900"
        },
        {
         "0": "801",
         "1": "Road-550-W Yellow, 48",
         "2": "Road Bikes",
         "3": "1120.4900"
        },
        {
         "0": "749",
         "1": "Road-150 Red, 62",
         "2": "Road Bikes",
         "3": "3578.2700"
        },
        {
         "0": "750",
         "1": "Road-150 Red, 44",
         "2": "Road Bikes",
         "3": "3578.2700"
        },
        {
         "0": "751",
         "1": "Road-150 Red, 48",
         "2": "Road Bikes",
         "3": "3578.2700"
        },
        {
         "0": "752",
         "1": "Road-150 Red, 52",
         "2": "Road Bikes",
         "3": "3578.2700"
        },
        {
         "0": "753",
         "1": "Road-150 Red, 56",
         "2": "Road Bikes",
         "3": "3578.2700"
        },
        {
         "0": "754",
         "1": "Road-450 Red, 58",
         "2": "Road Bikes",
         "3": "1457.9900"
        },
        {
         "0": "755",
         "1": "Road-450 Red, 60",
         "2": "Road Bikes",
         "3": "1457.9900"
        },
        {
         "0": "756",
         "1": "Road-450 Red, 44",
         "2": "Road Bikes",
         "3": "1457.9900"
        },
        {
         "0": "757",
         "1": "Road-450 Red, 48",
         "2": "Road Bikes",
         "3": "1457.9900"
        },
        {
         "0": "758",
         "1": "Road-450 Red, 52",
         "2": "Road Bikes",
         "3": "1457.9900"
        },
        {
         "0": "759",
         "1": "Road-650 Red, 58",
         "2": "Road Bikes",
         "3": "782.9900"
        },
        {
         "0": "760",
         "1": "Road-650 Red, 60",
         "2": "Road Bikes",
         "3": "782.9900"
        },
        {
         "0": "761",
         "1": "Road-650 Red, 62",
         "2": "Road Bikes",
         "3": "782.9900"
        },
        {
         "0": "762",
         "1": "Road-650 Red, 44",
         "2": "Road Bikes",
         "3": "782.9900"
        },
        {
         "0": "763",
         "1": "Road-650 Red, 48",
         "2": "Road Bikes",
         "3": "782.9900"
        },
        {
         "0": "764",
         "1": "Road-650 Red, 52",
         "2": "Road Bikes",
         "3": "782.9900"
        },
        {
         "0": "765",
         "1": "Road-650 Black, 58",
         "2": "Road Bikes",
         "3": "782.9900"
        },
        {
         "0": "766",
         "1": "Road-650 Black, 60",
         "2": "Road Bikes",
         "3": "782.9900"
        },
        {
         "0": "767",
         "1": "Road-650 Black, 62",
         "2": "Road Bikes",
         "3": "782.9900"
        },
        {
         "0": "768",
         "1": "Road-650 Black, 44",
         "2": "Road Bikes",
         "3": "782.9900"
        },
        {
         "0": "769",
         "1": "Road-650 Black, 48",
         "2": "Road Bikes",
         "3": "782.9900"
        },
        {
         "0": "770",
         "1": "Road-650 Black, 52",
         "2": "Road Bikes",
         "3": "782.9900"
        },
        {
         "0": "978",
         "1": "Touring-3000 Blue, 44",
         "2": "Touring Bikes",
         "3": "742.3500"
        },
        {
         "0": "979",
         "1": "Touring-3000 Blue, 50",
         "2": "Touring Bikes",
         "3": "742.3500"
        },
        {
         "0": "953",
         "1": "Touring-2000 Blue, 60",
         "2": "Touring Bikes",
         "3": "1214.8500"
        },
        {
         "0": "954",
         "1": "Touring-1000 Yellow, 46",
         "2": "Touring Bikes",
         "3": "2384.0700"
        },
        {
         "0": "955",
         "1": "Touring-1000 Yellow, 50",
         "2": "Touring Bikes",
         "3": "2384.0700"
        },
        {
         "0": "956",
         "1": "Touring-1000 Yellow, 54",
         "2": "Touring Bikes",
         "3": "2384.0700"
        },
        {
         "0": "957",
         "1": "Touring-1000 Yellow, 60",
         "2": "Touring Bikes",
         "3": "2384.0700"
        },
        {
         "0": "958",
         "1": "Touring-3000 Blue, 54",
         "2": "Touring Bikes",
         "3": "742.3500"
        },
        {
         "0": "959",
         "1": "Touring-3000 Blue, 58",
         "2": "Touring Bikes",
         "3": "742.3500"
        },
        {
         "0": "960",
         "1": "Touring-3000 Blue, 62",
         "2": "Touring Bikes",
         "3": "742.3500"
        },
        {
         "0": "961",
         "1": "Touring-3000 Yellow, 44",
         "2": "Touring Bikes",
         "3": "742.3500"
        },
        {
         "0": "962",
         "1": "Touring-3000 Yellow, 50",
         "2": "Touring Bikes",
         "3": "742.3500"
        },
        {
         "0": "963",
         "1": "Touring-3000 Yellow, 54",
         "2": "Touring Bikes",
         "3": "742.3500"
        },
        {
         "0": "964",
         "1": "Touring-3000 Yellow, 58",
         "2": "Touring Bikes",
         "3": "742.3500"
        },
        {
         "0": "965",
         "1": "Touring-3000 Yellow, 62",
         "2": "Touring Bikes",
         "3": "742.3500"
        },
        {
         "0": "966",
         "1": "Touring-1000 Blue, 46",
         "2": "Touring Bikes",
         "3": "2384.0700"
        },
        {
         "0": "967",
         "1": "Touring-1000 Blue, 50",
         "2": "Touring Bikes",
         "3": "2384.0700"
        },
        {
         "0": "968",
         "1": "Touring-1000 Blue, 54",
         "2": "Touring Bikes",
         "3": "2384.0700"
        },
        {
         "0": "969",
         "1": "Touring-1000 Blue, 60",
         "2": "Touring Bikes",
         "3": "2384.0700"
        },
        {
         "0": "970",
         "1": "Touring-2000 Blue, 46",
         "2": "Touring Bikes",
         "3": "1214.8500"
        },
        {
         "0": "971",
         "1": "Touring-2000 Blue, 50",
         "2": "Touring Bikes",
         "3": "1214.8500"
        },
        {
         "0": "972",
         "1": "Touring-2000 Blue, 54",
         "2": "Touring Bikes",
         "3": "1214.8500"
        },
        {
         "0": "946",
         "1": "LL Touring Handlebars",
         "2": "Handlebars",
         "3": "46.0900"
        },
        {
         "0": "947",
         "1": "HL Touring Handlebars",
         "2": "Handlebars",
         "3": "91.5700"
        },
        {
         "0": "808",
         "1": "LL Mountain Handlebars",
         "2": "Handlebars",
         "3": "44.5400"
        },
        {
         "0": "809",
         "1": "ML Mountain Handlebars",
         "2": "Handlebars",
         "3": "61.9200"
        },
        {
         "0": "810",
         "1": "HL Mountain Handlebars",
         "2": "Handlebars",
         "3": "120.2700"
        },
        {
         "0": "811",
         "1": "LL Road Handlebars",
         "2": "Handlebars",
         "3": "44.5400"
        },
        {
         "0": "812",
         "1": "ML Road Handlebars",
         "2": "Handlebars",
         "3": "61.9200"
        },
        {
         "0": "813",
         "1": "HL Road Handlebars",
         "2": "Handlebars",
         "3": "120.2700"
        },
        {
         "0": "994",
         "1": "LL Bottom Bracket",
         "2": "Bottom Brackets",
         "3": "53.9900"
        },
        {
         "0": "995",
         "1": "ML Bottom Bracket",
         "2": "Bottom Brackets",
         "3": "101.2400"
        },
        {
         "0": "996",
         "1": "HL Bottom Bracket",
         "2": "Bottom Brackets",
         "3": "121.4900"
        },
        {
         "0": "948",
         "1": "Front Brakes",
         "2": "Brakes",
         "3": "106.5000"
        },
        {
         "0": "907",
         "1": "Rear Brakes",
         "2": "Brakes",
         "3": "106.5000"
        },
        {
         "0": "952",
         "1": "Chain",
         "2": "Chains",
         "3": "20.2400"
        },
        {
         "0": "949",
         "1": "LL Crankset",
         "2": "Cranksets",
         "3": "175.4900"
        },
        {
         "0": "950",
         "1": "ML Crankset",
         "2": "Cranksets",
         "3": "256.4900"
        },
        {
         "0": "951",
         "1": "HL Crankset",
         "2": "Cranksets",
         "3": "404.9900"
        },
        {
         "0": "945",
         "1": "Front Derailleur",
         "2": "Derailleurs",
         "3": "91.4900"
        },
        {
         "0": "894",
         "1": "Rear Derailleur",
         "2": "Derailleurs",
         "3": "121.4600"
        },
        {
         "0": "802",
         "1": "LL Fork",
         "2": "Forks",
         "3": "148.2200"
        },
        {
         "0": "803",
         "1": "ML Fork",
         "2": "Forks",
         "3": "175.4900"
        },
        {
         "0": "804",
         "1": "HL Fork",
         "2": "Forks",
         "3": "229.4900"
        },
        {
         "0": "805",
         "1": "LL Headset",
         "2": "Headsets",
         "3": "34.2000"
        },
        {
         "0": "806",
         "1": "ML Headset",
         "2": "Headsets",
         "3": "102.2900"
        },
        {
         "0": "807",
         "1": "HL Headset",
         "2": "Headsets",
         "3": "124.7300"
        },
        {
         "0": "739",
         "1": "HL Mountain Frame - Silver, 42",
         "2": "Mountain Frames",
         "3": "1364.5000"
        },
        {
         "0": "740",
         "1": "HL Mountain Frame - Silver, 44",
         "2": "Mountain Frames",
         "3": "1364.5000"
        },
        {
         "0": "741",
         "1": "HL Mountain Frame - Silver, 48",
         "2": "Mountain Frames",
         "3": "1364.5000"
        },
        {
         "0": "742",
         "1": "HL Mountain Frame - Silver, 46",
         "2": "Mountain Frames",
         "3": "1364.5000"
        },
        {
         "0": "743",
         "1": "HL Mountain Frame - Black, 42",
         "2": "Mountain Frames",
         "3": "1349.6000"
        },
        {
         "0": "744",
         "1": "HL Mountain Frame - Black, 44",
         "2": "Mountain Frames",
         "3": "1349.6000"
        },
        {
         "0": "745",
         "1": "HL Mountain Frame - Black, 48",
         "2": "Mountain Frames",
         "3": "1349.6000"
        },
        {
         "0": "746",
         "1": "HL Mountain Frame - Black, 46",
         "2": "Mountain Frames",
         "3": "1349.6000"
        },
        {
         "0": "747",
         "1": "HL Mountain Frame - Black, 38",
         "2": "Mountain Frames",
         "3": "1349.6000"
        },
        {
         "0": "748",
         "1": "HL Mountain Frame - Silver, 38",
         "2": "Mountain Frames",
         "3": "1364.5000"
        },
        {
         "0": "814",
         "1": "ML Mountain Frame - Black, 38",
         "2": "Mountain Frames",
         "3": "348.7600"
        },
        {
         "0": "830",
         "1": "ML Mountain Frame - Black, 40",
         "2": "Mountain Frames",
         "3": "348.7600"
        },
        {
         "0": "831",
         "1": "ML Mountain Frame - Black, 44",
         "2": "Mountain Frames",
         "3": "348.7600"
        },
        {
         "0": "832",
         "1": "ML Mountain Frame - Black, 48",
         "2": "Mountain Frames",
         "3": "348.7600"
        },
        {
         "0": "924",
         "1": "LL Mountain Frame - Black, 42",
         "2": "Mountain Frames",
         "3": "249.7900"
        },
        {
         "0": "925",
         "1": "LL Mountain Frame - Black, 44",
         "2": "Mountain Frames",
         "3": "249.7900"
        },
        {
         "0": "926",
         "1": "LL Mountain Frame - Black, 48",
         "2": "Mountain Frames",
         "3": "249.7900"
        },
        {
         "0": "927",
         "1": "LL Mountain Frame - Black, 52",
         "2": "Mountain Frames",
         "3": "249.7900"
        },
        {
         "0": "917",
         "1": "LL Mountain Frame - Silver, 42",
         "2": "Mountain Frames",
         "3": "264.0500"
        },
        {
         "0": "918",
         "1": "LL Mountain Frame - Silver, 44",
         "2": "Mountain Frames",
         "3": "264.0500"
        },
        {
         "0": "919",
         "1": "LL Mountain Frame - Silver, 48",
         "2": "Mountain Frames",
         "3": "264.0500"
        },
        {
         "0": "920",
         "1": "LL Mountain Frame - Silver, 52",
         "2": "Mountain Frames",
         "3": "264.0500"
        },
        {
         "0": "904",
         "1": "ML Mountain Frame-W - Silver, 40",
         "2": "Mountain Frames",
         "3": "364.0900"
        },
        {
         "0": "905",
         "1": "ML Mountain Frame-W - Silver, 42",
         "2": "Mountain Frames",
         "3": "364.0900"
        },
        {
         "0": "906",
         "1": "ML Mountain Frame-W - Silver, 46",
         "2": "Mountain Frames",
         "3": "364.0900"
        },
        {
         "0": "942",
         "1": "ML Mountain Frame-W - Silver, 38",
         "2": "Mountain Frames",
         "3": "364.0900"
        },
        {
         "0": "943",
         "1": "LL Mountain Frame - Black, 40",
         "2": "Mountain Frames",
         "3": "249.7900"
        },
        {
         "0": "944",
         "1": "LL Mountain Frame - Silver, 40",
         "2": "Mountain Frames",
         "3": "264.0500"
        },
        {
         "0": "935",
         "1": "LL Mountain Pedal",
         "2": "Pedals",
         "3": "40.4900"
        },
        {
         "0": "936",
         "1": "ML Mountain Pedal",
         "2": "Pedals",
         "3": "62.0900"
        },
        {
         "0": "937",
         "1": "HL Mountain Pedal",
         "2": "Pedals",
         "3": "80.9900"
        },
        {
         "0": "938",
         "1": "LL Road Pedal",
         "2": "Pedals",
         "3": "40.4900"
        },
        {
         "0": "939",
         "1": "ML Road Pedal",
         "2": "Pedals",
         "3": "62.0900"
        },
        {
         "0": "940",
         "1": "HL Road Pedal",
         "2": "Pedals",
         "3": "80.9900"
        },
        {
         "0": "941",
         "1": "Touring Pedal",
         "2": "Pedals",
         "3": "80.9900"
        },
        {
         "0": "833",
         "1": "ML Road Frame-W - Yellow, 40",
         "2": "Road Frames",
         "3": "594.8300"
        },
        {
         "0": "834",
         "1": "ML Road Frame-W - Yellow, 42",
         "2": "Road Frames",
         "3": "594.8300"
        },
        {
         "0": "835",
         "1": "ML Road Frame-W - Yellow, 44",
         "2": "Road Frames",
         "3": "594.8300"
        },
        {
         "0": "836",
         "1": "ML Road Frame-W - Yellow, 48",
         "2": "Road Frames",
         "3": "594.8300"
        },
        {
         "0": "837",
         "1": "HL Road Frame - Black, 62",
         "2": "Road Frames",
         "3": "1431.5000"
        },
        {
         "0": "838",
         "1": "HL Road Frame - Black, 44",
         "2": "Road Frames",
         "3": "1431.5000"
        },
        {
         "0": "839",
         "1": "HL Road Frame - Black, 48",
         "2": "Road Frames",
         "3": "1431.5000"
        },
        {
         "0": "840",
         "1": "HL Road Frame - Black, 52",
         "2": "Road Frames",
         "3": "1431.5000"
        },
        {
         "0": "822",
         "1": "ML Road Frame-W - Yellow, 38",
         "2": "Road Frames",
         "3": "594.8300"
        },
        {
         "0": "680",
         "1": "HL Road Frame - Black, 58",
         "2": "Road Frames",
         "3": "1431.5000"
        },
        {
         "0": "706",
         "1": "HL Road Frame - Red, 58",
         "2": "Road Frames",
         "3": "1431.5000"
        },
        {
         "0": "717",
         "1": "HL Road Frame - Red, 62",
         "2": "Road Frames",
         "3": "1431.5000"
        },
        {
         "0": "718",
         "1": "HL Road Frame - Red, 44",
         "2": "Road Frames",
         "3": "1431.5000"
        },
        {
         "0": "719",
         "1": "HL Road Frame - Red, 48",
         "2": "Road Frames",
         "3": "1431.5000"
        },
        {
         "0": "720",
         "1": "HL Road Frame - Red, 52",
         "2": "Road Frames",
         "3": "1431.5000"
        },
        {
         "0": "721",
         "1": "HL Road Frame - Red, 56",
         "2": "Road Frames",
         "3": "1431.5000"
        },
        {
         "0": "722",
         "1": "LL Road Frame - Black, 58",
         "2": "Road Frames",
         "3": "337.2200"
        },
        {
         "0": "723",
         "1": "LL Road Frame - Black, 60",
         "2": "Road Frames",
         "3": "337.2200"
        },
        {
         "0": "724",
         "1": "LL Road Frame - Black, 62",
         "2": "Road Frames",
         "3": "337.2200"
        },
        {
         "0": "725",
         "1": "LL Road Frame - Red, 44",
         "2": "Road Frames",
         "3": "337.2200"
        },
        {
         "0": "726",
         "1": "LL Road Frame - Red, 48",
         "2": "Road Frames",
         "3": "337.2200"
        },
        {
         "0": "727",
         "1": "LL Road Frame - Red, 52",
         "2": "Road Frames",
         "3": "337.2200"
        },
        {
         "0": "728",
         "1": "LL Road Frame - Red, 58",
         "2": "Road Frames",
         "3": "337.2200"
        },
        {
         "0": "729",
         "1": "LL Road Frame - Red, 60",
         "2": "Road Frames",
         "3": "337.2200"
        },
        {
         "0": "730",
         "1": "LL Road Frame - Red, 62",
         "2": "Road Frames",
         "3": "337.2200"
        },
        {
         "0": "731",
         "1": "ML Road Frame - Red, 44",
         "2": "Road Frames",
         "3": "594.8300"
        },
        {
         "0": "732",
         "1": "ML Road Frame - Red, 48",
         "2": "Road Frames",
         "3": "594.8300"
        },
        {
         "0": "733",
         "1": "ML Road Frame - Red, 52",
         "2": "Road Frames",
         "3": "594.8300"
        },
        {
         "0": "734",
         "1": "ML Road Frame - Red, 58",
         "2": "Road Frames",
         "3": "594.8300"
        },
        {
         "0": "735",
         "1": "ML Road Frame - Red, 60",
         "2": "Road Frames",
         "3": "594.8300"
        },
        {
         "0": "736",
         "1": "LL Road Frame - Black, 44",
         "2": "Road Frames",
         "3": "337.2200"
        },
        {
         "0": "737",
         "1": "LL Road Frame - Black, 48",
         "2": "Road Frames",
         "3": "337.2200"
        },
        {
         "0": "738",
         "1": "LL Road Frame - Black, 52",
         "2": "Road Frames",
         "3": "337.2200"
        },
        {
         "0": "908",
         "1": "LL Mountain Seat/Saddle",
         "2": "Saddles",
         "3": "27.1200"
        },
        {
         "0": "909",
         "1": "ML Mountain Seat/Saddle",
         "2": "Saddles",
         "3": "39.1400"
        },
        {
         "0": "910",
         "1": "HL Mountain Seat/Saddle",
         "2": "Saddles",
         "3": "52.6400"
        },
        {
         "0": "911",
         "1": "LL Road Seat/Saddle",
         "2": "Saddles",
         "3": "27.1200"
        },
        {
         "0": "912",
         "1": "ML Road Seat/Saddle",
         "2": "Saddles",
         "3": "39.1400"
        },
        {
         "0": "913",
         "1": "HL Road Seat/Saddle",
         "2": "Saddles",
         "3": "52.6400"
        },
        {
         "0": "914",
         "1": "LL Touring Seat/Saddle",
         "2": "Saddles",
         "3": "27.1200"
        },
        {
         "0": "915",
         "1": "ML Touring Seat/Saddle",
         "2": "Saddles",
         "3": "39.1400"
        },
        {
         "0": "916",
         "1": "HL Touring Seat/Saddle",
         "2": "Saddles",
         "3": "52.6400"
        },
        {
         "0": "895",
         "1": "LL Touring Frame - Blue, 50",
         "2": "Touring Frames",
         "3": "333.4200"
        },
        {
         "0": "896",
         "1": "LL Touring Frame - Blue, 54",
         "2": "Touring Frames",
         "3": "333.4200"
        },
        {
         "0": "897",
         "1": "LL Touring Frame - Blue, 58",
         "2": "Touring Frames",
         "3": "333.4200"
        },
        {
         "0": "898",
         "1": "LL Touring Frame - Blue, 62",
         "2": "Touring Frames",
         "3": "333.4200"
        },
        {
         "0": "899",
         "1": "LL Touring Frame - Yellow, 44",
         "2": "Touring Frames",
         "3": "333.4200"
        },
        {
         "0": "900",
         "1": "LL Touring Frame - Yellow, 50",
         "2": "Touring Frames",
         "3": "333.4200"
        },
        {
         "0": "901",
         "1": "LL Touring Frame - Yellow, 54",
         "2": "Touring Frames",
         "3": "333.4200"
        },
        {
         "0": "902",
         "1": "LL Touring Frame - Yellow, 58",
         "2": "Touring Frames",
         "3": "333.4200"
        },
        {
         "0": "903",
         "1": "LL Touring Frame - Blue, 44",
         "2": "Touring Frames",
         "3": "333.4200"
        },
        {
         "0": "885",
         "1": "HL Touring Frame - Yellow, 60",
         "2": "Touring Frames",
         "3": "1003.9100"
        },
        {
         "0": "886",
         "1": "LL Touring Frame - Yellow, 62",
         "2": "Touring Frames",
         "3": "333.4200"
        },
        {
         "0": "887",
         "1": "HL Touring Frame - Yellow, 46",
         "2": "Touring Frames",
         "3": "1003.9100"
        },
        {
         "0": "888",
         "1": "HL Touring Frame - Yellow, 50",
         "2": "Touring Frames",
         "3": "1003.9100"
        },
        {
         "0": "889",
         "1": "HL Touring Frame - Yellow, 54",
         "2": "Touring Frames",
         "3": "1003.9100"
        },
        {
         "0": "890",
         "1": "HL Touring Frame - Blue, 46",
         "2": "Touring Frames",
         "3": "1003.9100"
        },
        {
         "0": "891",
         "1": "HL Touring Frame - Blue, 50",
         "2": "Touring Frames",
         "3": "1003.9100"
        },
        {
         "0": "892",
         "1": "HL Touring Frame - Blue, 54",
         "2": "Touring Frames",
         "3": "1003.9100"
        },
        {
         "0": "893",
         "1": "HL Touring Frame - Blue, 60",
         "2": "Touring Frames",
         "3": "1003.9100"
        },
        {
         "0": "823",
         "1": "LL Mountain Rear Wheel",
         "2": "Wheels",
         "3": "87.7450"
        },
        {
         "0": "824",
         "1": "ML Mountain Rear Wheel",
         "2": "Wheels",
         "3": "236.0250"
        },
        {
         "0": "825",
         "1": "HL Mountain Rear Wheel",
         "2": "Wheels",
         "3": "327.2150"
        },
        {
         "0": "826",
         "1": "LL Road Rear Wheel",
         "2": "Wheels",
         "3": "112.5650"
        },
        {
         "0": "827",
         "1": "ML Road Rear Wheel",
         "2": "Wheels",
         "3": "275.3850"
        },
        {
         "0": "828",
         "1": "HL Road Rear Wheel",
         "2": "Wheels",
         "3": "357.0600"
        },
        {
         "0": "829",
         "1": "Touring Rear Wheel",
         "2": "Wheels",
         "3": "245.0100"
        },
        {
         "0": "815",
         "1": "LL Mountain Front Wheel",
         "2": "Wheels",
         "3": "60.7450"
        },
        {
         "0": "816",
         "1": "ML Mountain Front Wheel",
         "2": "Wheels",
         "3": "209.0250"
        },
        {
         "0": "817",
         "1": "HL Mountain Front Wheel",
         "2": "Wheels",
         "3": "300.2150"
        },
        {
         "0": "818",
         "1": "LL Road Front Wheel",
         "2": "Wheels",
         "3": "85.5650"
        },
        {
         "0": "819",
         "1": "ML Road Front Wheel",
         "2": "Wheels",
         "3": "248.3850"
        },
        {
         "0": "820",
         "1": "HL Road Front Wheel",
         "2": "Wheels",
         "3": "330.0600"
        },
        {
         "0": "821",
         "1": "Touring Front Wheel",
         "2": "Wheels",
         "3": "218.0100"
        },
        {
         "0": "855",
         "1": "Men's Bib-Shorts, S",
         "2": "Bib-Shorts",
         "3": "89.9900"
        },
        {
         "0": "856",
         "1": "Men's Bib-Shorts, M",
         "2": "Bib-Shorts",
         "3": "89.9900"
        },
        {
         "0": "857",
         "1": "Men's Bib-Shorts, L",
         "2": "Bib-Shorts",
         "3": "89.9900"
        },
        {
         "0": "712",
         "1": "AWC Logo Cap",
         "2": "Caps",
         "3": "8.9900"
        },
        {
         "0": "858",
         "1": "Half-Finger Gloves, S",
         "2": "Gloves",
         "3": "24.4900"
        },
        {
         "0": "859",
         "1": "Half-Finger Gloves, M",
         "2": "Gloves",
         "3": "24.4900"
        },
        {
         "0": "860",
         "1": "Half-Finger Gloves, L",
         "2": "Gloves",
         "3": "24.4900"
        },
        {
         "0": "861",
         "1": "Full-Finger Gloves, S",
         "2": "Gloves",
         "3": "37.9900"
        },
        {
         "0": "862",
         "1": "Full-Finger Gloves, M",
         "2": "Gloves",
         "3": "37.9900"
        },
        {
         "0": "863",
         "1": "Full-Finger Gloves, L",
         "2": "Gloves",
         "3": "37.9900"
        },
        {
         "0": "713",
         "1": "Long-Sleeve Logo Jersey, S",
         "2": "Jerseys",
         "3": "49.9900"
        },
        {
         "0": "714",
         "1": "Long-Sleeve Logo Jersey, M",
         "2": "Jerseys",
         "3": "49.9900"
        },
        {
         "0": "715",
         "1": "Long-Sleeve Logo Jersey, L",
         "2": "Jerseys",
         "3": "49.9900"
        },
        {
         "0": "716",
         "1": "Long-Sleeve Logo Jersey, XL",
         "2": "Jerseys",
         "3": "49.9900"
        },
        {
         "0": "881",
         "1": "Short-Sleeve Classic Jersey, S",
         "2": "Jerseys",
         "3": "53.9900"
        },
        {
         "0": "882",
         "1": "Short-Sleeve Classic Jersey, M",
         "2": "Jerseys",
         "3": "53.9900"
        },
        {
         "0": "883",
         "1": "Short-Sleeve Classic Jersey, L",
         "2": "Jerseys",
         "3": "53.9900"
        },
        {
         "0": "884",
         "1": "Short-Sleeve Classic Jersey, XL",
         "2": "Jerseys",
         "3": "53.9900"
        },
        {
         "0": "867",
         "1": "Women's Mountain Shorts, S",
         "2": "Shorts",
         "3": "69.9900"
        },
        {
         "0": "868",
         "1": "Women's Mountain Shorts, M",
         "2": "Shorts",
         "3": "69.9900"
        },
        {
         "0": "869",
         "1": "Women's Mountain Shorts, L",
         "2": "Shorts",
         "3": "69.9900"
        },
        {
         "0": "841",
         "1": "Men's Sports Shorts, S",
         "2": "Shorts",
         "3": "59.9900"
        },
        {
         "0": "849",
         "1": "Men's Sports Shorts, M",
         "2": "Shorts",
         "3": "59.9900"
        },
        {
         "0": "850",
         "1": "Men's Sports Shorts, L",
         "2": "Shorts",
         "3": "59.9900"
        },
        {
         "0": "851",
         "1": "Men's Sports Shorts, XL",
         "2": "Shorts",
         "3": "59.9900"
        },
        {
         "0": "709",
         "1": "Mountain Bike Socks, M",
         "2": "Socks",
         "3": "9.5000"
        },
        {
         "0": "710",
         "1": "Mountain Bike Socks, L",
         "2": "Socks",
         "3": "9.5000"
        },
        {
         "0": "874",
         "1": "Racing Socks, M",
         "2": "Socks",
         "3": "8.9900"
        },
        {
         "0": "875",
         "1": "Racing Socks, L",
         "2": "Socks",
         "3": "8.9900"
        },
        {
         "0": "852",
         "1": "Women's Tights, S",
         "2": "Tights",
         "3": "74.9900"
        },
        {
         "0": "853",
         "1": "Women's Tights, M",
         "2": "Tights",
         "3": "74.9900"
        },
        {
         "0": "854",
         "1": "Women's Tights, L",
         "2": "Tights",
         "3": "74.9900"
        },
        {
         "0": "864",
         "1": "Classic Vest, S",
         "2": "Vests",
         "3": "63.5000"
        },
        {
         "0": "865",
         "1": "Classic Vest, M",
         "2": "Vests",
         "3": "63.5000"
        },
        {
         "0": "866",
         "1": "Classic Vest, L",
         "2": "Vests",
         "3": "63.5000"
        },
        {
         "0": "876",
         "1": "Hitch Rack - 4-Bike",
         "2": "Bike Racks",
         "3": "120.0000"
        },
        {
         "0": "879",
         "1": "All-Purpose Bike Stand",
         "2": "Bike Stands",
         "3": "159.0000"
        },
        {
         "0": "870",
         "1": "Water Bottle - 30 oz.",
         "2": "Bottles and Cages",
         "3": "4.9900"
        },
        {
         "0": "871",
         "1": "Mountain Bottle Cage",
         "2": "Bottles and Cages",
         "3": "9.9900"
        },
        {
         "0": "872",
         "1": "Road Bottle Cage",
         "2": "Bottles and Cages",
         "3": "8.9900"
        },
        {
         "0": "877",
         "1": "Bike Wash - Dissolver",
         "2": "Cleaners",
         "3": "7.9500"
        },
        {
         "0": "878",
         "1": "Fender Set - Mountain",
         "2": "Fenders",
         "3": "21.9800"
        },
        {
         "0": "711",
         "1": "Sport-100 Helmet, Blue",
         "2": "Helmets",
         "3": "34.9900"
        },
        {
         "0": "707",
         "1": "Sport-100 Helmet, Red",
         "2": "Helmets",
         "3": "34.9900"
        },
        {
         "0": "708",
         "1": "Sport-100 Helmet, Black",
         "2": "Helmets",
         "3": "34.9900"
        },
        {
         "0": "880",
         "1": "Hydration Pack - 70 oz.",
         "2": "Hydration Packs",
         "3": "54.9900"
        },
        {
         "0": "846",
         "1": "Taillights - Battery-Powered",
         "2": "Lights",
         "3": "13.9900"
        },
        {
         "0": "847",
         "1": "Headlights - Dual-Beam",
         "2": "Lights",
         "3": "34.9900"
        },
        {
         "0": "848",
         "1": "Headlights - Weatherproof",
         "2": "Lights",
         "3": "44.9900"
        },
        {
         "0": "843",
         "1": "Cable Lock",
         "2": "Locks",
         "3": "25.0000"
        },
        {
         "0": "842",
         "1": "Touring-Panniers, Large",
         "2": "Panniers",
         "3": "125.0000"
        },
        {
         "0": "844",
         "1": "Minipump",
         "2": "Pumps",
         "3": "19.9900"
        },
        {
         "0": "845",
         "1": "Mountain Pump",
         "2": "Pumps",
         "3": "24.9900"
        },
        {
         "0": "873",
         "1": "Patch Kit/8 Patches",
         "2": "Tires and Tubes",
         "3": "2.2900"
        },
        {
         "0": "921",
         "1": "Mountain Tire Tube",
         "2": "Tires and Tubes",
         "3": "4.9900"
        },
        {
         "0": "922",
         "1": "Road Tire Tube",
         "2": "Tires and Tubes",
         "3": "3.9900"
        },
        {
         "0": "923",
         "1": "Touring Tire Tube",
         "2": "Tires and Tubes",
         "3": "4.9900"
        },
        {
         "0": "928",
         "1": "LL Mountain Tire",
         "2": "Tires and Tubes",
         "3": "24.9900"
        },
        {
         "0": "929",
         "1": "ML Mountain Tire",
         "2": "Tires and Tubes",
         "3": "29.9900"
        },
        {
         "0": "930",
         "1": "HL Mountain Tire",
         "2": "Tires and Tubes",
         "3": "35.0000"
        },
        {
         "0": "931",
         "1": "LL Road Tire",
         "2": "Tires and Tubes",
         "3": "21.4900"
        },
        {
         "0": "932",
         "1": "ML Road Tire",
         "2": "Tires and Tubes",
         "3": "24.9900"
        },
        {
         "0": "933",
         "1": "HL Road Tire",
         "2": "Tires and Tubes",
         "3": "32.6000"
        },
        {
         "0": "934",
         "1": "Touring Tire",
         "2": "Tires and Tubes",
         "3": "28.9900"
        }
       ],
       "schema": [
        {
         "key": "0",
         "name": "ProductID",
         "type": "string"
        },
        {
         "key": "1",
         "name": "ProductName",
         "type": "string"
        },
        {
         "key": "2",
         "name": "Category",
         "type": "string"
        },
        {
         "key": "3",
         "name": "ListPrice",
         "type": "string"
        }
       ],
       "truncated": false
      },
      "wranglerEntryContext": {
       "candidateVariableNames": [
        "result"
       ],
       "dataframeType": "pyspark"
      }
     },
     "type": "Synapse.DataFrame"
    }
   },
   "version": "0.1"
  }
 },
 "nbformat": 4,
 "nbformat_minor": 2
}
